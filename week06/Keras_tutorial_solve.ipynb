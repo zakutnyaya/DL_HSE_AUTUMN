{
 "cells": [
  {
   "cell_type": "markdown",
   "metadata": {},
   "source": [
    "## Keras\n",
    "\n",
    "Keras это высокоуровневая обертка над tensorflow. Но в текущих реализациях библиотеке tf они живут очень рядом. \n",
    "Когда мы собираем свои нейронки мы берем уже готовые слои из keras и добавляем что-то свое, если нам требуется.\n",
    "Но keras можно использовать без явного использования TF пытаясь свести задачу к fit-predict.\n"
   ]
  },
  {
   "cell_type": "markdown",
   "metadata": {},
   "source": [
    "### Sequential\n",
    "Самое простое, что мы можем сделать это собирать слои последовательно друг за другом - займемся же этим!"
   ]
  },
  {
   "cell_type": "code",
   "execution_count": 2,
   "metadata": {},
   "outputs": [],
   "source": [
    "from sklearn.model_selection import train_test_split\n",
    "\n",
    "import tensorflow as tf\n",
    "from tensorflow.keras import Sequential, layers as L # подгружаем нужные модули. \n",
    "import tensorflow.keras as keras\n",
    "import matplotlib.pyplot as plt"
   ]
  },
  {
   "cell_type": "code",
   "execution_count": 3,
   "metadata": {},
   "outputs": [],
   "source": [
    "# в keras лежит несколько наборов данных. Для примера возьмем fashion_mnist - как mnist, но про предметы одежды :)\n",
    "fashion_mnist = tf.keras.datasets.fashion_mnist\n",
    "\n",
    "(X_train, y_train), (X_test, y_test) = fashion_mnist.load_data()\n",
    "\n",
    "X_train, X_val, y_train, y_val = train_test_split(X_train, y_train, test_size=10**4, random_state=42)\n",
    "\n",
    "X_train = X_train/ 255.\n",
    "X_val = X_val/ 255.\n",
    "X_test = X_test/ 255.\n",
    "\n",
    "class_names = ['T-shirt/top', 'Trouser', 'Pullover', 'Dress', 'Coat',\n",
    "               'Sandal', 'Shirt', 'Sneaker', 'Bag', 'Ankle boot']"
   ]
  },
  {
   "cell_type": "code",
   "execution_count": 4,
   "metadata": {},
   "outputs": [
    {
     "data": {
      "text/plain": [
       "'T-shirt/top'"
      ]
     },
     "execution_count": 4,
     "metadata": {},
     "output_type": "execute_result"
    },
    {
     "data": {
      "image/png": "[encoded data removed]",
      "text/plain": [
       "<Figure size 432x288 with 1 Axes>"
      ]
     },
     "metadata": {
      "needs_background": "light"
     },
     "output_type": "display_data"
    }
   ],
   "source": [
    "plt.imshow(X_train[2])\n",
    "class_names[y_train[2]]"
   ]
  },
  {
   "cell_type": "code",
   "execution_count": 5,
   "metadata": {},
   "outputs": [
    {
     "data": {
      "text/plain": [
       "array([[0.        , 0.        , 0.        , 0.        , 0.        ,\n",
       "        0.        , 0.        , 0.        , 0.        , 0.        ,\n",
       "        0.        , 0.        , 0.        , 0.        , 0.        ,\n",
       "        0.        , 0.        , 0.        , 0.        , 0.        ,\n",
       "        0.        , 0.        , 0.        , 0.1254902 , 0.14509804,\n",
       "        0.        , 0.        , 0.        ],\n",
       "       [0.        , 0.        , 0.        , 0.        , 0.        ,\n",
       "        0.        , 0.        , 0.        , 0.        , 0.        ,\n",
       "        0.        , 0.        , 0.        , 0.        , 0.        ,\n",
       "        0.        , 0.        , 0.        , 0.        , 0.        ,\n",
       "        0.        , 0.        , 0.        , 0.34509804, 0.43921569,\n",
       "        0.        , 0.        , 0.        ],\n",
       "       [0.        , 0.        , 0.        , 0.        , 0.        ,\n",
       "        0.        , 0.        , 0.        , 0.        , 0.        ,\n",
       "        0.        , 0.00784314, 0.        , 0.00784314, 0.00784314,\n",
       "        0.        , 0.        , 0.        , 0.        , 0.        ,\n",
       "        0.        , 0.        , 0.02745098, 0.46666667, 0.28235294,\n",
       "        0.21960784, 0.        , 0.        ],\n",
       "       [0.        , 0.        , 0.        , 0.        , 0.        ,\n",
       "        0.        , 0.        , 0.        , 0.        , 0.        ,\n",
       "        0.        , 0.00784314, 0.        , 0.        , 0.        ,\n",
       "        0.        , 0.        , 0.00784314, 0.08235294, 0.09803922,\n",
       "        0.1254902 , 0.08235294, 0.52941176, 0.23529412, 0.        ,\n",
       "        0.54901961, 0.        , 0.        ],\n",
       "       [0.        , 0.        , 0.        , 0.        , 0.        ,\n",
       "        0.        , 0.        , 0.        , 0.        , 0.        ,\n",
       "        0.        , 0.        , 0.        , 0.03529412, 0.15294118,\n",
       "        0.22745098, 0.25490196, 0.31764706, 0.23529412, 0.37254902,\n",
       "        0.17254902, 0.4       , 0.54901961, 0.1254902 , 0.00784314,\n",
       "        0.54117647, 0.09019608, 0.        ],\n",
       "       [0.        , 0.        , 0.        , 0.        , 0.        ,\n",
       "        0.        , 0.        , 0.        , 0.        , 0.        ,\n",
       "        0.        , 0.        , 0.        , 0.4       , 0.49411765,\n",
       "        0.25490196, 0.08235294, 0.09803922, 0.09019608, 0.11764706,\n",
       "        0.        , 0.30196078, 0.63137255, 0.        , 0.39215686,\n",
       "        0.58431373, 0.09019608, 0.        ],\n",
       "       [0.        , 0.        , 0.        , 0.        , 0.        ,\n",
       "        0.        , 0.        , 0.        , 0.00784314, 0.        ,\n",
       "        0.        , 0.        , 0.02745098, 0.54901961, 0.41176471,\n",
       "        0.36470588, 0.49411765, 0.51372549, 0.65882353, 0.90588235,\n",
       "        0.67843137, 0.34509804, 0.71372549, 0.46666667, 0.00784314,\n",
       "        0.10980392, 0.        , 0.        ],\n",
       "       [0.        , 0.        , 0.        , 0.        , 0.        ,\n",
       "        0.        , 0.        , 0.        , 0.        , 0.        ,\n",
       "        0.        , 0.        , 0.        , 0.38431373, 0.51372549,\n",
       "        0.79607843, 0.52941176, 0.1372549 , 0.09803922, 0.        ,\n",
       "        0.52156863, 0.51372549, 0.37254902, 0.37254902, 0.07058824,\n",
       "        0.        , 0.        , 0.        ],\n",
       "       [0.        , 0.        , 0.        , 0.        , 0.        ,\n",
       "        0.        , 0.        , 0.        , 0.        , 0.        ,\n",
       "        0.        , 0.        , 0.        , 0.24705882, 0.59607843,\n",
       "        0.0627451 , 0.        , 0.        , 0.        , 0.        ,\n",
       "        0.00784314, 0.20784314, 0.23529412, 0.2745098 , 0.39215686,\n",
       "        0.11764706, 0.        , 0.00784314],\n",
       "       [0.        , 0.        , 0.        , 0.        , 0.        ,\n",
       "        0.        , 0.        , 0.        , 0.        , 0.        ,\n",
       "        0.        , 0.        , 0.09803922, 0.32941176, 0.        ,\n",
       "        0.        , 0.00784314, 0.        , 0.        , 0.        ,\n",
       "        0.1254902 , 0.14509804, 0.09803922, 0.28235294, 0.14509804,\n",
       "        0.50196078, 0.        , 0.        ],\n",
       "       [0.        , 0.        , 0.        , 0.        , 0.        ,\n",
       "        0.        , 0.        , 0.        , 0.        , 0.        ,\n",
       "        0.00784314, 0.        , 0.29019608, 0.03529412, 0.        ,\n",
       "        0.        , 0.        , 0.        , 0.        , 0.00784314,\n",
       "        0.2627451 , 0.08235294, 0.17254902, 0.03529412, 0.        ,\n",
       "        0.2       , 0.36470588, 0.04313725],\n",
       "       [0.        , 0.        , 0.        , 0.        , 0.        ,\n",
       "        0.        , 0.        , 0.        , 0.00784314, 0.        ,\n",
       "        0.        , 0.        , 0.17254902, 0.30980392, 0.        ,\n",
       "        0.        , 0.        , 0.        , 0.        , 0.16470588,\n",
       "        0.22745098, 0.16470588, 0.25490196, 0.08235294, 0.        ,\n",
       "        0.        , 0.37254902, 0.2       ],\n",
       "       [0.        , 0.        , 0.        , 0.        , 0.        ,\n",
       "        0.        , 0.        , 0.        , 0.        , 0.        ,\n",
       "        0.        , 0.        , 0.        , 0.34509804, 0.23529412,\n",
       "        0.        , 0.        , 0.        , 0.        , 0.2627451 ,\n",
       "        0.09803922, 0.10980392, 0.18039216, 0.        , 0.        ,\n",
       "        0.15294118, 0.62352941, 0.04313725],\n",
       "       [0.        , 0.        , 0.        , 0.        , 0.        ,\n",
       "        0.        , 0.        , 0.        , 0.        , 0.        ,\n",
       "        0.        , 0.        , 0.        , 0.        , 0.2627451 ,\n",
       "        0.2745098 , 0.00784314, 0.        , 0.        , 0.17254902,\n",
       "        0.08235294, 0.08235294, 0.2627451 , 0.31764706, 0.34509804,\n",
       "        0.58431373, 0.50196078, 0.        ],\n",
       "       [0.        , 0.        , 0.        , 0.        , 0.        ,\n",
       "        0.        , 0.        , 0.        , 0.        , 0.        ,\n",
       "        0.        , 0.        , 0.        , 0.        , 0.        ,\n",
       "        0.2627451 , 0.43921569, 0.09019608, 0.1254902 , 0.19215686,\n",
       "        0.22745098, 0.18039216, 0.23529412, 0.63921569, 0.41176471,\n",
       "        0.4       , 0.43921569, 0.        ],\n",
       "       [0.        , 0.        , 0.        , 0.        , 0.        ,\n",
       "        0.        , 0.        , 0.        , 0.        , 0.07058824,\n",
       "        0.31764706, 0.2       , 0.10980392, 0.11764706, 0.04313725,\n",
       "        0.04313725, 0.25490196, 0.23529412, 0.34509804, 0.23529412,\n",
       "        0.1372549 , 0.4       , 0.74901961, 0.44705882, 0.70588235,\n",
       "        0.4       , 0.3372549 , 0.        ],\n",
       "       [0.        , 0.        , 0.        , 0.        , 0.        ,\n",
       "        0.        , 0.        , 0.        , 0.        , 0.29019608,\n",
       "        0.25490196, 0.20784314, 0.19215686, 0.20784314, 0.16470588,\n",
       "        0.17254902, 0.15294118, 0.28235294, 0.29019608, 0.0627451 ,\n",
       "        0.48235294, 0.73333333, 0.0627451 , 0.        , 0.65098039,\n",
       "        0.50196078, 0.19215686, 0.        ],\n",
       "       [0.        , 0.        , 0.        , 0.        , 0.        ,\n",
       "        0.        , 0.        , 0.        , 0.        , 0.34509804,\n",
       "        0.0627451 , 0.        , 0.        , 0.        , 0.        ,\n",
       "        0.02745098, 0.        , 0.35686275, 0.15294118, 0.45490196,\n",
       "        0.71372549, 0.        , 0.        , 0.        , 0.51372549,\n",
       "        0.45490196, 0.14509804, 0.        ],\n",
       "       [0.        , 0.        , 0.        , 0.        , 0.        ,\n",
       "        0.        , 0.        , 0.        , 0.        , 0.21960784,\n",
       "        0.77647059, 0.61176471, 0.        , 0.        , 0.        ,\n",
       "        0.        , 0.0627451 , 0.2745098 , 0.20784314, 0.71372549,\n",
       "        0.        , 0.        , 0.        , 0.        , 0.3372549 ,\n",
       "        0.45490196, 0.11764706, 0.        ],\n",
       "       [0.        , 0.        , 0.        , 0.        , 0.        ,\n",
       "        0.        , 0.        , 0.        , 0.        , 0.10980392,\n",
       "        0.24705882, 0.58431373, 0.52156863, 0.01568627, 0.        ,\n",
       "        0.        , 0.46666667, 0.54901961, 0.56862745, 0.02745098,\n",
       "        0.        , 0.01568627, 0.00784314, 0.        , 0.2745098 ,\n",
       "        0.45490196, 0.07058824, 0.        ],\n",
       "       [0.        , 0.        , 0.        , 0.        , 0.        ,\n",
       "        0.        , 0.05490196, 0.16470588, 0.18039216, 0.15294118,\n",
       "        0.09019608, 0.08235294, 0.46666667, 0.41176471, 0.        ,\n",
       "        0.23529412, 0.38431373, 0.66666667, 0.04313725, 0.        ,\n",
       "        0.        , 0.00784314, 0.01568627, 0.        , 0.29019608,\n",
       "        0.45490196, 0.05490196, 0.        ],\n",
       "       [0.00784314, 0.        , 0.        , 0.        , 0.00784314,\n",
       "        0.39215686, 0.32941176, 0.30196078, 0.72156863, 0.9254902 ,\n",
       "        0.34509804, 0.08235294, 0.11764706, 0.30196078, 0.45490196,\n",
       "        0.24705882, 0.54117647, 0.57647059, 0.        , 0.        ,\n",
       "        0.        , 0.        , 0.00784314, 0.        , 0.24705882,\n",
       "        0.41960784, 0.01568627, 0.        ],\n",
       "       [0.        , 0.        , 0.        , 0.        , 0.01568627,\n",
       "        0.42745098, 0.24705882, 0.01568627, 0.02745098, 0.39215686,\n",
       "        0.21960784, 0.07058824, 0.09803922, 0.1372549 , 0.29019608,\n",
       "        0.44705882, 0.46666667, 0.        , 0.        , 0.        ,\n",
       "        0.        , 0.        , 0.01568627, 0.        , 0.23529412,\n",
       "        0.41176471, 0.00784314, 0.        ],\n",
       "       [0.00784314, 0.08235294, 0.32941176, 0.49411765, 0.09803922,\n",
       "        0.11764706, 0.77647059, 0.09019608, 0.01568627, 0.04313725,\n",
       "        0.09019608, 0.16470588, 0.15294118, 0.10980392, 0.02745098,\n",
       "        0.91372549, 0.08235294, 0.        , 0.        , 0.        ,\n",
       "        0.        , 0.        , 0.00784314, 0.        , 0.24705882,\n",
       "        0.41960784, 0.        , 0.        ],\n",
       "       [0.44705882, 0.54117647, 0.2745098 , 0.19215686, 0.15294118,\n",
       "        0.09019608, 0.84313725, 0.2745098 , 0.05490196, 0.10980392,\n",
       "        0.1372549 , 0.20784314, 0.23529412, 0.0627451 , 0.66666667,\n",
       "        0.37254902, 0.        , 0.00784314, 0.        , 0.        ,\n",
       "        0.        , 0.        , 0.00784314, 0.        , 0.28235294,\n",
       "        0.45490196, 0.00784314, 0.        ],\n",
       "       [0.05490196, 0.56862745, 0.73333333, 0.69411765, 0.54117647,\n",
       "        0.10980392, 0.45490196, 0.74117647, 0.09019608, 0.11764706,\n",
       "        0.19215686, 0.15294118, 0.05490196, 0.31764706, 0.79607843,\n",
       "        0.        , 0.        , 0.        , 0.        , 0.00784314,\n",
       "        0.        , 0.        , 0.00784314, 0.        , 0.11764706,\n",
       "        0.31764706, 0.        , 0.        ],\n",
       "       [0.        , 0.        , 0.09019608, 0.54901961, 0.76078431,\n",
       "        0.73333333, 0.55686275, 0.85882353, 0.67843137, 0.54901961,\n",
       "        0.46666667, 0.41176471, 0.4745098 , 0.70588235, 0.02745098,\n",
       "        0.        , 0.        , 0.        , 0.        , 0.        ,\n",
       "        0.        , 0.        , 0.01568627, 0.        , 0.37254902,\n",
       "        1.        , 0.        , 0.        ],\n",
       "       [0.        , 0.        , 0.        , 0.        , 0.        ,\n",
       "        0.        , 0.1254902 , 0.09803922, 0.31764706, 0.30196078,\n",
       "        0.4       , 0.41176471, 0.36470588, 0.03529412, 0.        ,\n",
       "        0.        , 0.        , 0.        , 0.        , 0.        ,\n",
       "        0.        , 0.        , 0.00784314, 0.        , 0.21960784,\n",
       "        0.68627451, 0.        , 0.        ]])"
      ]
     },
     "execution_count": 5,
     "metadata": {},
     "output_type": "execute_result"
    }
   ],
   "source": [
    "X_train[0,:,:]"
   ]
  },
  {
   "cell_type": "code",
   "execution_count": 8,
   "metadata": {},
   "outputs": [
    {
     "data": {
      "text/plain": [
       "array([5, 0, 0, ..., 6, 6, 1], dtype=uint8)"
      ]
     },
     "execution_count": 8,
     "metadata": {},
     "output_type": "execute_result"
    }
   ],
   "source": [
    "y_train"
   ]
  },
  {
   "cell_type": "code",
   "execution_count": 7,
   "metadata": {},
   "outputs": [],
   "source": [
    "# для того, чтобы учить через cross_entropy нам нужно сделать OHE таргетам. И эта функция есть в keras!\n",
    "from tensorflow.keras.utils import to_categorical\n",
    "\n",
    "y_train_ohe = to_categorical(y_train)\n",
    "y_test_ohe = to_categorical(y_test)\n",
    "y_val_ohe = to_categorical(y_val)\n"
   ]
  },
  {
   "cell_type": "code",
   "execution_count": 9,
   "metadata": {
    "scrolled": true
   },
   "outputs": [
    {
     "name": "stdout",
     "output_type": "stream",
     "text": [
      "Train on 50000 samples, validate on 10000 samples\n",
      "Epoch 1/2\n",
      "50000/50000 [==============================] - 1s 21us/sample - loss: 1.8986 - categorical_accuracy: 0.4763 - val_loss: 1.4738 - val_categorical_accuracy: 0.6307\n",
      "Epoch 2/2\n",
      "50000/50000 [==============================] - 0s 10us/sample - loss: 1.2020 - categorical_accuracy: 0.6655 - val_loss: 1.0251 - val_categorical_accuracy: 0.6802\n"
     ]
    }
   ],
   "source": [
    "## Первая простая нейронка\n",
    "\n",
    "tf.random.set_seed(42) # фиксируем random_seed\n",
    "\n",
    "model = Sequential(name = 'first_try')\n",
    "model.add(L.Input(shape = (28,28))) # входной нейрон с данными. Его обычно можно опускать, сразу передавая \n",
    "# в нейрон размерность. Но Dense ячейки не умеют работать с картинками, поэтому оставляем Input\n",
    "model.add(L.Flatten()) # разворачиваем картинку в вектор\n",
    "model.add(L.Dense(100,  kernel_initializer='random_normal',name='First')) # можно именовать и потом брать слои по именам\n",
    "model.add(L.ReLU()) # добавляем активацию\n",
    "model.add(L.Dense(10, kernel_initializer = 'random_normal',name='Output'))\n",
    "model.add(L.Softmax())\n",
    "opt = keras.optimizers.Adam(learning_rate=1e-4) # так же нам нужно указать оптимайзер\n",
    "model.compile(optimizer=opt,loss='categorical_crossentropy',\n",
    "             metrics=[\"categorical_accuracy\"]) # и собрать нашу модель, указав метрики,loss и оптимизатор\n",
    "\n",
    "\n",
    "history1 = model.fit(X_train,y_train_ohe,batch_size=500,epochs=2,validation_data = (X_val,y_val_ohe))\n",
    "# и процесс обучения. Задаем количество эпох, размер батча и валидационную часть наших данных\n"
   ]
  },
  {
   "cell_type": "code",
   "execution_count": 10,
   "metadata": {},
   "outputs": [
    {
     "data": {
      "text/plain": [
       "'2.1.0'"
      ]
     },
     "execution_count": 10,
     "metadata": {},
     "output_type": "execute_result"
    }
   ],
   "source": [
    "tf.__version__"
   ]
  },
  {
   "cell_type": "code",
   "execution_count": 14,
   "metadata": {},
   "outputs": [
    {
     "data": {
      "text/plain": [
       "{'loss': [1.8986167120933533, 1.2020430505275725],\n",
       " 'categorical_accuracy': [0.47632, 0.66554],\n",
       " 'val_loss': [1.4737698197364808, 1.025083103775978],\n",
       " 'val_categorical_accuracy': [0.6307, 0.6802]}"
      ]
     },
     "execution_count": 14,
     "metadata": {},
     "output_type": "execute_result"
    }
   ],
   "source": [
    "history1.history"
   ]
  },
  {
   "cell_type": "code",
   "execution_count": 22,
   "metadata": {
    "scrolled": true
   },
   "outputs": [
    {
     "data": {
      "text/plain": [
       "{'loss': [1.8986167120933533, 1.2020430505275725],\n",
       " 'categorical_accuracy': [0.47632, 0.66554],\n",
       " 'val_loss': [1.4737698197364808, 1.025083103775978],\n",
       " 'val_categorical_accuracy': [0.6307, 0.6802]}"
      ]
     },
     "execution_count": 22,
     "metadata": {},
     "output_type": "execute_result"
    }
   ],
   "source": [
    "history1.history"
   ]
  },
  {
   "cell_type": "code",
   "execution_count": 7,
   "metadata": {},
   "outputs": [
    {
     "name": "stdout",
     "output_type": "stream",
     "text": [
      "Train on 50000 samples, validate on 10000 samples\n",
      "Epoch 1/2\n",
      "50000/50000 [==============================] - 1s 15us/sample - loss: 1.8141 - categorical_accuracy: 0.4979 - val_loss: 1.3973 - val_categorical_accuracy: 0.6449\n",
      "Epoch 2/2\n",
      "50000/50000 [==============================] - 0s 8us/sample - loss: 1.1440 - categorical_accuracy: 0.6720 - val_loss: 0.9782 - val_categorical_accuracy: 0.6839\n"
     ]
    }
   ],
   "source": [
    "# Эту же модель можно записать чуть в меньшее количество строчек кода\n",
    "model = Sequential(name = 'first_try')\n",
    "model.add(L.Input(shape = (28,28))) \n",
    "model.add(L.Flatten()) \n",
    "model.add(L.Dense(100,  kernel_initializer='random_normal',name='First',activation='relu')) # можно именовать и потом брать слои по именам\n",
    "model.add(L.Dense(10, kernel_initializer = 'random_normal',name='Output',activation='softmax'))\n",
    "opt = keras.optimizers.Adam(learning_rate=1e-4) \n",
    "model.compile(optimizer=opt,loss='categorical_crossentropy',\n",
    "             metrics=[\"categorical_accuracy\"]) \n",
    "\n",
    "history1 = model.fit(X_train,y_train_ohe,batch_size=500,epochs=2,validation_data = (X_val,y_val_ohe))\n"
   ]
  },
  {
   "cell_type": "code",
   "execution_count": 15,
   "metadata": {},
   "outputs": [],
   "source": [
    "?L.Dense"
   ]
  },
  {
   "cell_type": "markdown",
   "metadata": {},
   "source": [
    "Из приятного - все в таком подходе можно кастомизировать под себя!\n",
    "Но пока продолжим рассмотрение о следующем подходе сборки моделей.\n",
    "Класс Sequential не дает нам вообще никакой гибкости, позволяя набирать слои только последовательно.\n",
    "Что же у нас есть новый герой  - Model.\n",
    "Он позволяет собирать сетки практически любой архитектуры"
   ]
  },
  {
   "cell_type": "code",
   "execution_count": 17,
   "metadata": {},
   "outputs": [],
   "source": [
    "from tensorflow.keras import Model  # подгружаем нужные модули. "
   ]
  },
  {
   "cell_type": "code",
   "execution_count": 18,
   "metadata": {},
   "outputs": [],
   "source": [
    "init = 'uniform'\n",
    "act = 'relu'\n",
    "\n",
    "input_tensor = L.Input(shape=(28, 28)) # задаем вход\n",
    "x = L.Flatten()(input_tensor)# применение нейрона к входу\n",
    "x = L.Dense(100, kernel_initializer=init, activation=act)(x) # повторяем всю логику сколько нам надо раз\n",
    "x = L.Dense(100, kernel_initializer=init, activation=act)(x)\n",
    "output_tensor = L.Dense(10, kernel_initializer=init, activation='softmax')(x)\n",
    "\n",
    "model = keras.Model(input_tensor, output_tensor) # Keras под капотом сам собирает граф.\n",
    "# Если он может получить из входа выхода то вы великолепны.\n",
    "\n",
    "model.compile(optimizer=opt,loss='categorical_crossentropy',\n",
    "             metrics=[\"categorical_accuracy\"]) "
   ]
  },
  {
   "cell_type": "code",
   "execution_count": 19,
   "metadata": {},
   "outputs": [
    {
     "name": "stdout",
     "output_type": "stream",
     "text": [
      "Train on 50000 samples, validate on 10000 samples\n",
      "Epoch 1/2\n",
      "50000/50000 [==============================] - 1s 20us/sample - loss: 1.7316 - categorical_accuracy: 0.4919 - val_loss: 1.1618 - val_categorical_accuracy: 0.6287\n",
      "Epoch 2/2\n",
      "50000/50000 [==============================] - 1s 12us/sample - loss: 0.9691 - categorical_accuracy: 0.6527 - val_loss: 0.8632 - val_categorical_accuracy: 0.6665\n"
     ]
    }
   ],
   "source": [
    "history = model.fit(X_train,y_train_ohe,batch_size=500,epochs=2,validation_data = (X_val,y_val_ohe))"
   ]
  },
  {
   "cell_type": "markdown",
   "metadata": {},
   "source": [
    "Такой подход позволяет делать практически любой гибкости нейронки. Как пример - двухголовая!"
   ]
  },
  {
   "cell_type": "code",
   "execution_count": 21,
   "metadata": {},
   "outputs": [
    {
     "name": "stdout",
     "output_type": "stream",
     "text": [
      "Model: \"model_2\"\n",
      "__________________________________________________________________________________________________\n",
      "Layer (type)                    Output Shape         Param #     Connected to                     \n",
      "==================================================================================================\n",
      "Input_1 (InputLayer)            [(None, 28, 28)]     0                                            \n",
      "__________________________________________________________________________________________________\n",
      "Input_2 (InputLayer)            [(None, 28, 28)]     0                                            \n",
      "__________________________________________________________________________________________________\n",
      "flatten_4 (Flatten)             (None, 784)          0           Input_1[0][0]                    \n",
      "__________________________________________________________________________________________________\n",
      "flatten_5 (Flatten)             (None, 784)          0           Input_2[0][0]                    \n",
      "__________________________________________________________________________________________________\n",
      "dense_7 (Dense)                 (None, 100)          78500       flatten_4[0][0]                  \n",
      "__________________________________________________________________________________________________\n",
      "dense_9 (Dense)                 (None, 100)          78500       flatten_5[0][0]                  \n",
      "__________________________________________________________________________________________________\n",
      "dense_8 (Dense)                 (None, 100)          10100       dense_7[0][0]                    \n",
      "__________________________________________________________________________________________________\n",
      "dense_10 (Dense)                (None, 100)          10100       dense_9[0][0]                    \n",
      "__________________________________________________________________________________________________\n",
      "concatenate_1 (Concatenate)     (None, 200)          0           dense_8[0][0]                    \n",
      "                                                                 dense_10[0][0]                   \n",
      "__________________________________________________________________________________________________\n",
      "out (Dense)                     (None, 10)           2010        concatenate_1[0][0]              \n",
      "==================================================================================================\n",
      "Total params: 179,210\n",
      "Trainable params: 179,210\n",
      "Non-trainable params: 0\n",
      "__________________________________________________________________________________________________\n"
     ]
    }
   ],
   "source": [
    "input_1 = L.Input(shape=(28, 28),name='Input_1')\n",
    "input_2 = L.Input(shape=(28, 28),name='Input_2')\n",
    "\n",
    "x1 = L.Flatten()(input_1)\n",
    "x1 = L.Dense(100, kernel_initializer=init, activation=act)(x1)\n",
    "x1 = L.Dense(100, kernel_initializer=init, activation=act)(x1)\n",
    "\n",
    "x2 = L.Flatten()(input_2)\n",
    "x2 = L.Dense(100, kernel_initializer=init, activation=act)(x2)\n",
    "x2 = L.Dense(100, kernel_initializer=init, activation=act)(x2)\n",
    "\n",
    "x = L.concatenate([x1, x2]) # Волшебное слово, которое позволяет нам соеденять несколько потоков наших данных\n",
    "output = L.Dense(10, kernel_initializer=init, activation='softmax',name='out')(x)\n",
    "\n",
    "model = keras.Model([input_1, input_2], output)\n",
    "model.summary()"
   ]
  },
  {
   "cell_type": "code",
   "execution_count": 22,
   "metadata": {},
   "outputs": [],
   "source": [
    "model.compile(optimizer=opt,loss='categorical_crossentropy',\n",
    "             metrics=[\"categorical_accuracy\"]) "
   ]
  },
  {
   "cell_type": "code",
   "execution_count": 23,
   "metadata": {},
   "outputs": [
    {
     "name": "stdout",
     "output_type": "stream",
     "text": [
      "Train on 50000 samples, validate on 10000 samples\n",
      "Epoch 1/2\n",
      "50000/50000 [==============================] - 1s 29us/sample - loss: 1.3629 - categorical_accuracy: 0.5865 - val_loss: 0.8267 - val_categorical_accuracy: 0.6792\n",
      "Epoch 2/2\n",
      "50000/50000 [==============================] - 1s 20us/sample - loss: 0.7145 - categorical_accuracy: 0.7403 - val_loss: 0.6616 - val_categorical_accuracy: 0.7659\n"
     ]
    }
   ],
   "source": [
    "history = model.fit([X_train,X_train],[y_train_ohe,..,..],batch_size=500,epochs=2,validation_data = ([X_val,X_val],y_val_ohe))"
   ]
  },
  {
   "cell_type": "code",
   "execution_count": 42,
   "metadata": {},
   "outputs": [],
   "source": [
    "# history = model.fit({'Input_1':X_train,'Input_2':X_train,'out':y_train_ohe},batch_size=500,epochs=2,validation_data = ([X_val,X_val],y_val_ohe))"
   ]
  },
  {
   "cell_type": "code",
   "execution_count": 24,
   "metadata": {},
   "outputs": [],
   "source": [
    "# нужно для винды, если не видит путь до graphviz\n",
    "import os\n",
    "os.environ[\"PATH\"] += os.pathsep + 'C:/Program Files (x86)/Graphviz2.38/bin/'\n",
    "from tensorflow.keras.utils import plot_model\n"
   ]
  },
  {
   "cell_type": "code",
   "execution_count": 25,
   "metadata": {},
   "outputs": [
    {
     "name": "stdout",
     "output_type": "stream",
     "text": [
      "Failed to import pydot. You must install pydot and graphviz for `pydotprint` to work.\n"
     ]
    }
   ],
   "source": [
    "plot_model(model) # можно нарисовать модельку"
   ]
  },
  {
   "cell_type": "markdown",
   "metadata": {},
   "source": [
    "## 4.2 Несколько выходов и функций потерь"
   ]
  },
  {
   "cell_type": "code",
   "execution_count": 43,
   "metadata": {},
   "outputs": [
    {
     "name": "stdout",
     "output_type": "stream",
     "text": [
      "Model: \"model_9\"\n",
      "__________________________________________________________________________________________________\n",
      "Layer (type)                    Output Shape         Param #     Connected to                     \n",
      "==================================================================================================\n",
      "input_13 (InputLayer)           [(None, 28, 28)]     0                                            \n",
      "__________________________________________________________________________________________________\n",
      "flatten_16 (Flatten)            (None, 784)          0           input_13[0][0]                   \n",
      "__________________________________________________________________________________________________\n",
      "dense_40 (Dense)                (None, 100)          78500       flatten_16[0][0]                 \n",
      "__________________________________________________________________________________________________\n",
      "dense_41 (Dense)                (None, 100)          78500       flatten_16[0][0]                 \n",
      "__________________________________________________________________________________________________\n",
      "dense_42 (Dense)                (None, 100)          78500       flatten_16[0][0]                 \n",
      "__________________________________________________________________________________________________\n",
      "gender (Dense)                  (None, 1)            101         dense_40[0][0]                   \n",
      "__________________________________________________________________________________________________\n",
      "income (Dense)                  (None, 10)           1010        dense_41[0][0]                   \n",
      "__________________________________________________________________________________________________\n",
      "age (Dense)                     (None, 1)            101         dense_42[0][0]                   \n",
      "==================================================================================================\n",
      "Total params: 236,712\n",
      "Trainable params: 236,712\n",
      "Non-trainable params: 0\n",
      "__________________________________________________________________________________________________\n"
     ]
    }
   ],
   "source": [
    "init = 'uniform'\n",
    "act = 'relu'\n",
    "\n",
    "input_tensor = L.Input(shape=(28, 28))\n",
    "\n",
    "x = L.Flatten()(input_tensor)\n",
    "x1 = L.Dense(100, kernel_initializer=init, activation=act)(x)\n",
    "x2 = L.Dense(100, kernel_initializer=init, activation=act)(x)\n",
    "x3 = L.Dense(100, kernel_initializer=init, activation=act)(x)\n",
    "\n",
    "output_1 = L.Dense(1, kernel_initializer=init, activation='sigmoid',name='gender')(x1)\n",
    "output_2 = L.Dense(10, kernel_initializer=init, activation='softmax',name='income')(x2)\n",
    "output_3 = L.Dense(1, kernel_initializer=init,name='age')(x3)\n",
    "\n",
    "model = keras.Model(input_tensor, [output_1, output_2, output_3])\n",
    "\n",
    "model.summary()"
   ]
  },
  {
   "cell_type": "code",
   "execution_count": 21,
   "metadata": {},
   "outputs": [],
   "source": [
    "# чтобы модель не переобучилась под самую большую функцию потерь\n",
    "# их можно взвесить\n",
    "model.compile(optimizer='adam', loss=['mse', 'categorical_crossentropy', 'binary_crossentropy'],\n",
    "                                    loss_weights=[0.25, 1., 10.])\n",
    "\n",
    "\n",
    "# если дали выходам имена, можно вот так: \n",
    "\n",
    "model.compile(optimizer='adam',\n",
    "\n",
    "              loss={'age': 'mse',\n",
    "                    'income': 'categorical_crossentropy',\n",
    "                    'gender': 'binary_crossentropy'},\n",
    "                    \n",
    "              loss_weights={'age': 0.25,\n",
    "                            'income': 1.,\n",
    "                            'gender': 10.})"
   ]
  },
  {
   "cell_type": "markdown",
   "metadata": {},
   "source": [
    "Помните статью про то, как люди рисовали функции потерь? [Теперь появилась галерея!](https://losslandscape.com/gallery/) Есть подход как skip-connection, он сильно меняет нашу функцию.\n",
    "\n",
    "![](https://i.stack.imgur.com/UDvbg.png)\n",
    "\n",
    "Такую модель нельзя собрать через `Sequence`-стиль, но можно через функциональный стиль. Давайте попробуем сделать это. Заодно посмотрим насколько сильно в нашей ситуации будет меняться траектория обучения. (Сравним обычный 6-ти слойный персептрон и с прокидыванием инфы, например со 2 слоя на 5ый). Ну и также сразу поэксперементируем с функциями активаций и batchnorm."
   ]
  },
  {
   "cell_type": "code",
   "execution_count": 29,
   "metadata": {
    "scrolled": true
   },
   "outputs": [
    {
     "name": "stdout",
     "output_type": "stream",
     "text": [
      "Train on 50000 samples, validate on 10000 samples\n",
      "Epoch 1/100\n",
      "50000/50000 [==============================] - 1s 14us/sample - loss: 1.5032 - categorical_accuracy: 0.5423 - val_loss: 1.1158 - val_categorical_accuracy: 0.6625\n",
      "Epoch 2/100\n",
      "50000/50000 [==============================] - 0s 9us/sample - loss: 1.0000 - categorical_accuracy: 0.6889 - val_loss: 0.9364 - val_categorical_accuracy: 0.6992\n",
      "Epoch 3/100\n",
      "50000/50000 [==============================] - 0s 8us/sample - loss: 0.8778 - categorical_accuracy: 0.7185 - val_loss: 0.8535 - val_categorical_accuracy: 0.7211\n",
      "Epoch 4/100\n",
      "50000/50000 [==============================] - 0s 8us/sample - loss: 0.8105 - categorical_accuracy: 0.7379 - val_loss: 0.8011 - val_categorical_accuracy: 0.7396\n",
      "Epoch 5/100\n",
      "50000/50000 [==============================] - 0s 8us/sample - loss: 0.7652 - categorical_accuracy: 0.7538 - val_loss: 0.7633 - val_categorical_accuracy: 0.7548\n",
      "Epoch 6/100\n",
      "50000/50000 [==============================] - 0s 9us/sample - loss: 0.7313 - categorical_accuracy: 0.7640 - val_loss: 0.7343 - val_categorical_accuracy: 0.7607\n",
      "Epoch 7/100\n",
      "50000/50000 [==============================] - 0s 10us/sample - loss: 0.7047 - categorical_accuracy: 0.7727 - val_loss: 0.7106 - val_categorical_accuracy: 0.7712\n",
      "Epoch 8/100\n",
      "50000/50000 [==============================] - 0s 9us/sample - loss: 0.6828 - categorical_accuracy: 0.7798 - val_loss: 0.6912 - val_categorical_accuracy: 0.7743\n",
      "Epoch 9/100\n",
      "50000/50000 [==============================] - 0s 9us/sample - loss: 0.6644 - categorical_accuracy: 0.7851 - val_loss: 0.6742 - val_categorical_accuracy: 0.7801\n",
      "Epoch 10/100\n",
      "50000/50000 [==============================] - 0s 8us/sample - loss: 0.6486 - categorical_accuracy: 0.7911 - val_loss: 0.6601 - val_categorical_accuracy: 0.7827\n",
      "Epoch 11/100\n",
      "50000/50000 [==============================] - 0s 9us/sample - loss: 0.6347 - categorical_accuracy: 0.7949 - val_loss: 0.6472 - val_categorical_accuracy: 0.7861\n",
      "Epoch 12/100\n",
      "50000/50000 [==============================] - 0s 10us/sample - loss: 0.6224 - categorical_accuracy: 0.7985 - val_loss: 0.6357 - val_categorical_accuracy: 0.7910\n",
      "Epoch 13/100\n",
      "50000/50000 [==============================] - 0s 9us/sample - loss: 0.6114 - categorical_accuracy: 0.8018 - val_loss: 0.6259 - val_categorical_accuracy: 0.7931\n",
      "Epoch 14/100\n",
      "50000/50000 [==============================] - 0s 10us/sample - loss: 0.6018 - categorical_accuracy: 0.8048 - val_loss: 0.6162 - val_categorical_accuracy: 0.7962\n",
      "Epoch 15/100\n",
      "50000/50000 [==============================] - 0s 9us/sample - loss: 0.5927 - categorical_accuracy: 0.8069 - val_loss: 0.6080 - val_categorical_accuracy: 0.7988\n",
      "Epoch 16/100\n",
      "50000/50000 [==============================] - 0s 9us/sample - loss: 0.5845 - categorical_accuracy: 0.8098 - val_loss: 0.6000 - val_categorical_accuracy: 0.8028\n",
      "Epoch 17/100\n",
      "50000/50000 [==============================] - 0s 9us/sample - loss: 0.5771 - categorical_accuracy: 0.8112 - val_loss: 0.5929 - val_categorical_accuracy: 0.8042\n",
      "Epoch 18/100\n",
      "50000/50000 [==============================] - 1s 11us/sample - loss: 0.5701 - categorical_accuracy: 0.8139 - val_loss: 0.5863 - val_categorical_accuracy: 0.8076\n",
      "Epoch 19/100\n",
      "50000/50000 [==============================] - 0s 9us/sample - loss: 0.5639 - categorical_accuracy: 0.8145 - val_loss: 0.5800 - val_categorical_accuracy: 0.8095\n",
      "Epoch 20/100\n",
      "50000/50000 [==============================] - 0s 8us/sample - loss: 0.5578 - categorical_accuracy: 0.8169 - val_loss: 0.5742 - val_categorical_accuracy: 0.8118\n",
      "Epoch 21/100\n",
      "50000/50000 [==============================] - 0s 8us/sample - loss: 0.5521 - categorical_accuracy: 0.8186 - val_loss: 0.5690 - val_categorical_accuracy: 0.8130\n",
      "Epoch 22/100\n",
      "50000/50000 [==============================] - 0s 8us/sample - loss: 0.5470 - categorical_accuracy: 0.8201 - val_loss: 0.5639 - val_categorical_accuracy: 0.8144\n",
      "Epoch 23/100\n",
      "50000/50000 [==============================] - 0s 8us/sample - loss: 0.5420 - categorical_accuracy: 0.8214 - val_loss: 0.5591 - val_categorical_accuracy: 0.8170\n",
      "Epoch 24/100\n",
      "50000/50000 [==============================] - 0s 9us/sample - loss: 0.5374 - categorical_accuracy: 0.8227 - val_loss: 0.5549 - val_categorical_accuracy: 0.8167\n",
      "Epoch 25/100\n",
      "50000/50000 [==============================] - 0s 9us/sample - loss: 0.5332 - categorical_accuracy: 0.8250 - val_loss: 0.5509 - val_categorical_accuracy: 0.8178\n",
      "Epoch 26/100\n",
      "50000/50000 [==============================] - 0s 10us/sample - loss: 0.5289 - categorical_accuracy: 0.8256 - val_loss: 0.5468 - val_categorical_accuracy: 0.8200\n",
      "Epoch 27/100\n",
      "50000/50000 [==============================] - 0s 10us/sample - loss: 0.5250 - categorical_accuracy: 0.8268 - val_loss: 0.5427 - val_categorical_accuracy: 0.8214\n",
      "Epoch 28/100\n",
      "50000/50000 [==============================] - 0s 9us/sample - loss: 0.5213 - categorical_accuracy: 0.8281 - val_loss: 0.5392 - val_categorical_accuracy: 0.8202\n",
      "Epoch 29/100\n",
      "50000/50000 [==============================] - 0s 8us/sample - loss: 0.5177 - categorical_accuracy: 0.8297 - val_loss: 0.5361 - val_categorical_accuracy: 0.8223\n",
      "Epoch 30/100\n",
      "50000/50000 [==============================] - 0s 8us/sample - loss: 0.5145 - categorical_accuracy: 0.8297 - val_loss: 0.5330 - val_categorical_accuracy: 0.8236\n",
      "Epoch 31/100\n",
      "50000/50000 [==============================] - 0s 9us/sample - loss: 0.5111 - categorical_accuracy: 0.8313 - val_loss: 0.5296 - val_categorical_accuracy: 0.8227\n",
      "Epoch 32/100\n",
      "50000/50000 [==============================] - 0s 10us/sample - loss: 0.5082 - categorical_accuracy: 0.8319 - val_loss: 0.5262 - val_categorical_accuracy: 0.8252\n",
      "Epoch 33/100\n",
      "50000/50000 [==============================] - 0s 10us/sample - loss: 0.5052 - categorical_accuracy: 0.8329 - val_loss: 0.5232 - val_categorical_accuracy: 0.8250\n",
      "Epoch 34/100\n",
      "50000/50000 [==============================] - 0s 9us/sample - loss: 0.5023 - categorical_accuracy: 0.8341 - val_loss: 0.5206 - val_categorical_accuracy: 0.8263\n",
      "Epoch 35/100\n",
      "50000/50000 [==============================] - 0s 9us/sample - loss: 0.4996 - categorical_accuracy: 0.8349 - val_loss: 0.5179 - val_categorical_accuracy: 0.8261\n",
      "Epoch 36/100\n",
      "50000/50000 [==============================] - 0s 8us/sample - loss: 0.4971 - categorical_accuracy: 0.8356 - val_loss: 0.5155 - val_categorical_accuracy: 0.8273\n",
      "Epoch 37/100\n",
      "50000/50000 [==============================] - 0s 10us/sample - loss: 0.4947 - categorical_accuracy: 0.8362 - val_loss: 0.5129 - val_categorical_accuracy: 0.8272\n",
      "Epoch 38/100\n",
      "50000/50000 [==============================] - 0s 10us/sample - loss: 0.4923 - categorical_accuracy: 0.8368 - val_loss: 0.5105 - val_categorical_accuracy: 0.8292\n",
      "Epoch 39/100\n",
      "50000/50000 [==============================] - 0s 9us/sample - loss: 0.4899 - categorical_accuracy: 0.8376 - val_loss: 0.5083 - val_categorical_accuracy: 0.8291\n",
      "Epoch 40/100\n",
      "50000/50000 [==============================] - 0s 8us/sample - loss: 0.4878 - categorical_accuracy: 0.8390 - val_loss: 0.5061 - val_categorical_accuracy: 0.8294\n",
      "Epoch 41/100\n",
      "50000/50000 [==============================] - 0s 8us/sample - loss: 0.4855 - categorical_accuracy: 0.8389 - val_loss: 0.5041 - val_categorical_accuracy: 0.8299\n",
      "Epoch 42/100\n",
      "50000/50000 [==============================] - 0s 9us/sample - loss: 0.4836 - categorical_accuracy: 0.8403 - val_loss: 0.5020 - val_categorical_accuracy: 0.8303\n",
      "Epoch 43/100\n",
      "50000/50000 [==============================] - 1s 10us/sample - loss: 0.4815 - categorical_accuracy: 0.8406 - val_loss: 0.5002 - val_categorical_accuracy: 0.8318\n",
      "Epoch 44/100\n",
      "50000/50000 [==============================] - 0s 9us/sample - loss: 0.4796 - categorical_accuracy: 0.8409 - val_loss: 0.4981 - val_categorical_accuracy: 0.8313\n",
      "Epoch 45/100\n",
      "50000/50000 [==============================] - 0s 9us/sample - loss: 0.4777 - categorical_accuracy: 0.8417 - val_loss: 0.4964 - val_categorical_accuracy: 0.8323\n",
      "Epoch 46/100\n",
      "50000/50000 [==============================] - 0s 8us/sample - loss: 0.4759 - categorical_accuracy: 0.8425 - val_loss: 0.4946 - val_categorical_accuracy: 0.8334\n",
      "Epoch 47/100\n",
      "50000/50000 [==============================] - 0s 9us/sample - loss: 0.4741 - categorical_accuracy: 0.8433 - val_loss: 0.4933 - val_categorical_accuracy: 0.8332\n"
     ]
    },
    {
     "name": "stdout",
     "output_type": "stream",
     "text": [
      "Epoch 48/100\n",
      "50000/50000 [==============================] - 0s 8us/sample - loss: 0.4726 - categorical_accuracy: 0.8435 - val_loss: 0.4910 - val_categorical_accuracy: 0.8346\n",
      "Epoch 49/100\n",
      "50000/50000 [==============================] - 0s 8us/sample - loss: 0.4707 - categorical_accuracy: 0.8433 - val_loss: 0.4903 - val_categorical_accuracy: 0.8346\n",
      "Epoch 50/100\n",
      "50000/50000 [==============================] - 0s 10us/sample - loss: 0.4695 - categorical_accuracy: 0.8444 - val_loss: 0.4886 - val_categorical_accuracy: 0.8333\n",
      "Epoch 51/100\n",
      "50000/50000 [==============================] - 0s 8us/sample - loss: 0.4678 - categorical_accuracy: 0.8449 - val_loss: 0.4865 - val_categorical_accuracy: 0.8361\n",
      "Epoch 52/100\n",
      "50000/50000 [==============================] - 0s 8us/sample - loss: 0.4662 - categorical_accuracy: 0.8451 - val_loss: 0.4854 - val_categorical_accuracy: 0.8355\n",
      "Epoch 53/100\n",
      "50000/50000 [==============================] - 0s 8us/sample - loss: 0.4646 - categorical_accuracy: 0.8453 - val_loss: 0.4836 - val_categorical_accuracy: 0.8361\n",
      "Epoch 54/100\n",
      "50000/50000 [==============================] - 0s 8us/sample - loss: 0.4633 - categorical_accuracy: 0.8458 - val_loss: 0.4828 - val_categorical_accuracy: 0.8357\n",
      "Epoch 55/100\n",
      "50000/50000 [==============================] - 0s 8us/sample - loss: 0.4621 - categorical_accuracy: 0.8464 - val_loss: 0.4812 - val_categorical_accuracy: 0.8367\n",
      "Epoch 56/100\n",
      "50000/50000 [==============================] - 0s 8us/sample - loss: 0.4607 - categorical_accuracy: 0.8467 - val_loss: 0.4801 - val_categorical_accuracy: 0.8368\n",
      "Epoch 57/100\n",
      "50000/50000 [==============================] - 0s 8us/sample - loss: 0.4592 - categorical_accuracy: 0.8467 - val_loss: 0.4785 - val_categorical_accuracy: 0.8366\n",
      "Epoch 58/100\n",
      "50000/50000 [==============================] - 0s 8us/sample - loss: 0.4580 - categorical_accuracy: 0.8478 - val_loss: 0.4772 - val_categorical_accuracy: 0.8366\n",
      "Epoch 59/100\n",
      "50000/50000 [==============================] - 0s 8us/sample - loss: 0.4568 - categorical_accuracy: 0.8484 - val_loss: 0.4764 - val_categorical_accuracy: 0.8371\n",
      "Epoch 60/100\n",
      "50000/50000 [==============================] - 0s 8us/sample - loss: 0.4556 - categorical_accuracy: 0.8484 - val_loss: 0.4752 - val_categorical_accuracy: 0.8383\n",
      "Epoch 61/100\n",
      "50000/50000 [==============================] - 0s 8us/sample - loss: 0.4544 - categorical_accuracy: 0.8488 - val_loss: 0.4738 - val_categorical_accuracy: 0.8378\n",
      "Epoch 62/100\n",
      "50000/50000 [==============================] - 0s 8us/sample - loss: 0.4534 - categorical_accuracy: 0.8488 - val_loss: 0.4729 - val_categorical_accuracy: 0.8389\n",
      "Epoch 63/100\n",
      "50000/50000 [==============================] - 0s 8us/sample - loss: 0.4522 - categorical_accuracy: 0.8496 - val_loss: 0.4720 - val_categorical_accuracy: 0.8384\n",
      "Epoch 64/100\n",
      "50000/50000 [==============================] - 0s 8us/sample - loss: 0.4510 - categorical_accuracy: 0.8501 - val_loss: 0.4708 - val_categorical_accuracy: 0.8389\n",
      "Epoch 65/100\n",
      "50000/50000 [==============================] - 0s 8us/sample - loss: 0.4501 - categorical_accuracy: 0.8499 - val_loss: 0.4696 - val_categorical_accuracy: 0.8392\n",
      "Epoch 66/100\n",
      "50000/50000 [==============================] - 0s 8us/sample - loss: 0.4489 - categorical_accuracy: 0.8507 - val_loss: 0.4687 - val_categorical_accuracy: 0.8396\n",
      "Epoch 67/100\n",
      "50000/50000 [==============================] - 0s 8us/sample - loss: 0.4479 - categorical_accuracy: 0.8508 - val_loss: 0.4677 - val_categorical_accuracy: 0.8391\n",
      "Epoch 68/100\n",
      "50000/50000 [==============================] - 0s 8us/sample - loss: 0.4470 - categorical_accuracy: 0.8508 - val_loss: 0.4666 - val_categorical_accuracy: 0.8392\n",
      "Epoch 69/100\n",
      "50000/50000 [==============================] - 0s 8us/sample - loss: 0.4460 - categorical_accuracy: 0.8509 - val_loss: 0.4666 - val_categorical_accuracy: 0.8398\n",
      "Epoch 70/100\n",
      "50000/50000 [==============================] - 0s 8us/sample - loss: 0.4452 - categorical_accuracy: 0.8513 - val_loss: 0.4649 - val_categorical_accuracy: 0.8399\n",
      "Epoch 71/100\n",
      "50000/50000 [==============================] - 0s 8us/sample - loss: 0.4442 - categorical_accuracy: 0.8519 - val_loss: 0.4642 - val_categorical_accuracy: 0.8400\n",
      "Epoch 72/100\n",
      "50000/50000 [==============================] - 0s 8us/sample - loss: 0.4431 - categorical_accuracy: 0.8520 - val_loss: 0.4633 - val_categorical_accuracy: 0.8410\n",
      "Epoch 73/100\n",
      "50000/50000 [==============================] - 0s 8us/sample - loss: 0.4426 - categorical_accuracy: 0.8524 - val_loss: 0.4626 - val_categorical_accuracy: 0.8408\n",
      "Epoch 74/100\n",
      "50000/50000 [==============================] - 0s 8us/sample - loss: 0.4415 - categorical_accuracy: 0.8525 - val_loss: 0.4617 - val_categorical_accuracy: 0.8422\n",
      "Epoch 75/100\n",
      "50000/50000 [==============================] - 0s 9us/sample - loss: 0.4407 - categorical_accuracy: 0.8529 - val_loss: 0.4612 - val_categorical_accuracy: 0.8424\n",
      "Epoch 76/100\n",
      "50000/50000 [==============================] - 0s 8us/sample - loss: 0.4398 - categorical_accuracy: 0.8528 - val_loss: 0.4601 - val_categorical_accuracy: 0.8423\n",
      "Epoch 77/100\n",
      "50000/50000 [==============================] - 0s 8us/sample - loss: 0.4390 - categorical_accuracy: 0.8532 - val_loss: 0.4592 - val_categorical_accuracy: 0.8421\n",
      "Epoch 78/100\n",
      "50000/50000 [==============================] - 0s 8us/sample - loss: 0.4381 - categorical_accuracy: 0.8533 - val_loss: 0.4586 - val_categorical_accuracy: 0.8428\n",
      "Epoch 79/100\n",
      "50000/50000 [==============================] - 0s 8us/sample - loss: 0.4376 - categorical_accuracy: 0.8536 - val_loss: 0.4579 - val_categorical_accuracy: 0.8422\n",
      "Epoch 80/100\n",
      "50000/50000 [==============================] - 0s 8us/sample - loss: 0.4367 - categorical_accuracy: 0.8537 - val_loss: 0.4570 - val_categorical_accuracy: 0.8426\n",
      "Epoch 81/100\n",
      "50000/50000 [==============================] - 0s 9us/sample - loss: 0.4360 - categorical_accuracy: 0.8536 - val_loss: 0.4564 - val_categorical_accuracy: 0.8424\n",
      "Epoch 82/100\n",
      "50000/50000 [==============================] - 0s 8us/sample - loss: 0.4351 - categorical_accuracy: 0.8544 - val_loss: 0.4562 - val_categorical_accuracy: 0.8434\n",
      "Epoch 83/100\n",
      "50000/50000 [==============================] - 0s 9us/sample - loss: 0.4345 - categorical_accuracy: 0.8548 - val_loss: 0.4552 - val_categorical_accuracy: 0.8431\n",
      "Epoch 84/100\n",
      "50000/50000 [==============================] - 0s 8us/sample - loss: 0.4338 - categorical_accuracy: 0.8547 - val_loss: 0.4544 - val_categorical_accuracy: 0.8433\n",
      "Epoch 85/100\n",
      "50000/50000 [==============================] - 0s 8us/sample - loss: 0.4331 - categorical_accuracy: 0.8547 - val_loss: 0.4538 - val_categorical_accuracy: 0.8434\n",
      "Epoch 86/100\n",
      "50000/50000 [==============================] - 0s 8us/sample - loss: 0.4324 - categorical_accuracy: 0.8547 - val_loss: 0.4532 - val_categorical_accuracy: 0.8442\n",
      "Epoch 87/100\n",
      "50000/50000 [==============================] - 0s 8us/sample - loss: 0.4316 - categorical_accuracy: 0.8552 - val_loss: 0.4526 - val_categorical_accuracy: 0.8444\n",
      "Epoch 88/100\n",
      "50000/50000 [==============================] - 0s 8us/sample - loss: 0.4312 - categorical_accuracy: 0.8554 - val_loss: 0.4523 - val_categorical_accuracy: 0.8445\n",
      "Epoch 89/100\n",
      "50000/50000 [==============================] - 0s 9us/sample - loss: 0.4304 - categorical_accuracy: 0.8557 - val_loss: 0.4515 - val_categorical_accuracy: 0.8444\n",
      "Epoch 90/100\n",
      "50000/50000 [==============================] - 0s 8us/sample - loss: 0.4298 - categorical_accuracy: 0.8553 - val_loss: 0.4506 - val_categorical_accuracy: 0.8443\n",
      "Epoch 91/100\n",
      "50000/50000 [==============================] - 0s 8us/sample - loss: 0.4292 - categorical_accuracy: 0.8559 - val_loss: 0.4502 - val_categorical_accuracy: 0.8448\n",
      "Epoch 92/100\n",
      "50000/50000 [==============================] - 0s 8us/sample - loss: 0.4285 - categorical_accuracy: 0.8560 - val_loss: 0.4499 - val_categorical_accuracy: 0.8447\n",
      "Epoch 93/100\n",
      "50000/50000 [==============================] - 0s 8us/sample - loss: 0.4280 - categorical_accuracy: 0.8562 - val_loss: 0.4493 - val_categorical_accuracy: 0.8449\n",
      "Epoch 94/100\n",
      "50000/50000 [==============================] - 0s 9us/sample - loss: 0.4273 - categorical_accuracy: 0.8559 - val_loss: 0.4491 - val_categorical_accuracy: 0.8449\n",
      "Epoch 95/100\n"
     ]
    },
    {
     "name": "stdout",
     "output_type": "stream",
     "text": [
      "50000/50000 [==============================] - 0s 8us/sample - loss: 0.4268 - categorical_accuracy: 0.8566 - val_loss: 0.4491 - val_categorical_accuracy: 0.8451\n",
      "Epoch 96/100\n",
      "50000/50000 [==============================] - 0s 9us/sample - loss: 0.4263 - categorical_accuracy: 0.8565 - val_loss: 0.4481 - val_categorical_accuracy: 0.8460\n",
      "Epoch 97/100\n",
      "50000/50000 [==============================] - 0s 9us/sample - loss: 0.4257 - categorical_accuracy: 0.8565 - val_loss: 0.4472 - val_categorical_accuracy: 0.8457\n",
      "Epoch 98/100\n",
      "50000/50000 [==============================] - 0s 8us/sample - loss: 0.4251 - categorical_accuracy: 0.8573 - val_loss: 0.4469 - val_categorical_accuracy: 0.8458\n",
      "Epoch 99/100\n",
      "50000/50000 [==============================] - 0s 8us/sample - loss: 0.4247 - categorical_accuracy: 0.8568 - val_loss: 0.4467 - val_categorical_accuracy: 0.8451\n",
      "Epoch 100/100\n",
      "50000/50000 [==============================] - 0s 8us/sample - loss: 0.4240 - categorical_accuracy: 0.8573 - val_loss: 0.4457 - val_categorical_accuracy: 0.8465\n"
     ]
    }
   ],
   "source": [
    "## Соберите с батчнормом и релу\n",
    "# history_simple_BN_and_init\n",
    "\n",
    "\n",
    "init = 'he_uniform'\n",
    "act = 'relu'\n",
    "\n",
    "input_tensor = L.Input(shape=(28, 28)) # задаем вход\n",
    "x = L.Flatten()(input_tensor)# применение нейрона к входу\n",
    "x1 = L.Dense(100, kernel_initializer=init, activation=act)(x)\n",
    "x1 = L.BatchNormalization()(x1)\n",
    "x2 = L.Dense(100, kernel_initializer=init, activation=act)(x1)\n",
    "x3 = L.Dense(100, kernel_initializer=init, activation=act)(x2) # повторяем всю логику сколько нам надо раз\n",
    "x4 = L.Dense(100, kernel_initializer=init, activation=act)(x3)\n",
    "x4 = L.BatchNormalization()(x4)\n",
    "x5 = L.Dense(100, kernel_initializer=init, activation=act)(x4)\n",
    "output_tensor = L.Dense(10, kernel_initializer=init, activation='softmax')(x)\n",
    "\n",
    "simple_BN_and_init = keras.Model(input_tensor, output_tensor) # Keras под капотом сам собирает граф.\n",
    "# Если он может получить из входа выхода то вы великолепны.\n",
    "\n",
    "simple_BN_and_init.compile(optimizer=opt,loss='categorical_crossentropy',\n",
    "             metrics=[\"categorical_accuracy\"]) \n",
    "\n",
    "history_simple_BN_and_init = simple_BN_and_init.fit(X_train,y_train_ohe,\n",
    "                                                    batch_size=500,\n",
    "                                                    epochs=100,validation_data = (X_val,y_val_ohe))\n"
   ]
  },
  {
   "cell_type": "code",
   "execution_count": 33,
   "metadata": {
    "scrolled": true
   },
   "outputs": [
    {
     "name": "stdout",
     "output_type": "stream",
     "text": [
      "Train on 50000 samples, validate on 10000 samples\n",
      "Epoch 1/100\n",
      "50000/50000 [==============================] - 1s 15us/sample - loss: 1.4291 - categorical_accuracy: 0.5510 - val_loss: 1.0116 - val_categorical_accuracy: 0.6976\n",
      "Epoch 2/100\n",
      "50000/50000 [==============================] - 0s 9us/sample - loss: 0.9045 - categorical_accuracy: 0.7236 - val_loss: 0.8541 - val_categorical_accuracy: 0.7298\n",
      "Epoch 3/100\n",
      "50000/50000 [==============================] - 0s 8us/sample - loss: 0.7993 - categorical_accuracy: 0.7513 - val_loss: 0.7839 - val_categorical_accuracy: 0.7507\n",
      "Epoch 4/100\n",
      "50000/50000 [==============================] - 0s 8us/sample - loss: 0.7432 - categorical_accuracy: 0.7662 - val_loss: 0.7403 - val_categorical_accuracy: 0.7633\n",
      "Epoch 5/100\n",
      "50000/50000 [==============================] - 0s 8us/sample - loss: 0.7062 - categorical_accuracy: 0.7765 - val_loss: 0.7096 - val_categorical_accuracy: 0.7704\n",
      "Epoch 6/100\n",
      "50000/50000 [==============================] - 0s 9us/sample - loss: 0.6787 - categorical_accuracy: 0.7840 - val_loss: 0.6860 - val_categorical_accuracy: 0.7802\n",
      "Epoch 7/100\n",
      "50000/50000 [==============================] - 0s 9us/sample - loss: 0.6574 - categorical_accuracy: 0.7908 - val_loss: 0.6665 - val_categorical_accuracy: 0.7855\n",
      "Epoch 8/100\n",
      "50000/50000 [==============================] - 0s 9us/sample - loss: 0.6398 - categorical_accuracy: 0.7961 - val_loss: 0.6510 - val_categorical_accuracy: 0.7882\n",
      "Epoch 9/100\n",
      "50000/50000 [==============================] - 0s 9us/sample - loss: 0.6251 - categorical_accuracy: 0.8003 - val_loss: 0.6370 - val_categorical_accuracy: 0.7938\n",
      "Epoch 10/100\n",
      "50000/50000 [==============================] - 0s 9us/sample - loss: 0.6124 - categorical_accuracy: 0.8033 - val_loss: 0.6258 - val_categorical_accuracy: 0.7952\n",
      "Epoch 11/100\n",
      "50000/50000 [==============================] - 0s 9us/sample - loss: 0.6014 - categorical_accuracy: 0.8061 - val_loss: 0.6156 - val_categorical_accuracy: 0.7970\n",
      "Epoch 12/100\n",
      "50000/50000 [==============================] - 0s 9us/sample - loss: 0.5915 - categorical_accuracy: 0.8087 - val_loss: 0.6061 - val_categorical_accuracy: 0.8010\n",
      "Epoch 13/100\n",
      "50000/50000 [==============================] - 0s 9us/sample - loss: 0.5827 - categorical_accuracy: 0.8112 - val_loss: 0.5984 - val_categorical_accuracy: 0.8024\n",
      "Epoch 14/100\n",
      "50000/50000 [==============================] - 0s 9us/sample - loss: 0.5752 - categorical_accuracy: 0.8131 - val_loss: 0.5902 - val_categorical_accuracy: 0.8053\n",
      "Epoch 15/100\n",
      "50000/50000 [==============================] - 0s 9us/sample - loss: 0.5677 - categorical_accuracy: 0.8153 - val_loss: 0.5837 - val_categorical_accuracy: 0.8067\n",
      "Epoch 16/100\n",
      "50000/50000 [==============================] - 0s 9us/sample - loss: 0.5612 - categorical_accuracy: 0.8172 - val_loss: 0.5772 - val_categorical_accuracy: 0.8097\n",
      "Epoch 17/100\n",
      "50000/50000 [==============================] - 0s 9us/sample - loss: 0.5553 - categorical_accuracy: 0.8184 - val_loss: 0.5714 - val_categorical_accuracy: 0.8115\n",
      "Epoch 18/100\n",
      "50000/50000 [==============================] - 0s 9us/sample - loss: 0.5495 - categorical_accuracy: 0.8211 - val_loss: 0.5661 - val_categorical_accuracy: 0.8128\n",
      "Epoch 19/100\n",
      "50000/50000 [==============================] - 0s 9us/sample - loss: 0.5445 - categorical_accuracy: 0.8218 - val_loss: 0.5610 - val_categorical_accuracy: 0.8146\n",
      "Epoch 20/100\n",
      "50000/50000 [==============================] - 0s 10us/sample - loss: 0.5396 - categorical_accuracy: 0.8232 - val_loss: 0.5561 - val_categorical_accuracy: 0.8154\n",
      "Epoch 21/100\n",
      "50000/50000 [==============================] - 0s 9us/sample - loss: 0.5350 - categorical_accuracy: 0.8248 - val_loss: 0.5520 - val_categorical_accuracy: 0.8171\n",
      "Epoch 22/100\n",
      "50000/50000 [==============================] - 0s 9us/sample - loss: 0.5307 - categorical_accuracy: 0.8258 - val_loss: 0.5478 - val_categorical_accuracy: 0.8169\n",
      "Epoch 23/100\n",
      "50000/50000 [==============================] - 0s 9us/sample - loss: 0.5266 - categorical_accuracy: 0.8274 - val_loss: 0.5437 - val_categorical_accuracy: 0.8182\n",
      "Epoch 24/100\n",
      "50000/50000 [==============================] - 0s 8us/sample - loss: 0.5228 - categorical_accuracy: 0.8290 - val_loss: 0.5403 - val_categorical_accuracy: 0.8205\n",
      "Epoch 25/100\n",
      "50000/50000 [==============================] - 0s 9us/sample - loss: 0.5193 - categorical_accuracy: 0.8299 - val_loss: 0.5370 - val_categorical_accuracy: 0.8199\n",
      "Epoch 26/100\n",
      "50000/50000 [==============================] - 0s 8us/sample - loss: 0.5158 - categorical_accuracy: 0.8306 - val_loss: 0.5336 - val_categorical_accuracy: 0.8225\n",
      "Epoch 27/100\n",
      "50000/50000 [==============================] - 0s 8us/sample - loss: 0.5125 - categorical_accuracy: 0.8314 - val_loss: 0.5300 - val_categorical_accuracy: 0.8220\n",
      "Epoch 28/100\n",
      "50000/50000 [==============================] - 0s 9us/sample - loss: 0.5094 - categorical_accuracy: 0.8323 - val_loss: 0.5271 - val_categorical_accuracy: 0.8232\n",
      "Epoch 29/100\n",
      "50000/50000 [==============================] - 0s 8us/sample - loss: 0.5063 - categorical_accuracy: 0.8331 - val_loss: 0.5246 - val_categorical_accuracy: 0.8245\n",
      "Epoch 30/100\n",
      "50000/50000 [==============================] - 0s 9us/sample - loss: 0.5036 - categorical_accuracy: 0.8344 - val_loss: 0.5220 - val_categorical_accuracy: 0.8246\n",
      "Epoch 31/100\n",
      "50000/50000 [==============================] - 0s 8us/sample - loss: 0.5007 - categorical_accuracy: 0.8345 - val_loss: 0.5190 - val_categorical_accuracy: 0.8262\n",
      "Epoch 32/100\n",
      "50000/50000 [==============================] - 0s 8us/sample - loss: 0.4983 - categorical_accuracy: 0.8357 - val_loss: 0.5163 - val_categorical_accuracy: 0.8279\n",
      "Epoch 33/100\n",
      "50000/50000 [==============================] - 0s 8us/sample - loss: 0.4957 - categorical_accuracy: 0.8367 - val_loss: 0.5136 - val_categorical_accuracy: 0.8279\n",
      "Epoch 34/100\n",
      "50000/50000 [==============================] - 0s 8us/sample - loss: 0.4932 - categorical_accuracy: 0.8371 - val_loss: 0.5114 - val_categorical_accuracy: 0.8279\n",
      "Epoch 35/100\n",
      "50000/50000 [==============================] - 0s 8us/sample - loss: 0.4909 - categorical_accuracy: 0.8381 - val_loss: 0.5090 - val_categorical_accuracy: 0.8288\n",
      "Epoch 36/100\n",
      "50000/50000 [==============================] - 0s 8us/sample - loss: 0.4887 - categorical_accuracy: 0.8385 - val_loss: 0.5070 - val_categorical_accuracy: 0.8288\n",
      "Epoch 37/100\n",
      "50000/50000 [==============================] - 0s 8us/sample - loss: 0.4867 - categorical_accuracy: 0.8391 - val_loss: 0.5048 - val_categorical_accuracy: 0.8305\n",
      "Epoch 38/100\n",
      "50000/50000 [==============================] - 0s 8us/sample - loss: 0.4846 - categorical_accuracy: 0.8399 - val_loss: 0.5027 - val_categorical_accuracy: 0.8306\n",
      "Epoch 39/100\n",
      "50000/50000 [==============================] - 0s 8us/sample - loss: 0.4824 - categorical_accuracy: 0.8406 - val_loss: 0.5007 - val_categorical_accuracy: 0.8302\n",
      "Epoch 40/100\n",
      "50000/50000 [==============================] - 0s 8us/sample - loss: 0.4806 - categorical_accuracy: 0.8406 - val_loss: 0.4989 - val_categorical_accuracy: 0.8316\n",
      "Epoch 41/100\n",
      "50000/50000 [==============================] - 0s 8us/sample - loss: 0.4786 - categorical_accuracy: 0.8413 - val_loss: 0.4972 - val_categorical_accuracy: 0.8320\n",
      "Epoch 42/100\n",
      "50000/50000 [==============================] - 0s 8us/sample - loss: 0.4769 - categorical_accuracy: 0.8420 - val_loss: 0.4953 - val_categorical_accuracy: 0.8319\n",
      "Epoch 43/100\n",
      "50000/50000 [==============================] - 0s 9us/sample - loss: 0.4751 - categorical_accuracy: 0.8421 - val_loss: 0.4937 - val_categorical_accuracy: 0.8327\n",
      "Epoch 44/100\n",
      "50000/50000 [==============================] - 0s 8us/sample - loss: 0.4734 - categorical_accuracy: 0.8428 - val_loss: 0.4918 - val_categorical_accuracy: 0.8331\n",
      "Epoch 45/100\n",
      "50000/50000 [==============================] - 0s 9us/sample - loss: 0.4716 - categorical_accuracy: 0.8432 - val_loss: 0.4904 - val_categorical_accuracy: 0.8335\n",
      "Epoch 46/100\n",
      "50000/50000 [==============================] - 0s 8us/sample - loss: 0.4701 - categorical_accuracy: 0.8436 - val_loss: 0.4888 - val_categorical_accuracy: 0.8335\n",
      "Epoch 47/100\n",
      "50000/50000 [==============================] - 0s 8us/sample - loss: 0.4684 - categorical_accuracy: 0.8439 - val_loss: 0.4876 - val_categorical_accuracy: 0.8346\n"
     ]
    },
    {
     "name": "stdout",
     "output_type": "stream",
     "text": [
      "Epoch 48/100\n",
      "50000/50000 [==============================] - 0s 8us/sample - loss: 0.4671 - categorical_accuracy: 0.8449 - val_loss: 0.4855 - val_categorical_accuracy: 0.8345\n",
      "Epoch 49/100\n",
      "50000/50000 [==============================] - 0s 8us/sample - loss: 0.4654 - categorical_accuracy: 0.8448 - val_loss: 0.4849 - val_categorical_accuracy: 0.8350\n",
      "Epoch 50/100\n",
      "50000/50000 [==============================] - 0s 8us/sample - loss: 0.4644 - categorical_accuracy: 0.8456 - val_loss: 0.4835 - val_categorical_accuracy: 0.8341\n",
      "Epoch 51/100\n",
      "50000/50000 [==============================] - 0s 8us/sample - loss: 0.4628 - categorical_accuracy: 0.8458 - val_loss: 0.4816 - val_categorical_accuracy: 0.8356\n",
      "Epoch 52/100\n",
      "50000/50000 [==============================] - 0s 8us/sample - loss: 0.4614 - categorical_accuracy: 0.8471 - val_loss: 0.4806 - val_categorical_accuracy: 0.8341\n",
      "Epoch 53/100\n",
      "50000/50000 [==============================] - 0s 8us/sample - loss: 0.4598 - categorical_accuracy: 0.8468 - val_loss: 0.4789 - val_categorical_accuracy: 0.8362\n",
      "Epoch 54/100\n",
      "50000/50000 [==============================] - 0s 9us/sample - loss: 0.4587 - categorical_accuracy: 0.8469 - val_loss: 0.4783 - val_categorical_accuracy: 0.8345\n",
      "Epoch 55/100\n",
      "50000/50000 [==============================] - 0s 8us/sample - loss: 0.4576 - categorical_accuracy: 0.8475 - val_loss: 0.4768 - val_categorical_accuracy: 0.8355\n",
      "Epoch 56/100\n",
      "50000/50000 [==============================] - 0s 9us/sample - loss: 0.4563 - categorical_accuracy: 0.8478 - val_loss: 0.4759 - val_categorical_accuracy: 0.8357\n",
      "Epoch 57/100\n",
      "50000/50000 [==============================] - 0s 9us/sample - loss: 0.4551 - categorical_accuracy: 0.8481 - val_loss: 0.4744 - val_categorical_accuracy: 0.8358\n",
      "Epoch 58/100\n",
      "50000/50000 [==============================] - 0s 9us/sample - loss: 0.4538 - categorical_accuracy: 0.8482 - val_loss: 0.4732 - val_categorical_accuracy: 0.8362\n",
      "Epoch 59/100\n",
      "50000/50000 [==============================] - 0s 8us/sample - loss: 0.4528 - categorical_accuracy: 0.8489 - val_loss: 0.4724 - val_categorical_accuracy: 0.8377\n",
      "Epoch 60/100\n",
      "50000/50000 [==============================] - 0s 8us/sample - loss: 0.4517 - categorical_accuracy: 0.8489 - val_loss: 0.4714 - val_categorical_accuracy: 0.8372\n",
      "Epoch 61/100\n",
      "50000/50000 [==============================] - 0s 8us/sample - loss: 0.4506 - categorical_accuracy: 0.8497 - val_loss: 0.4701 - val_categorical_accuracy: 0.8367\n",
      "Epoch 62/100\n",
      "50000/50000 [==============================] - 0s 8us/sample - loss: 0.4497 - categorical_accuracy: 0.8493 - val_loss: 0.4693 - val_categorical_accuracy: 0.8370\n",
      "Epoch 63/100\n",
      "50000/50000 [==============================] - 0s 8us/sample - loss: 0.4486 - categorical_accuracy: 0.8498 - val_loss: 0.4684 - val_categorical_accuracy: 0.8364\n",
      "Epoch 64/100\n",
      "50000/50000 [==============================] - 0s 8us/sample - loss: 0.4475 - categorical_accuracy: 0.8504 - val_loss: 0.4674 - val_categorical_accuracy: 0.8377\n",
      "Epoch 65/100\n",
      "50000/50000 [==============================] - 0s 8us/sample - loss: 0.4466 - categorical_accuracy: 0.8502 - val_loss: 0.4663 - val_categorical_accuracy: 0.8391\n",
      "Epoch 66/100\n",
      "50000/50000 [==============================] - 0s 8us/sample - loss: 0.4456 - categorical_accuracy: 0.8505 - val_loss: 0.4654 - val_categorical_accuracy: 0.8383\n",
      "Epoch 67/100\n",
      "50000/50000 [==============================] - 0s 8us/sample - loss: 0.4447 - categorical_accuracy: 0.8511 - val_loss: 0.4645 - val_categorical_accuracy: 0.8383\n",
      "Epoch 68/100\n",
      "50000/50000 [==============================] - 0s 8us/sample - loss: 0.4438 - categorical_accuracy: 0.8514 - val_loss: 0.4635 - val_categorical_accuracy: 0.8379\n",
      "Epoch 69/100\n",
      "50000/50000 [==============================] - 0s 8us/sample - loss: 0.4428 - categorical_accuracy: 0.8513 - val_loss: 0.4636 - val_categorical_accuracy: 0.8374\n",
      "Epoch 70/100\n",
      "50000/50000 [==============================] - 0s 8us/sample - loss: 0.4421 - categorical_accuracy: 0.8520 - val_loss: 0.4620 - val_categorical_accuracy: 0.8388\n",
      "Epoch 71/100\n",
      "50000/50000 [==============================] - 0s 8us/sample - loss: 0.4411 - categorical_accuracy: 0.8522 - val_loss: 0.4613 - val_categorical_accuracy: 0.8390\n",
      "Epoch 72/100\n",
      "50000/50000 [==============================] - 0s 8us/sample - loss: 0.4401 - categorical_accuracy: 0.8521 - val_loss: 0.4605 - val_categorical_accuracy: 0.8391\n",
      "Epoch 73/100\n",
      "50000/50000 [==============================] - 0s 8us/sample - loss: 0.4397 - categorical_accuracy: 0.8521 - val_loss: 0.4598 - val_categorical_accuracy: 0.8393\n",
      "Epoch 74/100\n",
      "50000/50000 [==============================] - 0s 8us/sample - loss: 0.4387 - categorical_accuracy: 0.8529 - val_loss: 0.4590 - val_categorical_accuracy: 0.8409\n",
      "Epoch 75/100\n",
      "50000/50000 [==============================] - 0s 9us/sample - loss: 0.4379 - categorical_accuracy: 0.8530 - val_loss: 0.4586 - val_categorical_accuracy: 0.8402\n",
      "Epoch 76/100\n",
      "50000/50000 [==============================] - 0s 8us/sample - loss: 0.4371 - categorical_accuracy: 0.8529 - val_loss: 0.4575 - val_categorical_accuracy: 0.8407\n",
      "Epoch 77/100\n",
      "50000/50000 [==============================] - 0s 8us/sample - loss: 0.4363 - categorical_accuracy: 0.8530 - val_loss: 0.4568 - val_categorical_accuracy: 0.8413\n",
      "Epoch 78/100\n",
      "50000/50000 [==============================] - 0s 8us/sample - loss: 0.4355 - categorical_accuracy: 0.8536 - val_loss: 0.4562 - val_categorical_accuracy: 0.8411\n",
      "Epoch 79/100\n",
      "50000/50000 [==============================] - 0s 8us/sample - loss: 0.4350 - categorical_accuracy: 0.8537 - val_loss: 0.4555 - val_categorical_accuracy: 0.8419\n",
      "Epoch 80/100\n",
      "50000/50000 [==============================] - 0s 8us/sample - loss: 0.4342 - categorical_accuracy: 0.8534 - val_loss: 0.4547 - val_categorical_accuracy: 0.8409\n",
      "Epoch 81/100\n",
      "50000/50000 [==============================] - 0s 9us/sample - loss: 0.4335 - categorical_accuracy: 0.8542 - val_loss: 0.4541 - val_categorical_accuracy: 0.8429\n",
      "Epoch 82/100\n",
      "50000/50000 [==============================] - 0s 9us/sample - loss: 0.4326 - categorical_accuracy: 0.8543 - val_loss: 0.4540 - val_categorical_accuracy: 0.8427\n",
      "Epoch 83/100\n",
      "50000/50000 [==============================] - 0s 9us/sample - loss: 0.4321 - categorical_accuracy: 0.8543 - val_loss: 0.4530 - val_categorical_accuracy: 0.8427\n",
      "Epoch 84/100\n",
      "50000/50000 [==============================] - 0s 9us/sample - loss: 0.4315 - categorical_accuracy: 0.8547 - val_loss: 0.4523 - val_categorical_accuracy: 0.8430\n",
      "Epoch 85/100\n",
      "50000/50000 [==============================] - 0s 9us/sample - loss: 0.4307 - categorical_accuracy: 0.8548 - val_loss: 0.4518 - val_categorical_accuracy: 0.8424\n",
      "Epoch 86/100\n",
      "50000/50000 [==============================] - 0s 9us/sample - loss: 0.4301 - categorical_accuracy: 0.8551 - val_loss: 0.4512 - val_categorical_accuracy: 0.8432\n",
      "Epoch 87/100\n",
      "50000/50000 [==============================] - 0s 9us/sample - loss: 0.4294 - categorical_accuracy: 0.8553 - val_loss: 0.4506 - val_categorical_accuracy: 0.8434\n",
      "Epoch 88/100\n",
      "50000/50000 [==============================] - 0s 9us/sample - loss: 0.4290 - categorical_accuracy: 0.8558 - val_loss: 0.4503 - val_categorical_accuracy: 0.8435\n",
      "Epoch 89/100\n",
      "50000/50000 [==============================] - 0s 8us/sample - loss: 0.4282 - categorical_accuracy: 0.8559 - val_loss: 0.4495 - val_categorical_accuracy: 0.8444\n",
      "Epoch 90/100\n",
      "50000/50000 [==============================] - 0s 8us/sample - loss: 0.4277 - categorical_accuracy: 0.8557 - val_loss: 0.4487 - val_categorical_accuracy: 0.8437\n",
      "Epoch 91/100\n",
      "50000/50000 [==============================] - 0s 8us/sample - loss: 0.4271 - categorical_accuracy: 0.8562 - val_loss: 0.4484 - val_categorical_accuracy: 0.8449\n",
      "Epoch 92/100\n",
      "50000/50000 [==============================] - 0s 8us/sample - loss: 0.4264 - categorical_accuracy: 0.8560 - val_loss: 0.4481 - val_categorical_accuracy: 0.8441\n",
      "Epoch 93/100\n",
      "50000/50000 [==============================] - 0s 8us/sample - loss: 0.4260 - categorical_accuracy: 0.8561 - val_loss: 0.4475 - val_categorical_accuracy: 0.8455\n",
      "Epoch 94/100\n",
      "50000/50000 [==============================] - 0s 8us/sample - loss: 0.4253 - categorical_accuracy: 0.8558 - val_loss: 0.4474 - val_categorical_accuracy: 0.8437\n",
      "Epoch 95/100\n"
     ]
    },
    {
     "name": "stdout",
     "output_type": "stream",
     "text": [
      "50000/50000 [==============================] - 0s 8us/sample - loss: 0.4248 - categorical_accuracy: 0.8564 - val_loss: 0.4474 - val_categorical_accuracy: 0.8459\n",
      "Epoch 96/100\n",
      "50000/50000 [==============================] - 0s 8us/sample - loss: 0.4244 - categorical_accuracy: 0.8569 - val_loss: 0.4465 - val_categorical_accuracy: 0.8451\n",
      "Epoch 97/100\n",
      "50000/50000 [==============================] - 0s 8us/sample - loss: 0.4238 - categorical_accuracy: 0.8568 - val_loss: 0.4455 - val_categorical_accuracy: 0.8462\n",
      "Epoch 98/100\n",
      "50000/50000 [==============================] - 0s 8us/sample - loss: 0.4232 - categorical_accuracy: 0.8574 - val_loss: 0.4453 - val_categorical_accuracy: 0.8459\n",
      "Epoch 99/100\n",
      "50000/50000 [==============================] - 0s 8us/sample - loss: 0.4228 - categorical_accuracy: 0.8568 - val_loss: 0.4450 - val_categorical_accuracy: 0.8450\n",
      "Epoch 100/100\n",
      "50000/50000 [==============================] - 0s 8us/sample - loss: 0.4222 - categorical_accuracy: 0.8575 - val_loss: 0.4442 - val_categorical_accuracy: 0.8448\n"
     ]
    }
   ],
   "source": [
    "## Соберите ну и наконец прокидывание данных\n",
    "## Соберите с батчнормом и релу\n",
    "# прокидываем данные со 2ого слоя на 5ый\n",
    "\n",
    "\n",
    "init = 'he_uniform'\n",
    "act = 'relu'\n",
    "\n",
    "input_tensor = L.Input(shape=(28, 28)) # задаем вход\n",
    "x = L.Flatten()(input_tensor)# применение нейрона к входу\n",
    "x1 = L.Dense(100, kernel_initializer=init, activation=act)(x)\n",
    "x1 = L.BatchNormalization()(x1)\n",
    "x2 = L.Dense(100, kernel_initializer=init, activation=act)(x1)\n",
    "x3 = L.Dense(100, kernel_initializer=init, activation=act)(x2) # повторяем всю логику сколько нам надо раз\n",
    "x4 = L.Dense(100, kernel_initializer=init, activation=act)(x3)\n",
    "x4 = L.BatchNormalization()(x4)\n",
    "x4 = L.concatenate([x2,x4])\n",
    "\n",
    "x5 = L.Dense(100, kernel_initializer=init, activation=act)(x4)\n",
    "output_tensor = L.Dense(10, kernel_initializer=init, activation='softmax')(x)\n",
    "\n",
    "model_complex_first = keras.Model(input_tensor, output_tensor) # Keras под капотом сам собирает граф.\n",
    "# Если он может получить из входа выхода то вы великолепны.\n",
    "\n",
    "model_complex_first.compile(optimizer=opt,loss='categorical_crossentropy',\n",
    "             metrics=[\"categorical_accuracy\"]) \n",
    "\n",
    "history_complex_first = model_complex_first.fit(X_train,y_train_ohe,\n",
    "                                                    batch_size=500,\n",
    "                                                    epochs=100,validation_data = (X_val,y_val_ohe))\n",
    "\n",
    "\n"
   ]
  },
  {
   "cell_type": "code",
   "execution_count": 34,
   "metadata": {
    "scrolled": true
   },
   "outputs": [
    {
     "name": "stdout",
     "output_type": "stream",
     "text": [
      "Train on 50000 samples, validate on 10000 samples\n",
      "Epoch 1/100\n",
      "50000/50000 [==============================] - 1s 17us/sample - loss: 1.2855 - categorical_accuracy: 0.6127 - val_loss: 0.9382 - val_categorical_accuracy: 0.7180\n",
      "Epoch 2/100\n",
      "50000/50000 [==============================] - 0s 8us/sample - loss: 0.8505 - categorical_accuracy: 0.7398 - val_loss: 0.8096 - val_categorical_accuracy: 0.7468\n",
      "Epoch 3/100\n",
      "50000/50000 [==============================] - 0s 8us/sample - loss: 0.7625 - categorical_accuracy: 0.7617 - val_loss: 0.7501 - val_categorical_accuracy: 0.7608\n",
      "Epoch 4/100\n",
      "50000/50000 [==============================] - 0s 8us/sample - loss: 0.7139 - categorical_accuracy: 0.7742 - val_loss: 0.7123 - val_categorical_accuracy: 0.7728\n",
      "Epoch 5/100\n",
      "50000/50000 [==============================] - 0s 8us/sample - loss: 0.6813 - categorical_accuracy: 0.7844 - val_loss: 0.6853 - val_categorical_accuracy: 0.7796\n",
      "Epoch 6/100\n",
      "50000/50000 [==============================] - 0s 9us/sample - loss: 0.6569 - categorical_accuracy: 0.7911 - val_loss: 0.6643 - val_categorical_accuracy: 0.7866\n",
      "Epoch 7/100\n",
      "50000/50000 [==============================] - 0s 9us/sample - loss: 0.6378 - categorical_accuracy: 0.7950 - val_loss: 0.6469 - val_categorical_accuracy: 0.7922\n",
      "Epoch 8/100\n",
      "50000/50000 [==============================] - 0s 9us/sample - loss: 0.6219 - categorical_accuracy: 0.8003 - val_loss: 0.6331 - val_categorical_accuracy: 0.7957\n",
      "Epoch 9/100\n",
      "50000/50000 [==============================] - 0s 10us/sample - loss: 0.6087 - categorical_accuracy: 0.8029 - val_loss: 0.6205 - val_categorical_accuracy: 0.7981\n",
      "Epoch 10/100\n",
      "50000/50000 [==============================] - 0s 9us/sample - loss: 0.5972 - categorical_accuracy: 0.8066 - val_loss: 0.6105 - val_categorical_accuracy: 0.8003\n",
      "Epoch 11/100\n",
      "50000/50000 [==============================] - 0s 9us/sample - loss: 0.5871 - categorical_accuracy: 0.8091 - val_loss: 0.6012 - val_categorical_accuracy: 0.8035\n",
      "Epoch 12/100\n",
      "50000/50000 [==============================] - 0s 8us/sample - loss: 0.5782 - categorical_accuracy: 0.8108 - val_loss: 0.5926 - val_categorical_accuracy: 0.8057\n",
      "Epoch 13/100\n",
      "50000/50000 [==============================] - 0s 9us/sample - loss: 0.5702 - categorical_accuracy: 0.8131 - val_loss: 0.5856 - val_categorical_accuracy: 0.8082\n",
      "Epoch 14/100\n",
      "50000/50000 [==============================] - 0s 9us/sample - loss: 0.5632 - categorical_accuracy: 0.8153 - val_loss: 0.5782 - val_categorical_accuracy: 0.8093\n",
      "Epoch 15/100\n",
      "50000/50000 [==============================] - 0s 9us/sample - loss: 0.5565 - categorical_accuracy: 0.8172 - val_loss: 0.5723 - val_categorical_accuracy: 0.8118\n",
      "Epoch 16/100\n",
      "50000/50000 [==============================] - 0s 10us/sample - loss: 0.5505 - categorical_accuracy: 0.8185 - val_loss: 0.5663 - val_categorical_accuracy: 0.8135\n",
      "Epoch 17/100\n",
      "50000/50000 [==============================] - 0s 8us/sample - loss: 0.5450 - categorical_accuracy: 0.8200 - val_loss: 0.5611 - val_categorical_accuracy: 0.8151\n",
      "Epoch 18/100\n",
      "50000/50000 [==============================] - 0s 8us/sample - loss: 0.5397 - categorical_accuracy: 0.8220 - val_loss: 0.5563 - val_categorical_accuracy: 0.8175\n",
      "Epoch 19/100\n",
      "50000/50000 [==============================] - 0s 8us/sample - loss: 0.5352 - categorical_accuracy: 0.8232 - val_loss: 0.5515 - val_categorical_accuracy: 0.8192\n",
      "Epoch 20/100\n",
      "50000/50000 [==============================] - 0s 8us/sample - loss: 0.5306 - categorical_accuracy: 0.8250 - val_loss: 0.5471 - val_categorical_accuracy: 0.8207\n",
      "Epoch 21/100\n",
      "50000/50000 [==============================] - 0s 9us/sample - loss: 0.5264 - categorical_accuracy: 0.8261 - val_loss: 0.5433 - val_categorical_accuracy: 0.8216\n",
      "Epoch 22/100\n",
      "50000/50000 [==============================] - 1s 10us/sample - loss: 0.5225 - categorical_accuracy: 0.8273 - val_loss: 0.5394 - val_categorical_accuracy: 0.8216\n",
      "Epoch 23/100\n",
      "50000/50000 [==============================] - 0s 9us/sample - loss: 0.5187 - categorical_accuracy: 0.8282 - val_loss: 0.5357 - val_categorical_accuracy: 0.8225\n",
      "Epoch 24/100\n",
      "50000/50000 [==============================] - 0s 9us/sample - loss: 0.5152 - categorical_accuracy: 0.8292 - val_loss: 0.5327 - val_categorical_accuracy: 0.8233\n",
      "Epoch 25/100\n",
      "50000/50000 [==============================] - 0s 8us/sample - loss: 0.5120 - categorical_accuracy: 0.8299 - val_loss: 0.5296 - val_categorical_accuracy: 0.8232\n",
      "Epoch 26/100\n",
      "50000/50000 [==============================] - 0s 9us/sample - loss: 0.5087 - categorical_accuracy: 0.8310 - val_loss: 0.5265 - val_categorical_accuracy: 0.8253\n",
      "Epoch 27/100\n",
      "50000/50000 [==============================] - 0s 9us/sample - loss: 0.5057 - categorical_accuracy: 0.8323 - val_loss: 0.5232 - val_categorical_accuracy: 0.8262\n",
      "Epoch 28/100\n",
      "50000/50000 [==============================] - 0s 9us/sample - loss: 0.5028 - categorical_accuracy: 0.8325 - val_loss: 0.5206 - val_categorical_accuracy: 0.8276\n",
      "Epoch 29/100\n",
      "50000/50000 [==============================] - 0s 8us/sample - loss: 0.5000 - categorical_accuracy: 0.8335 - val_loss: 0.5183 - val_categorical_accuracy: 0.8265\n",
      "Epoch 30/100\n",
      "50000/50000 [==============================] - 0s 9us/sample - loss: 0.4975 - categorical_accuracy: 0.8341 - val_loss: 0.5160 - val_categorical_accuracy: 0.8272\n",
      "Epoch 31/100\n",
      "50000/50000 [==============================] - 0s 10us/sample - loss: 0.4948 - categorical_accuracy: 0.8347 - val_loss: 0.5131 - val_categorical_accuracy: 0.8281\n",
      "Epoch 32/100\n",
      "50000/50000 [==============================] - 0s 10us/sample - loss: 0.4926 - categorical_accuracy: 0.8355 - val_loss: 0.5105 - val_categorical_accuracy: 0.8292\n",
      "Epoch 33/100\n",
      "50000/50000 [==============================] - 0s 9us/sample - loss: 0.4902 - categorical_accuracy: 0.8366 - val_loss: 0.5080 - val_categorical_accuracy: 0.8294\n",
      "Epoch 34/100\n",
      "50000/50000 [==============================] - 0s 9us/sample - loss: 0.4878 - categorical_accuracy: 0.8376 - val_loss: 0.5061 - val_categorical_accuracy: 0.8299\n",
      "Epoch 35/100\n",
      "50000/50000 [==============================] - 0s 8us/sample - loss: 0.4857 - categorical_accuracy: 0.8382 - val_loss: 0.5038 - val_categorical_accuracy: 0.8316\n",
      "Epoch 36/100\n",
      "50000/50000 [==============================] - 0s 9us/sample - loss: 0.4837 - categorical_accuracy: 0.8391 - val_loss: 0.5019 - val_categorical_accuracy: 0.8311\n",
      "Epoch 37/100\n",
      "50000/50000 [==============================] - 0s 8us/sample - loss: 0.4818 - categorical_accuracy: 0.8391 - val_loss: 0.4999 - val_categorical_accuracy: 0.8328\n",
      "Epoch 38/100\n",
      "50000/50000 [==============================] - 0s 9us/sample - loss: 0.4799 - categorical_accuracy: 0.8404 - val_loss: 0.4980 - val_categorical_accuracy: 0.8326\n",
      "Epoch 39/100\n",
      "50000/50000 [==============================] - 0s 9us/sample - loss: 0.4779 - categorical_accuracy: 0.8414 - val_loss: 0.4962 - val_categorical_accuracy: 0.8333\n",
      "Epoch 40/100\n",
      "50000/50000 [==============================] - 0s 8us/sample - loss: 0.4762 - categorical_accuracy: 0.8414 - val_loss: 0.4944 - val_categorical_accuracy: 0.8322\n",
      "Epoch 41/100\n",
      "50000/50000 [==============================] - 0s 8us/sample - loss: 0.4743 - categorical_accuracy: 0.8421 - val_loss: 0.4929 - val_categorical_accuracy: 0.8337\n",
      "Epoch 42/100\n",
      "50000/50000 [==============================] - 0s 8us/sample - loss: 0.4727 - categorical_accuracy: 0.8430 - val_loss: 0.4911 - val_categorical_accuracy: 0.8342\n",
      "Epoch 43/100\n",
      "50000/50000 [==============================] - 0s 8us/sample - loss: 0.4711 - categorical_accuracy: 0.8433 - val_loss: 0.4897 - val_categorical_accuracy: 0.8343\n",
      "Epoch 44/100\n",
      "50000/50000 [==============================] - 0s 8us/sample - loss: 0.4694 - categorical_accuracy: 0.8433 - val_loss: 0.4880 - val_categorical_accuracy: 0.8361\n",
      "Epoch 45/100\n",
      "50000/50000 [==============================] - 0s 8us/sample - loss: 0.4678 - categorical_accuracy: 0.8441 - val_loss: 0.4866 - val_categorical_accuracy: 0.8350\n",
      "Epoch 46/100\n",
      "50000/50000 [==============================] - 0s 8us/sample - loss: 0.4664 - categorical_accuracy: 0.8445 - val_loss: 0.4851 - val_categorical_accuracy: 0.8360\n",
      "Epoch 47/100\n",
      "50000/50000 [==============================] - 0s 8us/sample - loss: 0.4649 - categorical_accuracy: 0.8453 - val_loss: 0.4841 - val_categorical_accuracy: 0.8353\n"
     ]
    },
    {
     "name": "stdout",
     "output_type": "stream",
     "text": [
      "Epoch 48/100\n",
      "50000/50000 [==============================] - 0s 8us/sample - loss: 0.4637 - categorical_accuracy: 0.8456 - val_loss: 0.4821 - val_categorical_accuracy: 0.8362\n",
      "Epoch 49/100\n",
      "50000/50000 [==============================] - 0s 8us/sample - loss: 0.4621 - categorical_accuracy: 0.8461 - val_loss: 0.4816 - val_categorical_accuracy: 0.8375\n",
      "Epoch 50/100\n",
      "50000/50000 [==============================] - 0s 8us/sample - loss: 0.4612 - categorical_accuracy: 0.8463 - val_loss: 0.4803 - val_categorical_accuracy: 0.8371\n",
      "Epoch 51/100\n",
      "50000/50000 [==============================] - 0s 9us/sample - loss: 0.4596 - categorical_accuracy: 0.8466 - val_loss: 0.4785 - val_categorical_accuracy: 0.8375\n",
      "Epoch 52/100\n",
      "50000/50000 [==============================] - 0s 10us/sample - loss: 0.4583 - categorical_accuracy: 0.8476 - val_loss: 0.4776 - val_categorical_accuracy: 0.8373\n",
      "Epoch 53/100\n",
      "50000/50000 [==============================] - 0s 9us/sample - loss: 0.4569 - categorical_accuracy: 0.8476 - val_loss: 0.4760 - val_categorical_accuracy: 0.8369\n",
      "Epoch 54/100\n",
      "50000/50000 [==============================] - 0s 8us/sample - loss: 0.4559 - categorical_accuracy: 0.8475 - val_loss: 0.4756 - val_categorical_accuracy: 0.8373\n",
      "Epoch 55/100\n",
      "50000/50000 [==============================] - 0s 9us/sample - loss: 0.4548 - categorical_accuracy: 0.8482 - val_loss: 0.4740 - val_categorical_accuracy: 0.8388\n",
      "Epoch 56/100\n",
      "50000/50000 [==============================] - 0s 10us/sample - loss: 0.4536 - categorical_accuracy: 0.8484 - val_loss: 0.4732 - val_categorical_accuracy: 0.8388\n",
      "Epoch 57/100\n",
      "50000/50000 [==============================] - 0s 10us/sample - loss: 0.4524 - categorical_accuracy: 0.8491 - val_loss: 0.4719 - val_categorical_accuracy: 0.8384\n",
      "Epoch 58/100\n",
      "50000/50000 [==============================] - 0s 9us/sample - loss: 0.4513 - categorical_accuracy: 0.8492 - val_loss: 0.4707 - val_categorical_accuracy: 0.8394\n",
      "Epoch 59/100\n",
      "50000/50000 [==============================] - 0s 8us/sample - loss: 0.4503 - categorical_accuracy: 0.8497 - val_loss: 0.4701 - val_categorical_accuracy: 0.8404\n",
      "Epoch 60/100\n",
      "50000/50000 [==============================] - 0s 8us/sample - loss: 0.4493 - categorical_accuracy: 0.8497 - val_loss: 0.4691 - val_categorical_accuracy: 0.8403\n",
      "Epoch 61/100\n",
      "50000/50000 [==============================] - 0s 8us/sample - loss: 0.4483 - categorical_accuracy: 0.8505 - val_loss: 0.4679 - val_categorical_accuracy: 0.8405\n",
      "Epoch 62/100\n",
      "50000/50000 [==============================] - 0s 8us/sample - loss: 0.4474 - categorical_accuracy: 0.8501 - val_loss: 0.4672 - val_categorical_accuracy: 0.8403\n",
      "Epoch 63/100\n",
      "50000/50000 [==============================] - 0s 8us/sample - loss: 0.4464 - categorical_accuracy: 0.8509 - val_loss: 0.4664 - val_categorical_accuracy: 0.8404\n",
      "Epoch 64/100\n",
      "50000/50000 [==============================] - 0s 9us/sample - loss: 0.4453 - categorical_accuracy: 0.8509 - val_loss: 0.4653 - val_categorical_accuracy: 0.8405\n",
      "Epoch 65/100\n",
      "50000/50000 [==============================] - 0s 8us/sample - loss: 0.4446 - categorical_accuracy: 0.8511 - val_loss: 0.4643 - val_categorical_accuracy: 0.8409\n",
      "Epoch 66/100\n",
      "50000/50000 [==============================] - 0s 8us/sample - loss: 0.4435 - categorical_accuracy: 0.8516 - val_loss: 0.4635 - val_categorical_accuracy: 0.8412\n",
      "Epoch 67/100\n",
      "50000/50000 [==============================] - 0s 8us/sample - loss: 0.4427 - categorical_accuracy: 0.8513 - val_loss: 0.4627 - val_categorical_accuracy: 0.8409\n",
      "Epoch 68/100\n",
      "50000/50000 [==============================] - 0s 8us/sample - loss: 0.4419 - categorical_accuracy: 0.8513 - val_loss: 0.4617 - val_categorical_accuracy: 0.8409\n",
      "Epoch 69/100\n",
      "50000/50000 [==============================] - 0s 8us/sample - loss: 0.4410 - categorical_accuracy: 0.8515 - val_loss: 0.4618 - val_categorical_accuracy: 0.8407\n",
      "Epoch 70/100\n",
      "50000/50000 [==============================] - 0s 8us/sample - loss: 0.4403 - categorical_accuracy: 0.8523 - val_loss: 0.4603 - val_categorical_accuracy: 0.8410\n",
      "Epoch 71/100\n",
      "50000/50000 [==============================] - 0s 8us/sample - loss: 0.4394 - categorical_accuracy: 0.8524 - val_loss: 0.4597 - val_categorical_accuracy: 0.8416\n",
      "Epoch 72/100\n",
      "50000/50000 [==============================] - 0s 8us/sample - loss: 0.4384 - categorical_accuracy: 0.8523 - val_loss: 0.4590 - val_categorical_accuracy: 0.8411\n",
      "Epoch 73/100\n",
      "50000/50000 [==============================] - 0s 9us/sample - loss: 0.4380 - categorical_accuracy: 0.8525 - val_loss: 0.4583 - val_categorical_accuracy: 0.8428\n",
      "Epoch 74/100\n",
      "50000/50000 [==============================] - 0s 8us/sample - loss: 0.4371 - categorical_accuracy: 0.8529 - val_loss: 0.4576 - val_categorical_accuracy: 0.8431\n",
      "Epoch 75/100\n",
      "50000/50000 [==============================] - 0s 9us/sample - loss: 0.4364 - categorical_accuracy: 0.8532 - val_loss: 0.4572 - val_categorical_accuracy: 0.8428\n",
      "Epoch 76/100\n",
      "50000/50000 [==============================] - 0s 8us/sample - loss: 0.4356 - categorical_accuracy: 0.8534 - val_loss: 0.4562 - val_categorical_accuracy: 0.8428\n",
      "Epoch 77/100\n",
      "50000/50000 [==============================] - 0s 8us/sample - loss: 0.4348 - categorical_accuracy: 0.8537 - val_loss: 0.4555 - val_categorical_accuracy: 0.8436\n",
      "Epoch 78/100\n",
      "50000/50000 [==============================] - 0s 8us/sample - loss: 0.4341 - categorical_accuracy: 0.8539 - val_loss: 0.4549 - val_categorical_accuracy: 0.8440\n",
      "Epoch 79/100\n",
      "50000/50000 [==============================] - 0s 8us/sample - loss: 0.4336 - categorical_accuracy: 0.8540 - val_loss: 0.4543 - val_categorical_accuracy: 0.8443\n",
      "Epoch 80/100\n",
      "50000/50000 [==============================] - 0s 8us/sample - loss: 0.4328 - categorical_accuracy: 0.8539 - val_loss: 0.4535 - val_categorical_accuracy: 0.8432\n",
      "Epoch 81/100\n",
      "50000/50000 [==============================] - 0s 8us/sample - loss: 0.4321 - categorical_accuracy: 0.8545 - val_loss: 0.4530 - val_categorical_accuracy: 0.8440\n",
      "Epoch 82/100\n",
      "50000/50000 [==============================] - 0s 8us/sample - loss: 0.4314 - categorical_accuracy: 0.8540 - val_loss: 0.4529 - val_categorical_accuracy: 0.8444\n",
      "Epoch 83/100\n",
      "50000/50000 [==============================] - 0s 8us/sample - loss: 0.4308 - categorical_accuracy: 0.8547 - val_loss: 0.4519 - val_categorical_accuracy: 0.8441\n",
      "Epoch 84/100\n",
      "50000/50000 [==============================] - 0s 8us/sample - loss: 0.4302 - categorical_accuracy: 0.8547 - val_loss: 0.4512 - val_categorical_accuracy: 0.8453\n",
      "Epoch 85/100\n",
      "50000/50000 [==============================] - 0s 8us/sample - loss: 0.4296 - categorical_accuracy: 0.8550 - val_loss: 0.4507 - val_categorical_accuracy: 0.8440\n",
      "Epoch 86/100\n",
      "50000/50000 [==============================] - 0s 8us/sample - loss: 0.4290 - categorical_accuracy: 0.8550 - val_loss: 0.4502 - val_categorical_accuracy: 0.8451\n",
      "Epoch 87/100\n",
      "50000/50000 [==============================] - 0s 8us/sample - loss: 0.4283 - categorical_accuracy: 0.8553 - val_loss: 0.4496 - val_categorical_accuracy: 0.8452\n",
      "Epoch 88/100\n",
      "50000/50000 [==============================] - 0s 8us/sample - loss: 0.4279 - categorical_accuracy: 0.8559 - val_loss: 0.4494 - val_categorical_accuracy: 0.8446\n",
      "Epoch 89/100\n",
      "50000/50000 [==============================] - 0s 9us/sample - loss: 0.4272 - categorical_accuracy: 0.8556 - val_loss: 0.4487 - val_categorical_accuracy: 0.8457\n",
      "Epoch 90/100\n",
      "50000/50000 [==============================] - 0s 8us/sample - loss: 0.4266 - categorical_accuracy: 0.8558 - val_loss: 0.4479 - val_categorical_accuracy: 0.8451\n",
      "Epoch 91/100\n",
      "50000/50000 [==============================] - 0s 8us/sample - loss: 0.4260 - categorical_accuracy: 0.8558 - val_loss: 0.4475 - val_categorical_accuracy: 0.8455\n",
      "Epoch 92/100\n",
      "50000/50000 [==============================] - 0s 8us/sample - loss: 0.4254 - categorical_accuracy: 0.8563 - val_loss: 0.4473 - val_categorical_accuracy: 0.8450\n",
      "Epoch 93/100\n",
      "50000/50000 [==============================] - 0s 8us/sample - loss: 0.4250 - categorical_accuracy: 0.8564 - val_loss: 0.4467 - val_categorical_accuracy: 0.8458\n",
      "Epoch 94/100\n",
      "50000/50000 [==============================] - 0s 8us/sample - loss: 0.4244 - categorical_accuracy: 0.8564 - val_loss: 0.4467 - val_categorical_accuracy: 0.8452\n",
      "Epoch 95/100\n"
     ]
    },
    {
     "name": "stdout",
     "output_type": "stream",
     "text": [
      "50000/50000 [==============================] - 0s 8us/sample - loss: 0.4239 - categorical_accuracy: 0.8569 - val_loss: 0.4466 - val_categorical_accuracy: 0.8460\n",
      "Epoch 96/100\n",
      "50000/50000 [==============================] - 0s 8us/sample - loss: 0.4235 - categorical_accuracy: 0.8570 - val_loss: 0.4458 - val_categorical_accuracy: 0.8456\n",
      "Epoch 97/100\n",
      "50000/50000 [==============================] - 0s 8us/sample - loss: 0.4229 - categorical_accuracy: 0.8572 - val_loss: 0.4449 - val_categorical_accuracy: 0.8456\n",
      "Epoch 98/100\n",
      "50000/50000 [==============================] - 0s 9us/sample - loss: 0.4223 - categorical_accuracy: 0.8570 - val_loss: 0.4446 - val_categorical_accuracy: 0.8466\n",
      "Epoch 99/100\n",
      "50000/50000 [==============================] - 0s 8us/sample - loss: 0.4220 - categorical_accuracy: 0.8571 - val_loss: 0.4444 - val_categorical_accuracy: 0.8462\n",
      "Epoch 100/100\n",
      "50000/50000 [==============================] - 0s 8us/sample - loss: 0.4214 - categorical_accuracy: 0.8572 - val_loss: 0.4436 - val_categorical_accuracy: 0.8464\n"
     ]
    }
   ],
   "source": [
    "## Соберите ну и наконец прокидывание данных\n",
    "## Соберите с батчнормом и релу\n",
    "# прокидываем данные со 2ого слоя на 5ый\n",
    "\n",
    "\n",
    "init = 'he_uniform'\n",
    "act = 'relu'\n",
    "\n",
    "input_tensor = L.Input(shape=(28, 28)) # задаем вход\n",
    "x = L.Flatten()(input_tensor)# применение нейрона к входу\n",
    "x1 = L.Dense(100, kernel_initializer=init, activation=act)(x)\n",
    "x1 = L.BatchNormalization()(x1)\n",
    "x2 = L.Dense(100, kernel_initializer=init, activation=act)(x1)\n",
    "x3 = L.Dense(100, kernel_initializer=init, activation=act)(x2) # повторяем всю логику сколько нам надо раз\n",
    "x4 = L.Dense(100, kernel_initializer=init, activation=act)(x3)\n",
    "x4 = L.concatenate([x2,x4])\n",
    "x4 = L.BatchNormalization()(x4)\n",
    "x5 = L.Dense(100, kernel_initializer=init, activation=act)(x4)\n",
    "output_tensor = L.Dense(10, kernel_initializer=init, activation='softmax')(x)\n",
    "\n",
    "model_complex_second = keras.Model(input_tensor, output_tensor) # Keras под капотом сам собирает граф.\n",
    "# Если он может получить из входа выхода то вы великолепны.\n",
    "\n",
    "model_complex_second.compile(optimizer=opt,loss='categorical_crossentropy',\n",
    "             metrics=[\"categorical_accuracy\"]) \n",
    "\n",
    "history_complex_second = model_complex_second.fit(X_train,y_train_ohe,\n",
    "                                                    batch_size=500,\n",
    "                                                    epochs=100,validation_data = (X_val,y_val_ohe))\n",
    "\n",
    "\n"
   ]
  },
  {
   "cell_type": "code",
   "execution_count": 35,
   "metadata": {},
   "outputs": [],
   "source": [
    "# Функция для удобной отрисовки всего\n",
    "\n",
    "def plot_history(histories, key='loss', start=0):\n",
    "    plt.figure(figsize=(16,10))\n",
    "\n",
    "    for name, history in histories:\n",
    "        val = plt.plot(history.epoch[start:], history.history['val_'+key][start:],\n",
    "                       #'--', \n",
    "                       label=name.title()+' Val')\n",
    "            #plt.plot(history.epoch[start:], history.history[key][start:], color=val[0].get_color(),\n",
    "            #     label=name.title()+' Train')\n",
    "\n",
    "    plt.xlabel('Epochs')\n",
    "    plt.ylabel(key.replace('_',' ').title())\n",
    "    plt.legend()\n",
    "\n",
    "    plt.xlim([start, max(history.epoch)])\n"
   ]
  },
  {
   "cell_type": "code",
   "execution_count": 36,
   "metadata": {},
   "outputs": [
    {
     "data": {
      "image/png": "[encoded data removed]",
      "text/plain": [
       "<Figure size 1152x720 with 1 Axes>"
      ]
     },
     "metadata": {
      "needs_background": "light"
     },
     "output_type": "display_data"
    }
   ],
   "source": [
    "plot_history([('simple_BN_and_init', history_simple_BN_and_init),\n",
    "              ('After BN',   history_complex_first),\n",
    "              ('Before BN',   history_complex_second)\n",
    "             ],\n",
    "             start=0)"
   ]
  },
  {
   "cell_type": "markdown",
   "metadata": {},
   "source": [
    "#### Более интересная часть - кастомизация\n",
    "В keras уже есть несколько удобных callback."
   ]
  },
  {
   "cell_type": "code",
   "execution_count": 39,
   "metadata": {},
   "outputs": [],
   "source": [
    "from tensorflow.keras.callbacks import EarlyStopping,LearningRateScheduler,ReduceLROnPlateau,ModelCheckpoint,TensorBoard"
   ]
  },
  {
   "cell_type": "code",
   "execution_count": 38,
   "metadata": {},
   "outputs": [
    {
     "data": {
      "text/plain": [
       "tensorflow.python.keras.callbacks.ModelCheckpoint"
      ]
     },
     "execution_count": 38,
     "metadata": {},
     "output_type": "execute_result"
    }
   ],
   "source": [
    "EarlyStopping # останавливает обучение если наша метрика не меняет n эпох\n",
    "LearningRateScheduler # меняет наш learning_rate по расписанию\n",
    "ReduceLROnPlateau # понижает на LR если не происходит улучшения\n",
    "ModelCheckpoint # сохраняет нашу лучшую модель\n",
    "TensorBoard # Хорошая отрисовка модели"
   ]
  },
  {
   "cell_type": "code",
   "execution_count": 43,
   "metadata": {},
   "outputs": [],
   "source": [
    "early_stop = EarlyStopping(patience=3)\n",
    "reduce_on_plateau = ReduceLROnPlateau(patience=3)\n",
    "# filepath=\"checkpoint_path/weights-improvement-{epoch:02d}-{val_categorical_accuracy:.2f}.hdf5\"\n",
    "filepath=\"checkpoint_path/weights-improvement.hdf5\"\n",
    "model_checkpoing = ModelCheckpoint(filepath,\n",
    "                                   save_best_only=True,\n",
    "                                  save_weights_only=True)"
   ]
  },
  {
   "cell_type": "code",
   "execution_count": 44,
   "metadata": {},
   "outputs": [],
   "source": [
    "def create_simple_model():\n",
    "    model = Sequential(name = 'simple_model')\n",
    "    model.add(L.Input(shape = (28,28))) \n",
    "    model.add(L.Flatten()) \n",
    "    model.add(L.Dense(100,  kernel_initializer='random_normal',name='First',activation='relu'))\n",
    "    model.add(L.Dense(100,  kernel_initializer='random_normal',name='Second',activation='relu'))\n",
    "    model.add(L.Dense(10, kernel_initializer = 'random_normal',name='Output',activation='softmax'))\n",
    "    opt = keras.optimizers.Adam(learning_rate=1e-4) \n",
    "    model.compile(optimizer=opt,loss='categorical_crossentropy',\n",
    "                 metrics=[\"categorical_accuracy\"]) \n",
    "    return model\n"
   ]
  },
  {
   "cell_type": "code",
   "execution_count": 45,
   "metadata": {
    "scrolled": true
   },
   "outputs": [],
   "source": [
    "\n",
    "model = create_simple_model()\n",
    "\n",
    "history = model.fit(X_train,y_train_ohe,batch_size=500,epochs=20,\n",
    "                     validation_data = (X_val,y_val_ohe),\n",
    "                    callbacks = [early_stop,reduce_on_plateau,model_checkpoing],verbose=0)\n"
   ]
  },
  {
   "cell_type": "code",
   "execution_count": 46,
   "metadata": {},
   "outputs": [],
   "source": [
    "model.load_weights('checkpoint_path/weights-improvement.hdf5')"
   ]
  },
  {
   "cell_type": "code",
   "execution_count": 47,
   "metadata": {
    "scrolled": true
   },
   "outputs": [],
   "source": [
    "filepath=\"checkpoint_path/full_model_improvement.hdf5\"\n",
    "model_checkpoing = ModelCheckpoint(filepath,\n",
    "                                   save_best_only=True,\n",
    "                                  save_weights_only=False)\n",
    "simple_model = create_simple_model()\n",
    "\n",
    "history = simple_model.fit(X_train,y_train_ohe,batch_size=500,epochs=20,\n",
    "                     validation_data = (X_val,y_val_ohe),\n",
    "                    callbacks = [early_stop,reduce_on_plateau,model_checkpoing],verbose=0)\n"
   ]
  },
  {
   "cell_type": "code",
   "execution_count": 48,
   "metadata": {},
   "outputs": [],
   "source": [
    "simple_model = keras.models.load_model(filepath)"
   ]
  },
  {
   "cell_type": "code",
   "execution_count": 49,
   "metadata": {},
   "outputs": [
    {
     "name": "stdout",
     "output_type": "stream",
     "text": [
      "10000/10000 [==============================] - 0s 33us/sample - loss: 0.4337 - categorical_accuracy: 0.8469\n"
     ]
    },
    {
     "data": {
      "text/plain": [
       "[0.4336695870876312, 0.8469]"
      ]
     },
     "execution_count": 49,
     "metadata": {},
     "output_type": "execute_result"
    }
   ],
   "source": [
    "simple_model.evaluate(x=X_val,y=y_val_ohe)"
   ]
  },
  {
   "cell_type": "code",
   "execution_count": 50,
   "metadata": {},
   "outputs": [],
   "source": [
    "# Способ писать свои собственные callbacks\n",
    "from tensorflow.keras import callbacks\n",
    " \n",
    "class My_Callback(callbacks.Callback):     # Класс My_Callback унаследовал свойства класса Callback\n",
    "    def on_train_begin(self, logs={}):           # Функция, которая выполняется в начале обучения \n",
    "        return\n",
    " \n",
    "    def on_train_end(self, logs={}):             # Функция, которая выполняется в конце обучения \n",
    "        return\n",
    " \n",
    "    def on_epoch_begin(self, logs={}):           # В начале каждой эпохи \n",
    "        return\n",
    " \n",
    "    def on_epoch_end(self, epoch, logs={}): \n",
    "        # В конце каждой эпохи\n",
    "        return\n",
    " \n",
    "    def on_batch_begin(self, batch, logs={}):    # В начале батча\n",
    "        return\n",
    " \n",
    "    def on_batch_end(self, batch, logs={}):      # В конце батча \n",
    "        return"
   ]
  },
  {
   "cell_type": "code",
   "execution_count": 51,
   "metadata": {},
   "outputs": [],
   "source": [
    "from tensorflow.keras import callbacks\n",
    "\n",
    "class Printlogs(callbacks.Callback):\n",
    "\n",
    "    def on_epoch_end(self, epoch, logs):\n",
    "        if epoch==10:\n",
    "            print(logs)\n",
    "            self.model\n",
    "        "
   ]
  },
  {
   "cell_type": "code",
   "execution_count": null,
   "metadata": {},
   "outputs": [],
   "source": []
  },
  {
   "cell_type": "code",
   "execution_count": 52,
   "metadata": {},
   "outputs": [],
   "source": [
    "simple_model = create_simple_model()\n",
    "our_callback = Printlogs()"
   ]
  },
  {
   "cell_type": "code",
   "execution_count": 53,
   "metadata": {},
   "outputs": [
    {
     "name": "stdout",
     "output_type": "stream",
     "text": [
      "{'loss': 0.4867748203873634, 'categorical_accuracy': 0.83444, 'val_loss': 0.4964317068457603, 'val_categorical_accuracy': 0.8281}\n"
     ]
    }
   ],
   "source": [
    "history = simple_model.fit(X_train,y_train_ohe,batch_size=500,epochs=20,\n",
    "                     validation_data = (X_val,y_val_ohe),\n",
    "                    callbacks = [our_callback],\n",
    "                           verbose=0)"
   ]
  },
  {
   "cell_type": "code",
   "execution_count": 62,
   "metadata": {},
   "outputs": [
    {
     "data": {
      "text/plain": [
       "<tensorflow.python.keras.metrics.MeanMetricWrapper at 0x1d069a75048>"
      ]
     },
     "execution_count": 62,
     "metadata": {},
     "output_type": "execute_result"
    }
   ],
   "source": [
    "simple_model.metrics[0]()"
   ]
  },
  {
   "cell_type": "code",
   "execution_count": 63,
   "metadata": {},
   "outputs": [],
   "source": [
    "prediction = simple_model.predict(X_val)"
   ]
  },
  {
   "cell_type": "code",
   "execution_count": 68,
   "metadata": {},
   "outputs": [
    {
     "data": {
      "text/plain": [
       "array([2, 2, 7, ..., 2, 5, 7], dtype=int64)"
      ]
     },
     "execution_count": 68,
     "metadata": {},
     "output_type": "execute_result"
    }
   ],
   "source": [
    "np.argmax(prediction,axis=1)"
   ]
  },
  {
   "cell_type": "code",
   "execution_count": 70,
   "metadata": {},
   "outputs": [
    {
     "data": {
      "text/plain": [
       "array([8, 8, 7, ..., 1, 5, 7], dtype=int64)"
      ]
     },
     "execution_count": 70,
     "metadata": {},
     "output_type": "execute_result"
    }
   ],
   "source": [
    "np.argmax(y_val_ohe,axis=1)"
   ]
  },
  {
   "cell_type": "code",
   "execution_count": 66,
   "metadata": {},
   "outputs": [],
   "source": [
    "from sklearn.metrics import accuracy_score"
   ]
  },
  {
   "cell_type": "code",
   "execution_count": 71,
   "metadata": {},
   "outputs": [
    {
     "data": {
      "text/plain": [
       "0.3433"
      ]
     },
     "execution_count": 71,
     "metadata": {},
     "output_type": "execute_result"
    }
   ],
   "source": [
    "accuracy_score(np.argmax(y_val_ohe,axis=1),np.argmax(prediction,axis=1))"
   ]
  },
  {
   "cell_type": "code",
   "execution_count": 54,
   "metadata": {},
   "outputs": [
    {
     "name": "stdout",
     "output_type": "stream",
     "text": [
      "0.10000000149011612\n",
      "0.05000000074505806\n",
      "0.02500000037252903\n",
      "0.012500000186264515\n",
      "0.0062500000931322575\n",
      "0.0031250000465661287\n",
      "0.0015625000232830644\n",
      "0.0007812500116415322\n",
      "0.0003906250058207661\n",
      "0.00019531250291038305\n",
      "9.765625145519152e-05\n",
      "4.882812572759576e-05\n",
      "2.441406286379788e-05\n",
      "1.220703143189894e-05\n",
      "6.10351571594947e-06\n",
      "3.051757857974735e-06\n",
      "1.5258789289873675e-06\n",
      "7.629394644936838e-07\n",
      "3.814697322468419e-07\n",
      "1.9073486612342094e-07\n"
     ]
    }
   ],
   "source": [
    "import numpy as np\n",
    "# Напишем изменение скорости обучения\n",
    "INIT_LR=0.1\n",
    "# Стратегия для понижения скорости\n",
    "def lr_scheduler(epoch):\n",
    "    drop = 0.5\n",
    "    epochs_drop = 1.0\n",
    "    lrate = INIT_LR * np.math.pow(drop, np.math.floor((epoch)/epochs_drop))\n",
    "    return lrate\n",
    "\n",
    "lrate = LearningRateScheduler(lr_scheduler)\n",
    "# класс чтобы отслеживать бесчинства\n",
    "class Print_lr(callbacks.Callback):\n",
    "    def on_epoch_end(self, epoch, logs):\n",
    "        print(float(tf.keras.backend.get_value(self.model.optimizer.lr)))\n",
    "        # чтобы установить свой LR надо указать\n",
    "        # LR_OUR = ....\n",
    "        # tf.keras.backend.set_value(self.model.optimizer.lr, LR_OUR)\n",
    "\n",
    "\n",
    "simple_model = create_simple_model()\n",
    "history = simple_model.fit(X_train,y_train_ohe,batch_size=500,epochs=20,\n",
    "                     validation_data = (X_val,y_val_ohe),\n",
    "                    callbacks = [lrate,Print_lr()],\n",
    "                           verbose=0)\n"
   ]
  },
  {
   "cell_type": "code",
   "execution_count": 79,
   "metadata": {},
   "outputs": [],
   "source": [
    "# класс чтобы отслеживать бесчинства\n",
    "\n",
    "# Посчитаем дельту в val_metric после каждой эпохи\n",
    "class Print_delta_metrics(callbacks.Callback):\n",
    "    def __init__(self,X_val,y_val_ohe):\n",
    "        self.X_val = X_val\n",
    "        self.y_val_ohe = y_val_ohe\n",
    "        \n",
    "    def on_epoch_begin(self, epoch, logs):\n",
    "        self.metric_start = self.model.evaluate(self.X_val,self.y_val_ohe)\n",
    "        \n",
    "    def on_epoch_end(self, epoch, logs):\n",
    "        self.metric_end = self.model.evaluate(self.X_val,self.y_val_ohe)\n",
    "        print(f'Delta metric on {epoch} equal {-self.metric_end[1]+self.metric_start[1]}')\n",
    "        print(f'Delta loss on {epoch} equal {-self.metric_end[0]+self.metric_start[0]}')\n",
    "       \n"
   ]
  },
  {
   "cell_type": "code",
   "execution_count": 80,
   "metadata": {},
   "outputs": [],
   "source": [
    "our_callback = Print_delta_metrics(X_val,y_val_ohe)\n",
    "# our_callback.X_val"
   ]
  },
  {
   "cell_type": "code",
   "execution_count": 81,
   "metadata": {},
   "outputs": [
    {
     "name": "stdout",
     "output_type": "stream",
     "text": [
      "10000/10000 [==============================] - 0s 32us/sample - loss: 2.3025 - categorical_accuracy: 0.1016\n",
      "10000/10000 [==============================] - 0s 24us/sample - loss: 1.5405 - categorical_accuracy: 0.6349\n",
      "Delta metric on 0 equal -0.53329998254776\n",
      "Delta loss on 0 equal 0.7620090757369997\n",
      "10000/10000 [==============================] - 0s 24us/sample - loss: 1.5405 - categorical_accuracy: 0.6349\n",
      "10000/10000 [==============================] - 0s 25us/sample - loss: 0.9658 - categorical_accuracy: 0.6797\n",
      "Delta metric on 1 equal -0.0448000431060791\n",
      "Delta loss on 1 equal 0.5746774916648865\n",
      "10000/10000 [==============================] - 0s 27us/sample - loss: 0.9658 - categorical_accuracy: 0.6797\n",
      "10000/10000 [==============================] - 0s 27us/sample - loss: 0.7895 - categorical_accuracy: 0.7128\n",
      "Delta metric on 2 equal -0.033100008964538574\n",
      "Delta loss on 2 equal 0.17637987136840816\n",
      "10000/10000 [==============================] - 0s 25us/sample - loss: 0.7895 - categorical_accuracy: 0.7128\n",
      "10000/10000 [==============================] - 0s 26us/sample - loss: 0.7011 - categorical_accuracy: 0.7504\n",
      "Delta metric on 3 equal -0.03759998083114624\n",
      "Delta loss on 3 equal 0.08837961397171024\n",
      "10000/10000 [==============================] - 0s 25us/sample - loss: 0.7011 - categorical_accuracy: 0.7504\n",
      "10000/10000 [==============================] - 0s 26us/sample - loss: 0.6411 - categorical_accuracy: 0.7764\n",
      "Delta metric on 4 equal -0.026000022888183594\n",
      "Delta loss on 4 equal 0.059987267017364454\n",
      "10000/10000 [==============================] - 0s 27us/sample - loss: 0.6411 - categorical_accuracy: 0.7764\n",
      "10000/10000 [==============================] - 0s 25us/sample - loss: 0.5997 - categorical_accuracy: 0.7924\n",
      "Delta metric on 5 equal -0.015999972820281982\n",
      "Delta loss on 5 equal 0.04136125946044922\n",
      "10000/10000 [==============================] - 0s 24us/sample - loss: 0.5997 - categorical_accuracy: 0.7924\n",
      "10000/10000 [==============================] - 0s 25us/sample - loss: 0.5701 - categorical_accuracy: 0.8048\n",
      "Delta metric on 6 equal -0.01239997148513794\n",
      "Delta loss on 6 equal 0.029604255008697566\n",
      "10000/10000 [==============================] - 0s 26us/sample - loss: 0.5701 - categorical_accuracy: 0.8048s - loss: 0.5526 - categorical_accuracy\n",
      "10000/10000 [==============================] - 0s 25us/sample - loss: 0.5419 - categorical_accuracy: 0.8138\n",
      "Delta metric on 7 equal -0.009000003337860107\n",
      "Delta loss on 7 equal 0.028243283557891852\n",
      "10000/10000 [==============================] - 0s 28us/sample - loss: 0.5419 - categorical_accuracy: 0.8138\n",
      "10000/10000 [==============================] - 0s 24us/sample - loss: 0.5259 - categorical_accuracy: 0.8195\n",
      "Delta metric on 8 equal -0.005700051784515381\n",
      "Delta loss on 8 equal 0.016036688518524134\n",
      "10000/10000 [==============================] - 0s 25us/sample - loss: 0.5259 - categorical_accuracy: 0.8195\n",
      "10000/10000 [==============================] - 0s 23us/sample - loss: 0.5072 - categorical_accuracy: 0.8223\n",
      "Delta metric on 9 equal -0.00279998779296875\n",
      "Delta loss on 9 equal 0.01865286214351658\n",
      "10000/10000 [==============================] - 0s 24us/sample - loss: 0.5072 - categorical_accuracy: 0.8223\n",
      "10000/10000 [==============================] - 0s 22us/sample - loss: 0.4933 - categorical_accuracy: 0.8296\n",
      "Delta metric on 10 equal -0.007299959659576416\n",
      "Delta loss on 10 equal 0.013937202143669059\n",
      "10000/10000 [==============================] - 0s 24us/sample - loss: 0.4933 - categorical_accuracy: 0.8296\n",
      "10000/10000 [==============================] - 0s 21us/sample - loss: 0.4825 - categorical_accuracy: 0.8306\n",
      "Delta metric on 11 equal -0.001000046730041504\n",
      "Delta loss on 11 equal 0.010797050857543955\n",
      "10000/10000 [==============================] - 0s 21us/sample - loss: 0.4825 - categorical_accuracy: 0.8306\n",
      "10000/10000 [==============================] - 0s 22us/sample - loss: 0.4743 - categorical_accuracy: 0.8351\n",
      "Delta metric on 12 equal -0.004499971866607666\n",
      "Delta loss on 12 equal 0.008195980787277235\n",
      "10000/10000 [==============================] - 0s 24us/sample - loss: 0.4743 - categorical_accuracy: 0.8351\n",
      "10000/10000 [==============================] - 0s 22us/sample - loss: 0.4657 - categorical_accuracy: 0.8371\n",
      "Delta metric on 13 equal -0.0020000338554382324\n",
      "Delta loss on 13 equal 0.008542722606658948\n",
      "10000/10000 [==============================] - 0s 23us/sample - loss: 0.4657 - categorical_accuracy: 0.8371\n",
      "10000/10000 [==============================] - 0s 22us/sample - loss: 0.4596 - categorical_accuracy: 0.8371\n",
      "Delta metric on 14 equal 0.0\n",
      "Delta loss on 14 equal 0.00615357356071472\n",
      "10000/10000 [==============================] - 0s 23us/sample - loss: 0.4596 - categorical_accuracy: 0.8371\n",
      "10000/10000 [==============================] - 0s 22us/sample - loss: 0.4521 - categorical_accuracy: 0.8415\n",
      "Delta metric on 15 equal -0.0043999552726745605\n",
      "Delta loss on 15 equal 0.007473820209503157\n",
      "10000/10000 [==============================] - 0s 24us/sample - loss: 0.4521 - categorical_accuracy: 0.8415\n",
      "10000/10000 [==============================] - 0s 21us/sample - loss: 0.4478 - categorical_accuracy: 0.8419\n",
      "Delta metric on 16 equal -0.0004000067710876465\n",
      "Delta loss on 16 equal 0.0042894207954407015\n",
      "10000/10000 [==============================] - 0s 23us/sample - loss: 0.4478 - categorical_accuracy: 0.8419\n",
      "10000/10000 [==============================] - 0s 23us/sample - loss: 0.4418 - categorical_accuracy: 0.8418\n",
      "Delta metric on 17 equal 0.00010001659393310547\n",
      "Delta loss on 17 equal 0.005995493626594517\n",
      "10000/10000 [==============================] - 0s 24us/sample - loss: 0.4418 - categorical_accuracy: 0.8418\n",
      "10000/10000 [==============================] - 0s 21us/sample - loss: 0.4369 - categorical_accuracy: 0.8433\n",
      "Delta metric on 18 equal -0.0015000104904174805\n",
      "Delta loss on 18 equal 0.004889216208457947\n",
      "10000/10000 [==============================] - 0s 24us/sample - loss: 0.4369 - categorical_accuracy: 0.8433\n",
      "10000/10000 [==============================] - 0s 22us/sample - loss: 0.4330 - categorical_accuracy: 0.8459\n",
      "Delta metric on 19 equal -0.0026000142097473145\n",
      "Delta loss on 19 equal 0.003922167587280256\n"
     ]
    }
   ],
   "source": [
    "simple_model = create_simple_model()\n",
    "history = simple_model.fit(X_train,y_train_ohe,batch_size=500,epochs=20,\n",
    "                     validation_data = (X_val,y_val_ohe),\n",
    "                    callbacks = [our_callback],\n",
    "                           verbose=0)"
   ]
  },
  {
   "cell_type": "code",
   "execution_count": null,
   "metadata": {},
   "outputs": [],
   "source": [
    "# Давайте заставим модель посчитать метрики каждую эпоху, как пример\n",
    "# Считать будем на X_val, y_val\n",
    "# Посчитаем дельту в val_loss после каждой эпохи\n",
    "# Посчитать через sklearn"
   ]
  },
  {
   "cell_type": "markdown",
   "metadata": {},
   "source": [
    "### Кастомные loss и метрики\n",
    "Что уже есть\n",
    "https://keras.io/api/metrics/\n",
    "\n",
    "https://keras.io/api/losses/"
   ]
  },
  {
   "cell_type": "code",
   "execution_count": 82,
   "metadata": {},
   "outputs": [],
   "source": [
    "celsius    = np.array([-40, -10,  0,  8, 15, 22,  38],  dtype=float)\n",
    "fahrenheit = np.array([-40,  14, 32, 46, 59, 72, 100],  dtype=float)"
   ]
  },
  {
   "cell_type": "code",
   "execution_count": 83,
   "metadata": {},
   "outputs": [
    {
     "name": "stdout",
     "output_type": "stream",
     "text": [
      "Train on 7 samples\n",
      "Epoch 1/3\n",
      "7/7 [==============================] - 0s 30ms/sample - loss: 2779.0374\n",
      "Epoch 2/3\n",
      "7/7 [==============================] - 0s 142us/sample - loss: 2776.9531\n",
      "Epoch 3/3\n",
      "7/7 [==============================] - 0s 142us/sample - loss: 2774.8699\n"
     ]
    },
    {
     "data": {
      "text/plain": [
       "<tensorflow.python.keras.callbacks.History at 0x1d010ebf088>"
      ]
     },
     "execution_count": 83,
     "metadata": {},
     "output_type": "execute_result"
    }
   ],
   "source": [
    "\n",
    "\n",
    "model = Sequential()\n",
    "model.add(L.Dense(1))\n",
    "\n",
    "opt = tf.keras.optimizers.Adam( )\n",
    "\n",
    "model.compile(loss='mse', optimizer=opt)\n",
    "model.fit(celsius, fahrenheit,  epochs=3, verbose=1)\n",
    "\n"
   ]
  },
  {
   "cell_type": "code",
   "execution_count": 84,
   "metadata": {},
   "outputs": [],
   "source": [
    "def custom_loss_function(y_true, y_pred):\n",
    "    squared_difference = tf.square(y_true - y_pred)\n",
    "    return tf.reduce_mean(squared_difference, axis=-1)"
   ]
  },
  {
   "cell_type": "code",
   "execution_count": 85,
   "metadata": {},
   "outputs": [
    {
     "name": "stdout",
     "output_type": "stream",
     "text": [
      "Train on 7 samples\n",
      "Epoch 1/3\n",
      "7/7 [==============================] - 0s 36ms/sample - loss: 1132.2122\n",
      "Epoch 2/3\n",
      "7/7 [==============================] - 0s 143us/sample - loss: 1131.5636\n",
      "Epoch 3/3\n",
      "7/7 [==============================] - 0s 143us/sample - loss: 1130.9163\n",
      "Wall time: 312 ms\n"
     ]
    },
    {
     "data": {
      "text/plain": [
       "<tensorflow.python.keras.callbacks.History at 0x1d0156a5f48>"
      ]
     },
     "execution_count": 85,
     "metadata": {},
     "output_type": "execute_result"
    }
   ],
   "source": [
    "%%time\n",
    "model = Sequential()\n",
    "model.add(L.Dense(1))\n",
    "\n",
    "opt = tf.keras.optimizers.Adam( )\n",
    "\n",
    "model.compile(loss=custom_loss_function, optimizer=opt)\n",
    "model.fit(celsius, fahrenheit,  epochs=3,verbose=1)\n",
    "\n"
   ]
  },
  {
   "cell_type": "code",
   "execution_count": 97,
   "metadata": {},
   "outputs": [],
   "source": [
    "## тоже самое можно делать и с метриками. Также можно следить сразу за несколькими метриками, что бывает полезно.\n",
    "## Если хотим добавить совсем сложную логику то мы это будем делать через callback"
   ]
  },
  {
   "cell_type": "markdown",
   "metadata": {},
   "source": [
    "В этой тетрадке немного поработаем с градусами по цельсию и фаренгейту! Снова попробуем восстановить формулу \n",
    "\n",
    "$$ f = c \\times 1.8 + 32 $$"
   ]
  },
  {
   "cell_type": "code",
   "execution_count": 86,
   "metadata": {},
   "outputs": [
    {
     "data": {
      "text/plain": [
       "<tensorflow.python.keras.callbacks.History at 0x1d017f0eec8>"
      ]
     },
     "execution_count": 86,
     "metadata": {},
     "output_type": "execute_result"
    }
   ],
   "source": [
    "## возьмем срезы\n",
    "tf.keras.backend.set_floatx('float64')\n",
    "model = Sequential()\n",
    "model.add(L.Dense(1,name='our_neural'))\n",
    "\n",
    "opt = tf.keras.optimizers.Adam(0.1 )\n",
    "\n",
    "model.compile(loss='mse', optimizer=opt)\n",
    "model.fit(celsius, fahrenheit,  epochs=600, verbose=0)\n",
    "\n"
   ]
  },
  {
   "cell_type": "code",
   "execution_count": 197,
   "metadata": {},
   "outputs": [],
   "source": [
    "# maxx_final = np.array([0.])\n",
    "# for i in range(first_layer.variables[0].shape[0]):\n",
    "#     mmax = np.max(first_layer.variables[0][i])\n",
    "#     maxx_final = np.max([maxx_final,mmax])"
   ]
  },
  {
   "cell_type": "code",
   "execution_count": 131,
   "metadata": {},
   "outputs": [
    {
     "data": {
      "text/plain": [
       "0.26849318"
      ]
     },
     "execution_count": 131,
     "metadata": {},
     "output_type": "execute_result"
    }
   ],
   "source": [
    "maxx_final"
   ]
  },
  {
   "cell_type": "code",
   "execution_count": 105,
   "metadata": {},
   "outputs": [],
   "source": [
    "# simple_model.summary()"
   ]
  },
  {
   "cell_type": "code",
   "execution_count": 87,
   "metadata": {},
   "outputs": [
    {
     "data": {
      "text/plain": [
       "[<tf.Variable 'sequential_2/our_neural/kernel:0' shape=(1, 1) dtype=float64, numpy=array([[1.81017952]])>,\n",
       " <tf.Variable 'sequential_2/our_neural/bias:0' shape=(1,) dtype=float64, numpy=array([30.52181683])>]"
      ]
     },
     "execution_count": 87,
     "metadata": {},
     "output_type": "execute_result"
    }
   ],
   "source": [
    "## элементарная задача, но из-за того, что данные не скалированы сходились вечность\n",
    "our_layer = model.get_layer(name='our_neural')\n",
    "our_layer.variables"
   ]
  },
  {
   "cell_type": "code",
   "execution_count": 112,
   "metadata": {},
   "outputs": [
    {
     "data": {
      "text/plain": [
       "<tf.Tensor: shape=(7, 1), dtype=float64, numpy=\n",
       "array([[-41.88536396],\n",
       "       [ 12.42002163],\n",
       "       [ 30.52181683],\n",
       "       [ 45.00325299],\n",
       "       [ 57.67450963],\n",
       "       [ 70.34576626],\n",
       "       [ 99.30863858]])>"
      ]
     },
     "execution_count": 112,
     "metadata": {},
     "output_type": "execute_result"
    }
   ],
   "source": [
    "our_layer(np.array(celsius).reshape((7,1))) ## Берем прогнозы от слоя"
   ]
  },
  {
   "cell_type": "code",
   "execution_count": 106,
   "metadata": {},
   "outputs": [],
   "source": [
    "X = tf.constant(np.array(celsius).reshape((7,1)))"
   ]
  },
  {
   "cell_type": "code",
   "execution_count": 109,
   "metadata": {},
   "outputs": [],
   "source": [
    "W = our_layer.variables[0]\n",
    "b = our_layer.variables[1]"
   ]
  },
  {
   "cell_type": "code",
   "execution_count": 110,
   "metadata": {},
   "outputs": [
    {
     "data": {
      "text/plain": [
       "<tf.Tensor: shape=(7, 1), dtype=float64, numpy=\n",
       "array([[-41.88536396],\n",
       "       [ 12.42002163],\n",
       "       [ 30.52181683],\n",
       "       [ 45.00325299],\n",
       "       [ 57.67450963],\n",
       "       [ 70.34576626],\n",
       "       [ 99.30863858]])>"
      ]
     },
     "execution_count": 110,
     "metadata": {},
     "output_type": "execute_result"
    }
   ],
   "source": [
    "X@W+b"
   ]
  },
  {
   "cell_type": "markdown",
   "metadata": {},
   "source": [
    " Есть понимание, как взять определить в callback на какой эпохе мы получили правильное значение весов? Проверить как ведет себя наша нейронка? (с учетом того, что мы точно знаем формулу)\n",
    " Ну и заодно быстро проверить гипотезу - а поможет ли нам batchnorm в данной ситуации?"
   ]
  },
  {
   "cell_type": "markdown",
   "metadata": {},
   "source": [
    "### Hometask\n",
    "1. Взять значение параметров и сравнить их с эталонными. Если разница в значениях меньше эпсилон (вы сами задаете), то считаем, что модель научилась\n",
    "(Взять значение параметров - взять слой от модели и взять значения в этом слое)\n",
    "2. Вывести номер эпохи, когда разница в значениях стала меньше эпсилон\n",
    "3. Повторить упражнение для модели с BN."
   ]
  },
  {
   "cell_type": "code",
   "execution_count": null,
   "metadata": {},
   "outputs": [],
   "source": []
  },
  {
   "cell_type": "markdown",
   "metadata": {},
   "source": [
    "### Пишем класс нейронки с TF и keras вместе"
   ]
  },
  {
   "cell_type": "code",
   "execution_count": 132,
   "metadata": {},
   "outputs": [],
   "source": [
    "# транспонировали выборку\n",
    "x_train = celsius[:,None]\n",
    "y_train = fahrenheit[:,None]"
   ]
  },
  {
   "cell_type": "code",
   "execution_count": 174,
   "metadata": {},
   "outputs": [],
   "source": [
    "tf.keras.backend.set_floatx('float64')\n",
    "class Super_puper_neural_net(keras.Model):\n",
    "    \n",
    "    def __init__(self, n_hidden_neurons):\n",
    "        super(Super_puper_neural_net, self).__init__()\n",
    "        self.fc1 = L.Dense(n_hidden_neurons, kernel_initializer='glorot_uniform',\n",
    "                           activation='sigmoid', trainable=True)\n",
    "        self.fc2 = L.Dense(n_hidden_neurons, kernel_initializer='glorot_uniform',\n",
    "                           trainable=True)\n",
    "\n",
    "    def encode(self, x):\n",
    "        x = self.fc1(x)\n",
    "        x = self.fc2(x)\n",
    "        return x"
   ]
  },
  {
   "cell_type": "code",
   "execution_count": 179,
   "metadata": {},
   "outputs": [
    {
     "data": {
      "text/plain": [
       "<tf.Tensor: shape=(7, 1), dtype=float64, numpy=\n",
       "array([[-1.61442909e+00],\n",
       "       [-1.61436408e+00],\n",
       "       [-8.07214544e-01],\n",
       "       [-4.91885342e-04],\n",
       "       [-4.12549632e-07],\n",
       "       [-3.45904655e-10],\n",
       "       [-3.21300131e-17]])>"
      ]
     },
     "execution_count": 179,
     "metadata": {},
     "output_type": "execute_result"
    }
   ],
   "source": [
    "model_super = Super_puper_neural_net(1)\n",
    "model_super.encode(x_train)"
   ]
  },
  {
   "cell_type": "code",
   "execution_count": 180,
   "metadata": {},
   "outputs": [],
   "source": [
    "# Ошибка для модели\n",
    "def mean_square(y_pred, y_true):\n",
    "    return tf.reduce_mean((y_pred-y_true)**2)\n",
    "\n",
    "# оптимизатор \n",
    "optimizer = tf.optimizers.SGD(learning_rate=0.001)\n",
    "\n",
    "# процесс оптимизации\n",
    "def model_train(X, Y):\n",
    "\n",
    "    # находим loss и пробрасываем градиент\n",
    "    with tf.GradientTape() as g:\n",
    "        pred = model_super.encode(X)\n",
    "        loss = mean_square(pred, Y)\n",
    "\n",
    "    # Вычисляем градиенты\n",
    "    gradients = g.gradient(loss, model_super.variables)\n",
    "    \n",
    "    # Обновляем веса a и b в ходе одной итерации спуска \n",
    "    optimizer.apply_gradients(zip(gradients, model_super.variables))"
   ]
  },
  {
   "cell_type": "code",
   "execution_count": 181,
   "metadata": {},
   "outputs": [
    {
     "name": "stdout",
     "output_type": "stream",
     "text": [
      "step: 0, loss: 3361.065988\n",
      "step: 100, loss: 2802.970525\n",
      "step: 200, loss: 2415.673370\n",
      "step: 300, loss: 2138.322237\n",
      "step: 400, loss: 1933.152573\n",
      "step: 500, loss: 1776.198660\n",
      "step: 600, loss: 1651.963504\n",
      "step: 700, loss: 1550.323372\n",
      "step: 800, loss: 1464.599027\n",
      "step: 900, loss: 1390.299435\n"
     ]
    }
   ],
   "source": [
    "#Обучение\n",
    "epochs = 1000 # число эпох \n",
    "\n",
    "for i in range(epochs):\n",
    "    \n",
    "    # Делаем щаг градиентного спуска \n",
    "    model_train(x_train, y_train)\n",
    "    \n",
    "    # Каждую сотую итерацию следим за тем, что произошло\n",
    "    if i%100 == 0:\n",
    "        y_pred = model_super.encode(x_train)\n",
    "        loss_val = mean_square(y_pred, y_train)\n",
    "        print(\"step: %i, loss: %f\" % (i, loss_val))"
   ]
  },
  {
   "cell_type": "markdown",
   "metadata": {},
   "source": [
    "#  Свой слой на Tensorflow для Keras\n",
    "\n",
    "Новые слои можно писать на основе керасовского класса `Layer`. Если прописать `help(tf.keras.layers.Layer)`, можно почитать про него. Если в кратце, нужно реализовать три части: \n",
    "\n",
    "* Конструктор, в нём мы описываем гиперпараметры \n",
    "* Метод `build`, в которм мы описываем все переменные \n",
    "* Метод `call`, который делает forward pass"
   ]
  },
  {
   "cell_type": "code",
   "execution_count": 182,
   "metadata": {},
   "outputs": [],
   "source": [
    "class MyLinear(L.Layer):\n",
    "    \n",
    "    # Задаём консруктор \n",
    "    def __init__(self, units=32):\n",
    "        super(MyLinear, self).__init__()  # чтобы коректно унаследовались методы\n",
    "        self.units = units                # число нейронов\n",
    "\n",
    "    def build(self, input_shape):\n",
    "        # add_weight внутри build то же самое что и Variable, но совместимо с Keras\n",
    "        self.w = self.add_weight(shape=(input_shape[-1], self.units),\n",
    "                                 initializer='random_normal', \n",
    "                                 trainable=True)\n",
    "        \n",
    "        self.b = self.add_weight(shape=(self.units,),\n",
    "                                 initializer='random_normal', \n",
    "                                 trainable=True)\n",
    "\n",
    "    # Применение \n",
    "    def call(self, inputs):\n",
    "        # сразу делаем и линейное преобразование и ReLU (а почему бы и нет)\n",
    "        return tf.nn.relu(tf.matmul(inputs, self.w) + self.b) "
   ]
  },
  {
   "cell_type": "code",
   "execution_count": 183,
   "metadata": {},
   "outputs": [],
   "source": [
    "model_custom = Sequential(name = 'simple_model')\n",
    "model_custom.add(L.Input(shape = (28,28))) \n",
    "model_custom.add(L.Flatten()) \n",
    "model_custom.add(L.Dense(100,  kernel_initializer='random_normal',name='First',activation='relu'))\n",
    "model_custom.add(MyLinear()) ### Самый красивый слой\n",
    "model_custom.add(L.Dense(10, kernel_initializer = 'random_normal',name='Output',activation='softmax'))\n",
    "opt = keras.optimizers.Adam(learning_rate=1e-4) \n",
    "model_custom.compile(optimizer=opt,loss='categorical_crossentropy',\n",
    "             metrics=[\"categorical_accuracy\"]) "
   ]
  },
  {
   "cell_type": "code",
   "execution_count": 184,
   "metadata": {
    "scrolled": true
   },
   "outputs": [
    {
     "name": "stdout",
     "output_type": "stream",
     "text": [
      "Train on 50000 samples, validate on 10000 samples\n",
      "Epoch 1/20\n",
      "50000/50000 [==============================] - 1s 24us/sample - loss: 2.1697 - categorical_accuracy: 0.4019 - val_loss: 1.9278 - val_categorical_accuracy: 0.4937\n",
      "Epoch 2/20\n",
      "50000/50000 [==============================] - 1s 15us/sample - loss: 1.5984 - categorical_accuracy: 0.5277 - val_loss: 1.3151 - val_categorical_accuracy: 0.5501\n",
      "Epoch 3/20\n",
      "50000/50000 [==============================] - 1s 15us/sample - loss: 1.1363 - categorical_accuracy: 0.6411 - val_loss: 1.0176 - val_categorical_accuracy: 0.6572\n",
      "Epoch 4/20\n",
      "50000/50000 [==============================] - 1s 16us/sample - loss: 0.9295 - categorical_accuracy: 0.6776 - val_loss: 0.8787 - val_categorical_accuracy: 0.6768\n",
      "Epoch 5/20\n",
      "50000/50000 [==============================] - 1s 16us/sample - loss: 0.8209 - categorical_accuracy: 0.7014 - val_loss: 0.7971 - val_categorical_accuracy: 0.7037\n",
      "Epoch 6/20\n",
      "50000/50000 [==============================] - 1s 16us/sample - loss: 0.7503 - categorical_accuracy: 0.7290 - val_loss: 0.7400 - val_categorical_accuracy: 0.7377\n",
      "Epoch 7/20\n",
      "38500/50000 [======================>.......] - ETA: 0s - loss: 0.7057 - categorical_accuracy: 0.7538WARNING:tensorflow:Early stopping conditioned on metric `val_loss` which is not available. Available metrics are: loss,categorical_accuracy\n",
      "WARNING:tensorflow:Reduce LR on plateau conditioned on metric `val_loss` which is not available. Available metrics are: loss,categorical_accuracy,lr\n"
     ]
    },
    {
     "ename": "KeyboardInterrupt",
     "evalue": "",
     "output_type": "error",
     "traceback": [
      "\u001b[1;31m---------------------------------------------------------------------------\u001b[0m",
      "\u001b[1;31mKeyboardInterrupt\u001b[0m                         Traceback (most recent call last)",
      "\u001b[1;32m<ipython-input-184-2c19b3f9afe5>\u001b[0m in \u001b[0;36m<module>\u001b[1;34m\u001b[0m\n\u001b[0;32m      1\u001b[0m history = model_custom.fit(X_train,y_train_ohe,batch_size=500,epochs=20,\n\u001b[0;32m      2\u001b[0m                      \u001b[0mvalidation_data\u001b[0m \u001b[1;33m=\u001b[0m \u001b[1;33m(\u001b[0m\u001b[0mX_val\u001b[0m\u001b[1;33m,\u001b[0m\u001b[0my_val_ohe\u001b[0m\u001b[1;33m)\u001b[0m\u001b[1;33m,\u001b[0m\u001b[1;33m\u001b[0m\u001b[1;33m\u001b[0m\u001b[0m\n\u001b[1;32m----> 3\u001b[1;33m                     callbacks = [early_stop,reduce_on_plateau],verbose=1)\n\u001b[0m",
      "\u001b[1;32m~\\Anaconda3\\envs\\tf_gpu\\lib\\site-packages\\tensorflow_core\\python\\keras\\engine\\training.py\u001b[0m in \u001b[0;36mfit\u001b[1;34m(self, x, y, batch_size, epochs, verbose, callbacks, validation_split, validation_data, shuffle, class_weight, sample_weight, initial_epoch, steps_per_epoch, validation_steps, validation_freq, max_queue_size, workers, use_multiprocessing, **kwargs)\u001b[0m\n\u001b[0;32m    817\u001b[0m         \u001b[0mmax_queue_size\u001b[0m\u001b[1;33m=\u001b[0m\u001b[0mmax_queue_size\u001b[0m\u001b[1;33m,\u001b[0m\u001b[1;33m\u001b[0m\u001b[1;33m\u001b[0m\u001b[0m\n\u001b[0;32m    818\u001b[0m         \u001b[0mworkers\u001b[0m\u001b[1;33m=\u001b[0m\u001b[0mworkers\u001b[0m\u001b[1;33m,\u001b[0m\u001b[1;33m\u001b[0m\u001b[1;33m\u001b[0m\u001b[0m\n\u001b[1;32m--> 819\u001b[1;33m         use_multiprocessing=use_multiprocessing)\n\u001b[0m\u001b[0;32m    820\u001b[0m \u001b[1;33m\u001b[0m\u001b[0m\n\u001b[0;32m    821\u001b[0m   def evaluate(self,\n",
      "\u001b[1;32m~\\Anaconda3\\envs\\tf_gpu\\lib\\site-packages\\tensorflow_core\\python\\keras\\engine\\training_v2.py\u001b[0m in \u001b[0;36mfit\u001b[1;34m(self, model, x, y, batch_size, epochs, verbose, callbacks, validation_split, validation_data, shuffle, class_weight, sample_weight, initial_epoch, steps_per_epoch, validation_steps, validation_freq, max_queue_size, workers, use_multiprocessing, **kwargs)\u001b[0m\n\u001b[0;32m    340\u001b[0m                 \u001b[0mmode\u001b[0m\u001b[1;33m=\u001b[0m\u001b[0mModeKeys\u001b[0m\u001b[1;33m.\u001b[0m\u001b[0mTRAIN\u001b[0m\u001b[1;33m,\u001b[0m\u001b[1;33m\u001b[0m\u001b[1;33m\u001b[0m\u001b[0m\n\u001b[0;32m    341\u001b[0m                 \u001b[0mtraining_context\u001b[0m\u001b[1;33m=\u001b[0m\u001b[0mtraining_context\u001b[0m\u001b[1;33m,\u001b[0m\u001b[1;33m\u001b[0m\u001b[1;33m\u001b[0m\u001b[0m\n\u001b[1;32m--> 342\u001b[1;33m                 total_epochs=epochs)\n\u001b[0m\u001b[0;32m    343\u001b[0m             \u001b[0mcbks\u001b[0m\u001b[1;33m.\u001b[0m\u001b[0mmake_logs\u001b[0m\u001b[1;33m(\u001b[0m\u001b[0mmodel\u001b[0m\u001b[1;33m,\u001b[0m \u001b[0mepoch_logs\u001b[0m\u001b[1;33m,\u001b[0m \u001b[0mtraining_result\u001b[0m\u001b[1;33m,\u001b[0m \u001b[0mModeKeys\u001b[0m\u001b[1;33m.\u001b[0m\u001b[0mTRAIN\u001b[0m\u001b[1;33m)\u001b[0m\u001b[1;33m\u001b[0m\u001b[1;33m\u001b[0m\u001b[0m\n\u001b[0;32m    344\u001b[0m \u001b[1;33m\u001b[0m\u001b[0m\n",
      "\u001b[1;32m~\\Anaconda3\\envs\\tf_gpu\\lib\\site-packages\\tensorflow_core\\python\\keras\\engine\\training_v2.py\u001b[0m in \u001b[0;36mrun_one_epoch\u001b[1;34m(model, iterator, execution_function, dataset_size, batch_size, strategy, steps_per_epoch, num_samples, mode, training_context, total_epochs)\u001b[0m\n\u001b[0;32m    126\u001b[0m         step=step, mode=mode, size=current_batch_size) as batch_logs:\n\u001b[0;32m    127\u001b[0m       \u001b[1;32mtry\u001b[0m\u001b[1;33m:\u001b[0m\u001b[1;33m\u001b[0m\u001b[1;33m\u001b[0m\u001b[0m\n\u001b[1;32m--> 128\u001b[1;33m         \u001b[0mbatch_outs\u001b[0m \u001b[1;33m=\u001b[0m \u001b[0mexecution_function\u001b[0m\u001b[1;33m(\u001b[0m\u001b[0miterator\u001b[0m\u001b[1;33m)\u001b[0m\u001b[1;33m\u001b[0m\u001b[1;33m\u001b[0m\u001b[0m\n\u001b[0m\u001b[0;32m    129\u001b[0m       \u001b[1;32mexcept\u001b[0m \u001b[1;33m(\u001b[0m\u001b[0mStopIteration\u001b[0m\u001b[1;33m,\u001b[0m \u001b[0merrors\u001b[0m\u001b[1;33m.\u001b[0m\u001b[0mOutOfRangeError\u001b[0m\u001b[1;33m)\u001b[0m\u001b[1;33m:\u001b[0m\u001b[1;33m\u001b[0m\u001b[1;33m\u001b[0m\u001b[0m\n\u001b[0;32m    130\u001b[0m         \u001b[1;31m# TODO(kaftan): File bug about tf function and errors.OutOfRangeError?\u001b[0m\u001b[1;33m\u001b[0m\u001b[1;33m\u001b[0m\u001b[1;33m\u001b[0m\u001b[0m\n",
      "\u001b[1;32m~\\Anaconda3\\envs\\tf_gpu\\lib\\site-packages\\tensorflow_core\\python\\keras\\engine\\training_v2_utils.py\u001b[0m in \u001b[0;36mexecution_function\u001b[1;34m(input_fn)\u001b[0m\n\u001b[0;32m     96\u001b[0m     \u001b[1;31m# `numpy` translates Tensors to values in Eager mode.\u001b[0m\u001b[1;33m\u001b[0m\u001b[1;33m\u001b[0m\u001b[1;33m\u001b[0m\u001b[0m\n\u001b[0;32m     97\u001b[0m     return nest.map_structure(_non_none_constant_value,\n\u001b[1;32m---> 98\u001b[1;33m                               distributed_function(input_fn))\n\u001b[0m\u001b[0;32m     99\u001b[0m \u001b[1;33m\u001b[0m\u001b[0m\n\u001b[0;32m    100\u001b[0m   \u001b[1;32mreturn\u001b[0m \u001b[0mexecution_function\u001b[0m\u001b[1;33m\u001b[0m\u001b[1;33m\u001b[0m\u001b[0m\n",
      "\u001b[1;32m~\\Anaconda3\\envs\\tf_gpu\\lib\\site-packages\\tensorflow_core\\python\\eager\\def_function.py\u001b[0m in \u001b[0;36m__call__\u001b[1;34m(self, *args, **kwds)\u001b[0m\n\u001b[0;32m    566\u001b[0m         \u001b[0mxla_context\u001b[0m\u001b[1;33m.\u001b[0m\u001b[0mExit\u001b[0m\u001b[1;33m(\u001b[0m\u001b[1;33m)\u001b[0m\u001b[1;33m\u001b[0m\u001b[1;33m\u001b[0m\u001b[0m\n\u001b[0;32m    567\u001b[0m     \u001b[1;32melse\u001b[0m\u001b[1;33m:\u001b[0m\u001b[1;33m\u001b[0m\u001b[1;33m\u001b[0m\u001b[0m\n\u001b[1;32m--> 568\u001b[1;33m       \u001b[0mresult\u001b[0m \u001b[1;33m=\u001b[0m \u001b[0mself\u001b[0m\u001b[1;33m.\u001b[0m\u001b[0m_call\u001b[0m\u001b[1;33m(\u001b[0m\u001b[1;33m*\u001b[0m\u001b[0margs\u001b[0m\u001b[1;33m,\u001b[0m \u001b[1;33m**\u001b[0m\u001b[0mkwds\u001b[0m\u001b[1;33m)\u001b[0m\u001b[1;33m\u001b[0m\u001b[1;33m\u001b[0m\u001b[0m\n\u001b[0m\u001b[0;32m    569\u001b[0m \u001b[1;33m\u001b[0m\u001b[0m\n\u001b[0;32m    570\u001b[0m     \u001b[1;32mif\u001b[0m \u001b[0mtracing_count\u001b[0m \u001b[1;33m==\u001b[0m \u001b[0mself\u001b[0m\u001b[1;33m.\u001b[0m\u001b[0m_get_tracing_count\u001b[0m\u001b[1;33m(\u001b[0m\u001b[1;33m)\u001b[0m\u001b[1;33m:\u001b[0m\u001b[1;33m\u001b[0m\u001b[1;33m\u001b[0m\u001b[0m\n",
      "\u001b[1;32m~\\Anaconda3\\envs\\tf_gpu\\lib\\site-packages\\tensorflow_core\\python\\eager\\def_function.py\u001b[0m in \u001b[0;36m_call\u001b[1;34m(self, *args, **kwds)\u001b[0m\n\u001b[0;32m    597\u001b[0m       \u001b[1;31m# In this case we have created variables on the first call, so we run the\u001b[0m\u001b[1;33m\u001b[0m\u001b[1;33m\u001b[0m\u001b[1;33m\u001b[0m\u001b[0m\n\u001b[0;32m    598\u001b[0m       \u001b[1;31m# defunned version which is guaranteed to never create variables.\u001b[0m\u001b[1;33m\u001b[0m\u001b[1;33m\u001b[0m\u001b[1;33m\u001b[0m\u001b[0m\n\u001b[1;32m--> 599\u001b[1;33m       \u001b[1;32mreturn\u001b[0m \u001b[0mself\u001b[0m\u001b[1;33m.\u001b[0m\u001b[0m_stateless_fn\u001b[0m\u001b[1;33m(\u001b[0m\u001b[1;33m*\u001b[0m\u001b[0margs\u001b[0m\u001b[1;33m,\u001b[0m \u001b[1;33m**\u001b[0m\u001b[0mkwds\u001b[0m\u001b[1;33m)\u001b[0m  \u001b[1;31m# pylint: disable=not-callable\u001b[0m\u001b[1;33m\u001b[0m\u001b[1;33m\u001b[0m\u001b[0m\n\u001b[0m\u001b[0;32m    600\u001b[0m     \u001b[1;32melif\u001b[0m \u001b[0mself\u001b[0m\u001b[1;33m.\u001b[0m\u001b[0m_stateful_fn\u001b[0m \u001b[1;32mis\u001b[0m \u001b[1;32mnot\u001b[0m \u001b[1;32mNone\u001b[0m\u001b[1;33m:\u001b[0m\u001b[1;33m\u001b[0m\u001b[1;33m\u001b[0m\u001b[0m\n\u001b[0;32m    601\u001b[0m       \u001b[1;31m# Release the lock early so that multiple threads can perform the call\u001b[0m\u001b[1;33m\u001b[0m\u001b[1;33m\u001b[0m\u001b[1;33m\u001b[0m\u001b[0m\n",
      "\u001b[1;32m~\\Anaconda3\\envs\\tf_gpu\\lib\\site-packages\\tensorflow_core\\python\\eager\\function.py\u001b[0m in \u001b[0;36m__call__\u001b[1;34m(self, *args, **kwargs)\u001b[0m\n\u001b[0;32m   2361\u001b[0m     \u001b[1;32mwith\u001b[0m \u001b[0mself\u001b[0m\u001b[1;33m.\u001b[0m\u001b[0m_lock\u001b[0m\u001b[1;33m:\u001b[0m\u001b[1;33m\u001b[0m\u001b[1;33m\u001b[0m\u001b[0m\n\u001b[0;32m   2362\u001b[0m       \u001b[0mgraph_function\u001b[0m\u001b[1;33m,\u001b[0m \u001b[0margs\u001b[0m\u001b[1;33m,\u001b[0m \u001b[0mkwargs\u001b[0m \u001b[1;33m=\u001b[0m \u001b[0mself\u001b[0m\u001b[1;33m.\u001b[0m\u001b[0m_maybe_define_function\u001b[0m\u001b[1;33m(\u001b[0m\u001b[0margs\u001b[0m\u001b[1;33m,\u001b[0m \u001b[0mkwargs\u001b[0m\u001b[1;33m)\u001b[0m\u001b[1;33m\u001b[0m\u001b[1;33m\u001b[0m\u001b[0m\n\u001b[1;32m-> 2363\u001b[1;33m     \u001b[1;32mreturn\u001b[0m \u001b[0mgraph_function\u001b[0m\u001b[1;33m.\u001b[0m\u001b[0m_filtered_call\u001b[0m\u001b[1;33m(\u001b[0m\u001b[0margs\u001b[0m\u001b[1;33m,\u001b[0m \u001b[0mkwargs\u001b[0m\u001b[1;33m)\u001b[0m  \u001b[1;31m# pylint: disable=protected-access\u001b[0m\u001b[1;33m\u001b[0m\u001b[1;33m\u001b[0m\u001b[0m\n\u001b[0m\u001b[0;32m   2364\u001b[0m \u001b[1;33m\u001b[0m\u001b[0m\n\u001b[0;32m   2365\u001b[0m   \u001b[1;33m@\u001b[0m\u001b[0mproperty\u001b[0m\u001b[1;33m\u001b[0m\u001b[1;33m\u001b[0m\u001b[0m\n",
      "\u001b[1;32m~\\Anaconda3\\envs\\tf_gpu\\lib\\site-packages\\tensorflow_core\\python\\eager\\function.py\u001b[0m in \u001b[0;36m_filtered_call\u001b[1;34m(self, args, kwargs)\u001b[0m\n\u001b[0;32m   1609\u001b[0m          if isinstance(t, (ops.Tensor,\n\u001b[0;32m   1610\u001b[0m                            resource_variable_ops.BaseResourceVariable))),\n\u001b[1;32m-> 1611\u001b[1;33m         self.captured_inputs)\n\u001b[0m\u001b[0;32m   1612\u001b[0m \u001b[1;33m\u001b[0m\u001b[0m\n\u001b[0;32m   1613\u001b[0m   \u001b[1;32mdef\u001b[0m \u001b[0m_call_flat\u001b[0m\u001b[1;33m(\u001b[0m\u001b[0mself\u001b[0m\u001b[1;33m,\u001b[0m \u001b[0margs\u001b[0m\u001b[1;33m,\u001b[0m \u001b[0mcaptured_inputs\u001b[0m\u001b[1;33m,\u001b[0m \u001b[0mcancellation_manager\u001b[0m\u001b[1;33m=\u001b[0m\u001b[1;32mNone\u001b[0m\u001b[1;33m)\u001b[0m\u001b[1;33m:\u001b[0m\u001b[1;33m\u001b[0m\u001b[1;33m\u001b[0m\u001b[0m\n",
      "\u001b[1;32m~\\Anaconda3\\envs\\tf_gpu\\lib\\site-packages\\tensorflow_core\\python\\eager\\function.py\u001b[0m in \u001b[0;36m_call_flat\u001b[1;34m(self, args, captured_inputs, cancellation_manager)\u001b[0m\n\u001b[0;32m   1690\u001b[0m       \u001b[1;31m# No tape is watching; skip to running the function.\u001b[0m\u001b[1;33m\u001b[0m\u001b[1;33m\u001b[0m\u001b[1;33m\u001b[0m\u001b[0m\n\u001b[0;32m   1691\u001b[0m       return self._build_call_outputs(self._inference_function.call(\n\u001b[1;32m-> 1692\u001b[1;33m           ctx, args, cancellation_manager=cancellation_manager))\n\u001b[0m\u001b[0;32m   1693\u001b[0m     forward_backward = self._select_forward_and_backward_functions(\n\u001b[0;32m   1694\u001b[0m         \u001b[0margs\u001b[0m\u001b[1;33m,\u001b[0m\u001b[1;33m\u001b[0m\u001b[1;33m\u001b[0m\u001b[0m\n",
      "\u001b[1;32m~\\Anaconda3\\envs\\tf_gpu\\lib\\site-packages\\tensorflow_core\\python\\eager\\function.py\u001b[0m in \u001b[0;36mcall\u001b[1;34m(self, ctx, args, cancellation_manager)\u001b[0m\n\u001b[0;32m    543\u001b[0m               \u001b[0minputs\u001b[0m\u001b[1;33m=\u001b[0m\u001b[0margs\u001b[0m\u001b[1;33m,\u001b[0m\u001b[1;33m\u001b[0m\u001b[1;33m\u001b[0m\u001b[0m\n\u001b[0;32m    544\u001b[0m               \u001b[0mattrs\u001b[0m\u001b[1;33m=\u001b[0m\u001b[1;33m(\u001b[0m\u001b[1;34m\"executor_type\"\u001b[0m\u001b[1;33m,\u001b[0m \u001b[0mexecutor_type\u001b[0m\u001b[1;33m,\u001b[0m \u001b[1;34m\"config_proto\"\u001b[0m\u001b[1;33m,\u001b[0m \u001b[0mconfig\u001b[0m\u001b[1;33m)\u001b[0m\u001b[1;33m,\u001b[0m\u001b[1;33m\u001b[0m\u001b[1;33m\u001b[0m\u001b[0m\n\u001b[1;32m--> 545\u001b[1;33m               ctx=ctx)\n\u001b[0m\u001b[0;32m    546\u001b[0m         \u001b[1;32melse\u001b[0m\u001b[1;33m:\u001b[0m\u001b[1;33m\u001b[0m\u001b[1;33m\u001b[0m\u001b[0m\n\u001b[0;32m    547\u001b[0m           outputs = execute.execute_with_cancellation(\n",
      "\u001b[1;32m~\\Anaconda3\\envs\\tf_gpu\\lib\\site-packages\\tensorflow_core\\python\\eager\\execute.py\u001b[0m in \u001b[0;36mquick_execute\u001b[1;34m(op_name, num_outputs, inputs, attrs, ctx, name)\u001b[0m\n\u001b[0;32m     59\u001b[0m     tensors = pywrap_tensorflow.TFE_Py_Execute(ctx._handle, device_name,\n\u001b[0;32m     60\u001b[0m                                                \u001b[0mop_name\u001b[0m\u001b[1;33m,\u001b[0m \u001b[0minputs\u001b[0m\u001b[1;33m,\u001b[0m \u001b[0mattrs\u001b[0m\u001b[1;33m,\u001b[0m\u001b[1;33m\u001b[0m\u001b[1;33m\u001b[0m\u001b[0m\n\u001b[1;32m---> 61\u001b[1;33m                                                num_outputs)\n\u001b[0m\u001b[0;32m     62\u001b[0m   \u001b[1;32mexcept\u001b[0m \u001b[0mcore\u001b[0m\u001b[1;33m.\u001b[0m\u001b[0m_NotOkStatusException\u001b[0m \u001b[1;32mas\u001b[0m \u001b[0me\u001b[0m\u001b[1;33m:\u001b[0m\u001b[1;33m\u001b[0m\u001b[1;33m\u001b[0m\u001b[0m\n\u001b[0;32m     63\u001b[0m     \u001b[1;32mif\u001b[0m \u001b[0mname\u001b[0m \u001b[1;32mis\u001b[0m \u001b[1;32mnot\u001b[0m \u001b[1;32mNone\u001b[0m\u001b[1;33m:\u001b[0m\u001b[1;33m\u001b[0m\u001b[1;33m\u001b[0m\u001b[0m\n",
      "\u001b[1;31mKeyboardInterrupt\u001b[0m: "
     ]
    }
   ],
   "source": [
    "history = model_custom.fit(X_train,y_train_ohe,batch_size=500,epochs=20,\n",
    "                     validation_data = (X_val,y_val_ohe),\n",
    "                    callbacks = [early_stop,reduce_on_plateau],verbose=1)"
   ]
  },
  {
   "cell_type": "markdown",
   "metadata": {},
   "source": [
    "Ну и нам остался пример, как взять срез модели. Посмотреть прогнозы в середине"
   ]
  },
  {
   "cell_type": "code",
   "execution_count": 188,
   "metadata": {},
   "outputs": [],
   "source": [
    "model = create_simple_model()"
   ]
  },
  {
   "cell_type": "code",
   "execution_count": 189,
   "metadata": {},
   "outputs": [
    {
     "name": "stdout",
     "output_type": "stream",
     "text": [
      "Model: \"simple_model\"\n",
      "_________________________________________________________________\n",
      "Layer (type)                 Output Shape              Param #   \n",
      "=================================================================\n",
      "flatten_21 (Flatten)         (None, 784)               0         \n",
      "_________________________________________________________________\n",
      "First (Dense)                (None, 100)               78500     \n",
      "_________________________________________________________________\n",
      "Second (Dense)               (None, 100)               10100     \n",
      "_________________________________________________________________\n",
      "Output (Dense)               (None, 10)                1010      \n",
      "=================================================================\n",
      "Total params: 89,610\n",
      "Trainable params: 89,610\n",
      "Non-trainable params: 0\n",
      "_________________________________________________________________\n"
     ]
    }
   ],
   "source": [
    "model.summary()"
   ]
  },
  {
   "cell_type": "code",
   "execution_count": 190,
   "metadata": {},
   "outputs": [],
   "source": [
    "history = model.fit(X_train,y_train_ohe,batch_size=500,epochs=20,\n",
    "                     validation_data = (X_val,y_val_ohe),\n",
    "                    callbacks = [early_stop,reduce_on_plateau],verbose=0)"
   ]
  },
  {
   "cell_type": "code",
   "execution_count": 191,
   "metadata": {},
   "outputs": [],
   "source": [
    "# Извлекаем выходы верхних 2х слоев\n",
    "layer_outputs = [layer.output for layer in model.layers[1:3]]\n",
    "# создаем модель, которая вернет эти выходы с учетом заданнаго входа\n",
    "activation_model = keras.Model(inputs=model.input, outputs=layer_outputs)"
   ]
  },
  {
   "cell_type": "code",
   "execution_count": 192,
   "metadata": {},
   "outputs": [],
   "source": [
    "prediction = activation_model.predict(X_val)"
   ]
  },
  {
   "cell_type": "code",
   "execution_count": 196,
   "metadata": {},
   "outputs": [
    {
     "data": {
      "text/plain": [
       "[array([[4.37023959, 1.23396861, 3.51238532, ..., 4.16693784, 1.81672091,\n",
       "         2.20411849],\n",
       "        [6.94814981, 1.14500814, 5.27569097, ..., 2.09566685, 3.48258068,\n",
       "         1.07524494],\n",
       "        [1.07620763, 1.94087692, 0.15785509, ..., 0.25897033, 0.47017189,\n",
       "         0.33243196],\n",
       "        ...,\n",
       "        [4.68589903, 2.05222942, 1.8294265 , ..., 0.        , 2.08374841,\n",
       "         0.32991082],\n",
       "        [1.21789699, 0.89316549, 1.37696869, ..., 1.17656514, 0.74840467,\n",
       "         0.64089733],\n",
       "        [1.09191236, 1.73304391, 1.22410031, ..., 1.06005862, 0.45346914,\n",
       "         0.99722246]]),\n",
       " array([[6.41297614, 4.0618314 , 5.14493456, ..., 0.        , 1.85787004,\n",
       "         2.21333011],\n",
       "        [8.37848403, 0.73636084, 5.23691613, ..., 0.        , 0.        ,\n",
       "         5.53890122],\n",
       "        [1.40693001, 4.11016869, 3.42238888, ..., 0.        , 0.40670065,\n",
       "         0.31541483],\n",
       "        ...,\n",
       "        [0.81557945, 1.4955361 , 0.        , ..., 0.        , 4.38391012,\n",
       "         0.        ],\n",
       "        [3.03714156, 4.85251103, 3.79349022, ..., 0.        , 2.19240426,\n",
       "         0.5956423 ],\n",
       "        [2.43239829, 4.44891253, 3.71013429, ..., 0.        , 1.23220635,\n",
       "         0.78123246]])]"
      ]
     },
     "execution_count": 196,
     "metadata": {},
     "output_type": "execute_result"
    }
   ],
   "source": [
    "prediction"
   ]
  },
  {
   "cell_type": "code",
   "execution_count": 194,
   "metadata": {},
   "outputs": [
    {
     "data": {
      "text/plain": [
       "[<tf.Tensor 'First_11/Identity:0' shape=(None, 100) dtype=float64>,\n",
       " <tf.Tensor 'Second_9/Identity:0' shape=(None, 100) dtype=float64>]"
      ]
     },
     "execution_count": 194,
     "metadata": {},
     "output_type": "execute_result"
    }
   ],
   "source": [
    "layer_outputs"
   ]
  },
  {
   "cell_type": "markdown",
   "metadata": {},
   "source": [
    " Что сегодня не вошло - как переопределить градиенты для своих слоев (на уровне keras очень геморойно, если уже занимаетесь этим то вряд ли пишете на верхнеуровневом фраемворке)\n",
    "Как работать с уже готовыми и обучеными моделями, дофичивать нейронки по кусочкам. Но это уже в следующих сериях :)\n",
    "\n"
   ]
  },
  {
   "cell_type": "code",
   "execution_count": null,
   "metadata": {},
   "outputs": [],
   "source": []
  },
  {
   "cell_type": "code",
   "execution_count": null,
   "metadata": {},
   "outputs": [],
   "source": []
  },
  {
   "cell_type": "code",
   "execution_count": null,
   "metadata": {},
   "outputs": [],
   "source": []
  },
  {
   "cell_type": "code",
   "execution_count": null,
   "metadata": {},
   "outputs": [],
   "source": []
  }
 ],
 "metadata": {
  "kernelspec": {
   "display_name": "tf_gpu",
   "language": "python",
   "name": "tf_gpu"
  },
  "language_info": {
   "codemirror_mode": {
    "name": "ipython",
    "version": 3
   },
   "file_extension": ".py",
   "mimetype": "text/x-python",
   "name": "python",
   "nbconvert_exporter": "python",
   "pygments_lexer": "ipython3",
   "version": "3.7.9"
  }
 },
 "nbformat": 4,
 "nbformat_minor": 4
}
