{
 "cells": [
  {
   "cell_type": "markdown",
   "metadata": {},
   "source": [
    "# Пробуем разные приколы! \n",
    "\n",
    "На самой первой паре мы много говорили про Keras, высокоуровневое API для Tensorflow. Он позволяет быстро и без боли учить нейронки, в которых не встречается особо много извращений. В этой тетрадке мы окунёмся в него чуть глубже. Работать по-прежнему будем с одеждой. "
   ]
  },
  {
   "cell_type": "code",
   "execution_count": 1,
   "metadata": {},
   "outputs": [
    {
     "data": {
      "text/plain": [
       "'2.2.0'"
      ]
     },
     "execution_count": 1,
     "metadata": {},
     "output_type": "execute_result"
    }
   ],
   "source": [
    "import numpy as np\n",
    "import tensorflow as tf\n",
    "tf.__version__ "
   ]
  },
  {
   "cell_type": "code",
   "execution_count": 2,
   "metadata": {
    "collapsed": true
   },
   "outputs": [],
   "source": [
    "from tensorflow.keras import Sequential\n",
    "keras, L = tf.keras, tf.keras.layers\n",
    "\n",
    "from sklearn.model_selection import train_test_split\n",
    "import matplotlib.pyplot as plt\n",
    "%matplotlib inline"
   ]
  },
  {
   "cell_type": "code",
   "execution_count": 3,
   "metadata": {
    "collapsed": true
   },
   "outputs": [],
   "source": [
    "fashion_mnist = tf.keras.datasets.fashion_mnist\n",
    "\n",
    "(X_train, y_train), (X_test, y_test) = fashion_mnist.load_data()\n",
    "\n",
    "X_train, X_val, y_train, y_val = train_test_split(X_train, y_train, test_size=10**4, random_state=42)\n",
    "\n",
    "X_train = X_train/ 255.\n",
    "X_val = X_val/ 255.\n",
    "X_test = X_test/ 255.\n",
    "\n",
    "class_names = ['T-shirt/top', 'Trouser', 'Pullover', 'Dress', 'Coat',\n",
    "               'Sandal', 'Shirt', 'Sneaker', 'Bag', 'Ankle boot']"
   ]
  },
  {
   "cell_type": "code",
   "execution_count": 4,
   "metadata": {},
   "outputs": [
    {
     "data": {
      "text/plain": [
       "((50000, 28, 28), (10000, 28, 28), (10000, 28, 28))"
      ]
     },
     "execution_count": 4,
     "metadata": {},
     "output_type": "execute_result"
    }
   ],
   "source": [
    "X_train.shape, X_val.shape, X_test.shape"
   ]
  },
  {
   "cell_type": "markdown",
   "metadata": {},
   "source": [
    "# 1. Инициализация и батчнорм\n",
    "\n",
    "Мы сегодня говорили о батч-нормализации и про то, как правильно в нейросетках делается инициализация весов. Давайте закрепим эти знания на практике, и переработаем их в навыки."
   ]
  },
  {
   "cell_type": "code",
   "execution_count": 5,
   "metadata": {
    "collapsed": true
   },
   "outputs": [],
   "source": [
    "# Помните зачем эта функция? :3 \n",
    "# Мы довольно активно использовали её, когда говорили про градиентные спуски\n",
    "\n",
    "def plot_history(histories, key='loss', start=0):\n",
    "    plt.figure(figsize=(16,10))\n",
    "\n",
    "    for name, history in histories:\n",
    "        val = plt.plot(history.epoch[start:], history.history['val_'+key][start:],\n",
    "                       #'--', \n",
    "                       label=name.title()+' Val')\n",
    "            #plt.plot(history.epoch[start:], history.history[key][start:], color=val[0].get_color(),\n",
    "            #     label=name.title()+' Train')\n",
    "\n",
    "    plt.xlabel('Epochs')\n",
    "    plt.ylabel(key.replace('_',' ').title())\n",
    "    plt.legend()\n",
    "\n",
    "    plt.xlim([start, max(history.epoch)])\n",
    "    pass"
   ]
  },
  {
   "cell_type": "markdown",
   "metadata": {},
   "source": [
    "### Задание 1:\n",
    "\n",
    "Для начала реализуйте простую нейросеть:\n",
    "* принимает на вход картинки размера 28 x 28\n",
    "* вытягивает их в вектор (`keras.layers.Flatten`)\n",
    "* пропускает через $6$ полносвязных слоёв с сотней нейронов и вашей любимой функцией активации\n",
    "* на выходе предсказывает веротятности принадлежности к каждому из 10 классов\n",
    "* при обучении сетки поставьте размер батча $500$, учите сетку $20$ эпох\n",
    "\n",
    "__Важно:__ поскольку в y_train лежат номера классов, керасу нужно либо указать sparse функции потерь и метрики (`sparse_categorical_crossentropy` и `sparse_categorical_accuracy`), либо конвертировать y в one-hot формат.\n",
    "\n",
    "__Ещё важнее:__ при большом батче модель будет быстрее проходить эпохи. Когда он очень большой, необходимо довольно много эпох для сходимости. Градиент обновляется редко. Когда размер батча совсем маленький, сетка может обучаться довольно шумно. "
   ]
  },
  {
   "cell_type": "code",
   "execution_count": 6,
   "metadata": {
    "collapsed": true
   },
   "outputs": [],
   "source": [
    "### ╰( ͡° ͜ʖ ͡° )つ──☆*:・ﾟ  создайте сеть по инструкции выше\n",
    "\n",
    "model = Sequential()\n",
    "# из картинки сделали вектор\n",
    "model.add(L.InputLayer(input_shape = (28,28)))\n",
    "model.add(L.Flatten())\n",
    "\n",
    "model.add(L.Dense(100, kernel_initializer='random_normal'))\n",
    "model.add(L.ReLU())\n",
    "model.add(L.Dense(100, kernel_initializer='random_normal'))\n",
    "model.add(L.ReLU())\n",
    "model.add(L.Dense(100, kernel_initializer='random_normal'))\n",
    "model.add(L.ReLU())\n",
    "model.add(L.Dense(100, kernel_initializer='random_normal'))\n",
    "model.add(L.ReLU())\n",
    "model.add(L.Dense(100, kernel_initializer='random_normal'))\n",
    "model.add(L.ReLU())\n",
    "model.add(L.Dense(100, kernel_initializer='random_normal'))\n",
    "model.add(L.ReLU())\n",
    "\n",
    "model.add(L.Dense(10, kernel_initializer = 'random_normal'))\n",
    "model.add(L.Softmax())\n",
    "\n",
    "opt = keras.optimizers.Adam(learning_rate=1e-4)\n",
    "\n",
    "model.compile(loss = 'sparse_categorical_crossentropy', \n",
    "                  metrics=[\"sparse_categorical_accuracy\"], \n",
    "                  optimizer=opt)\n",
    "tf.random.set_seed(42)"
   ]
  },
  {
   "cell_type": "code",
   "execution_count": 7,
   "metadata": {},
   "outputs": [
    {
     "name": "stdout",
     "output_type": "stream",
     "text": [
      "Epoch 1/20\n",
      "100/100 [==============================] - 1s 7ms/step - loss: 2.2150 - sparse_categorical_accuracy: 0.3145 - val_loss: 1.8147 - val_sparse_categorical_accuracy: 0.3848\n",
      "Epoch 2/20\n",
      "100/100 [==============================] - 1s 5ms/step - loss: 1.2439 - sparse_categorical_accuracy: 0.4965 - val_loss: 1.0320 - val_sparse_categorical_accuracy: 0.5631\n",
      "Epoch 3/20\n",
      "100/100 [==============================] - 1s 5ms/step - loss: 0.9522 - sparse_categorical_accuracy: 0.6014 - val_loss: 0.9056 - val_sparse_categorical_accuracy: 0.6313\n",
      "Epoch 4/20\n",
      "100/100 [==============================] - 1s 5ms/step - loss: 0.8458 - sparse_categorical_accuracy: 0.6656 - val_loss: 0.8273 - val_sparse_categorical_accuracy: 0.6771\n",
      "Epoch 5/20\n",
      "100/100 [==============================] - 1s 5ms/step - loss: 0.7942 - sparse_categorical_accuracy: 0.6872 - val_loss: 0.7910 - val_sparse_categorical_accuracy: 0.6924\n",
      "Epoch 6/20\n",
      "100/100 [==============================] - 1s 6ms/step - loss: 0.7613 - sparse_categorical_accuracy: 0.7037 - val_loss: 0.7596 - val_sparse_categorical_accuracy: 0.7063\n",
      "Epoch 7/20\n",
      "100/100 [==============================] - 1s 5ms/step - loss: 0.7335 - sparse_categorical_accuracy: 0.7190 - val_loss: 0.7360 - val_sparse_categorical_accuracy: 0.7199\n",
      "Epoch 8/20\n",
      "100/100 [==============================] - 1s 5ms/step - loss: 0.7133 - sparse_categorical_accuracy: 0.7287 - val_loss: 0.7187 - val_sparse_categorical_accuracy: 0.7222\n",
      "Epoch 9/20\n",
      "100/100 [==============================] - 1s 6ms/step - loss: 0.6890 - sparse_categorical_accuracy: 0.7408 - val_loss: 0.6939 - val_sparse_categorical_accuracy: 0.7413\n",
      "Epoch 10/20\n",
      "100/100 [==============================] - 1s 5ms/step - loss: 0.6640 - sparse_categorical_accuracy: 0.7542 - val_loss: 0.6653 - val_sparse_categorical_accuracy: 0.7592\n",
      "Epoch 11/20\n",
      "100/100 [==============================] - 1s 5ms/step - loss: 0.6352 - sparse_categorical_accuracy: 0.7697 - val_loss: 0.6523 - val_sparse_categorical_accuracy: 0.7603\n",
      "Epoch 12/20\n",
      "100/100 [==============================] - 1s 5ms/step - loss: 0.6127 - sparse_categorical_accuracy: 0.7766 - val_loss: 0.6164 - val_sparse_categorical_accuracy: 0.7727\n",
      "Epoch 13/20\n",
      "100/100 [==============================] - 1s 6ms/step - loss: 0.5959 - sparse_categorical_accuracy: 0.7826 - val_loss: 0.6061 - val_sparse_categorical_accuracy: 0.7746\n",
      "Epoch 14/20\n",
      "100/100 [==============================] - 1s 5ms/step - loss: 0.5782 - sparse_categorical_accuracy: 0.7888 - val_loss: 0.5924 - val_sparse_categorical_accuracy: 0.7805\n",
      "Epoch 15/20\n",
      "100/100 [==============================] - 1s 5ms/step - loss: 0.5660 - sparse_categorical_accuracy: 0.7909 - val_loss: 0.5792 - val_sparse_categorical_accuracy: 0.7816\n",
      "Epoch 16/20\n",
      "100/100 [==============================] - 1s 5ms/step - loss: 0.5550 - sparse_categorical_accuracy: 0.7946 - val_loss: 0.5676 - val_sparse_categorical_accuracy: 0.7863\n",
      "Epoch 17/20\n",
      "100/100 [==============================] - 1s 6ms/step - loss: 0.5465 - sparse_categorical_accuracy: 0.7997 - val_loss: 0.5566 - val_sparse_categorical_accuracy: 0.7915\n",
      "Epoch 18/20\n",
      "100/100 [==============================] - 1s 5ms/step - loss: 0.5348 - sparse_categorical_accuracy: 0.8027 - val_loss: 0.5462 - val_sparse_categorical_accuracy: 0.7944\n",
      "Epoch 19/20\n",
      "100/100 [==============================] - 1s 5ms/step - loss: 0.5247 - sparse_categorical_accuracy: 0.8062 - val_loss: 0.5433 - val_sparse_categorical_accuracy: 0.7995\n",
      "Epoch 20/20\n",
      "100/100 [==============================] - 1s 5ms/step - loss: 0.5157 - sparse_categorical_accuracy: 0.8108 - val_loss: 0.5264 - val_sparse_categorical_accuracy: 0.8073\n"
     ]
    }
   ],
   "source": [
    "hist1 = model.fit(X_train, y_train, batch_size=500, epochs=20, validation_data=(X_val, y_val))"
   ]
  },
  {
   "cell_type": "code",
   "execution_count": 8,
   "metadata": {},
   "outputs": [
    {
     "name": "stdout",
     "output_type": "stream",
     "text": [
      "Model: \"sequential\"\n",
      "_________________________________________________________________\n",
      "Layer (type)                 Output Shape              Param #   \n",
      "=================================================================\n",
      "flatten (Flatten)            (None, 784)               0         \n",
      "_________________________________________________________________\n",
      "dense (Dense)                (None, 100)               78500     \n",
      "_________________________________________________________________\n",
      "re_lu (ReLU)                 (None, 100)               0         \n",
      "_________________________________________________________________\n",
      "dense_1 (Dense)              (None, 100)               10100     \n",
      "_________________________________________________________________\n",
      "re_lu_1 (ReLU)               (None, 100)               0         \n",
      "_________________________________________________________________\n",
      "dense_2 (Dense)              (None, 100)               10100     \n",
      "_________________________________________________________________\n",
      "re_lu_2 (ReLU)               (None, 100)               0         \n",
      "_________________________________________________________________\n",
      "dense_3 (Dense)              (None, 100)               10100     \n",
      "_________________________________________________________________\n",
      "re_lu_3 (ReLU)               (None, 100)               0         \n",
      "_________________________________________________________________\n",
      "dense_4 (Dense)              (None, 100)               10100     \n",
      "_________________________________________________________________\n",
      "re_lu_4 (ReLU)               (None, 100)               0         \n",
      "_________________________________________________________________\n",
      "dense_5 (Dense)              (None, 100)               10100     \n",
      "_________________________________________________________________\n",
      "re_lu_5 (ReLU)               (None, 100)               0         \n",
      "_________________________________________________________________\n",
      "dense_6 (Dense)              (None, 10)                1010      \n",
      "_________________________________________________________________\n",
      "softmax (Softmax)            (None, 10)                0         \n",
      "=================================================================\n",
      "Total params: 130,010\n",
      "Trainable params: 130,010\n",
      "Non-trainable params: 0\n",
      "_________________________________________________________________\n"
     ]
    }
   ],
   "source": [
    "model.summary()"
   ]
  },
  {
   "cell_type": "markdown",
   "metadata": {},
   "source": [
    "### Задание 2:\n",
    "\n",
    "Возьмите ту же нейросетку и в качестве инициализации используйте либо инициализацию Хе либо Глорота (в зависимости от выбранных вами функций активации). "
   ]
  },
  {
   "cell_type": "code",
   "execution_count": 9,
   "metadata": {
    "scrolled": true
   },
   "outputs": [
    {
     "name": "stdout",
     "output_type": "stream",
     "text": [
      "Epoch 1/20\n",
      "100/100 [==============================] - 1s 6ms/step - loss: 1.4352 - sparse_categorical_accuracy: 0.5456 - val_loss: 0.7621 - val_sparse_categorical_accuracy: 0.7385\n",
      "Epoch 2/20\n",
      "100/100 [==============================] - 1s 5ms/step - loss: 0.6226 - sparse_categorical_accuracy: 0.7860 - val_loss: 0.5555 - val_sparse_categorical_accuracy: 0.8098\n",
      "Epoch 3/20\n",
      "100/100 [==============================] - 1s 5ms/step - loss: 0.5139 - sparse_categorical_accuracy: 0.8194 - val_loss: 0.4954 - val_sparse_categorical_accuracy: 0.8278\n",
      "Epoch 4/20\n",
      "100/100 [==============================] - 1s 6ms/step - loss: 0.4662 - sparse_categorical_accuracy: 0.8378 - val_loss: 0.4612 - val_sparse_categorical_accuracy: 0.8377\n",
      "Epoch 5/20\n",
      "100/100 [==============================] - 1s 5ms/step - loss: 0.4394 - sparse_categorical_accuracy: 0.8471 - val_loss: 0.4387 - val_sparse_categorical_accuracy: 0.8461\n",
      "Epoch 6/20\n",
      "100/100 [==============================] - 1s 5ms/step - loss: 0.4185 - sparse_categorical_accuracy: 0.8542 - val_loss: 0.4226 - val_sparse_categorical_accuracy: 0.8525\n",
      "Epoch 7/20\n",
      "100/100 [==============================] - 1s 6ms/step - loss: 0.4026 - sparse_categorical_accuracy: 0.8598 - val_loss: 0.4124 - val_sparse_categorical_accuracy: 0.8517\n",
      "Epoch 8/20\n",
      "100/100 [==============================] - 1s 5ms/step - loss: 0.3912 - sparse_categorical_accuracy: 0.8633 - val_loss: 0.4041 - val_sparse_categorical_accuracy: 0.8563\n",
      "Epoch 9/20\n",
      "100/100 [==============================] - 1s 5ms/step - loss: 0.3790 - sparse_categorical_accuracy: 0.8668 - val_loss: 0.3996 - val_sparse_categorical_accuracy: 0.8570\n",
      "Epoch 10/20\n",
      "100/100 [==============================] - 1s 6ms/step - loss: 0.3704 - sparse_categorical_accuracy: 0.8695 - val_loss: 0.3900 - val_sparse_categorical_accuracy: 0.8601\n",
      "Epoch 11/20\n",
      "100/100 [==============================] - 1s 5ms/step - loss: 0.3609 - sparse_categorical_accuracy: 0.8722 - val_loss: 0.3811 - val_sparse_categorical_accuracy: 0.8632\n",
      "Epoch 12/20\n",
      "100/100 [==============================] - 1s 6ms/step - loss: 0.3545 - sparse_categorical_accuracy: 0.8747 - val_loss: 0.3790 - val_sparse_categorical_accuracy: 0.8640\n",
      "Epoch 13/20\n",
      "100/100 [==============================] - 0s 5ms/step - loss: 0.3517 - sparse_categorical_accuracy: 0.8739 - val_loss: 0.3767 - val_sparse_categorical_accuracy: 0.8639\n",
      "Epoch 14/20\n",
      "100/100 [==============================] - 0s 5ms/step - loss: 0.3387 - sparse_categorical_accuracy: 0.8799 - val_loss: 0.3671 - val_sparse_categorical_accuracy: 0.8693\n",
      "Epoch 15/20\n",
      "100/100 [==============================] - 1s 5ms/step - loss: 0.3341 - sparse_categorical_accuracy: 0.8817 - val_loss: 0.3663 - val_sparse_categorical_accuracy: 0.8693\n",
      "Epoch 16/20\n",
      "100/100 [==============================] - 1s 5ms/step - loss: 0.3284 - sparse_categorical_accuracy: 0.8835 - val_loss: 0.3605 - val_sparse_categorical_accuracy: 0.8705\n",
      "Epoch 17/20\n",
      "100/100 [==============================] - 1s 5ms/step - loss: 0.3227 - sparse_categorical_accuracy: 0.8846 - val_loss: 0.3557 - val_sparse_categorical_accuracy: 0.8718\n",
      "Epoch 18/20\n",
      "100/100 [==============================] - 1s 5ms/step - loss: 0.3177 - sparse_categorical_accuracy: 0.8873 - val_loss: 0.3587 - val_sparse_categorical_accuracy: 0.8712\n",
      "Epoch 19/20\n",
      "100/100 [==============================] - 1s 5ms/step - loss: 0.3140 - sparse_categorical_accuracy: 0.8880 - val_loss: 0.3534 - val_sparse_categorical_accuracy: 0.8739\n",
      "Epoch 20/20\n",
      "100/100 [==============================] - 0s 5ms/step - loss: 0.3100 - sparse_categorical_accuracy: 0.8895 - val_loss: 0.3573 - val_sparse_categorical_accuracy: 0.8728\n"
     ]
    }
   ],
   "source": [
    "### ╰( ͡° ͜ʖ ͡° )つ──☆*:・ﾟ  создайте сеть по инструкции выше\n",
    "tf.random.set_seed(42)\n",
    "## ???\n",
    "init = 'he_uniform'\n",
    "model = Sequential()\n",
    "# из картинки сделали вектор\n",
    "model.add(L.InputLayer(input_shape = (28,28)))\n",
    "model.add(L.Flatten())\n",
    "\n",
    "model.add(L.Dense(100, kernel_initializer=init))\n",
    "model.add(L.ReLU())\n",
    "model.add(L.Dense(100, kernel_initializer=init))\n",
    "model.add(L.ReLU())\n",
    "model.add(L.Dense(100, kernel_initializer=init))\n",
    "model.add(L.ReLU())\n",
    "model.add(L.Dense(100, kernel_initializer=init))\n",
    "model.add(L.ReLU())\n",
    "model.add(L.Dense(100, kernel_initializer=init))\n",
    "model.add(L.ReLU())\n",
    "model.add(L.Dense(100, kernel_initializer=init))\n",
    "model.add(L.ReLU())\n",
    "\n",
    "model.add(L.Dense(10, kernel_initializer = init))\n",
    "model.add(L.Softmax())\n",
    "\n",
    "opt = keras.optimizers.Adam(learning_rate=1e-4)\n",
    "\n",
    "model.compile(loss = 'sparse_categorical_crossentropy', \n",
    "                  metrics=[\"sparse_categorical_accuracy\"], \n",
    "                  optimizer=opt)\n",
    "tf.random.set_seed(42)\n",
    "\n",
    "hist2 = model.fit(X_train, y_train, batch_size=500, epochs=20, validation_data=(X_val, y_val))"
   ]
  },
  {
   "cell_type": "markdown",
   "metadata": {},
   "source": [
    "### Задание 3:\n",
    "\n",
    "Берём ту же самую сетку и добавляем в неё батч-нормализацию после каждго слоя. Инициализацию замените назад на равномерную. "
   ]
  },
  {
   "cell_type": "code",
   "execution_count": 10,
   "metadata": {},
   "outputs": [
    {
     "name": "stdout",
     "output_type": "stream",
     "text": [
      "Epoch 1/20\n",
      "100/100 [==============================] - 1s 11ms/step - loss: 1.6125 - sparse_categorical_accuracy: 0.6434 - val_loss: 2.3020 - val_sparse_categorical_accuracy: 0.0997\n",
      "Epoch 2/20\n",
      "100/100 [==============================] - 1s 9ms/step - loss: 0.9661 - sparse_categorical_accuracy: 0.8103 - val_loss: 2.2637 - val_sparse_categorical_accuracy: 0.1747\n",
      "Epoch 3/20\n",
      "100/100 [==============================] - 1s 9ms/step - loss: 0.6976 - sparse_categorical_accuracy: 0.8524 - val_loss: 1.7878 - val_sparse_categorical_accuracy: 0.7035\n",
      "Epoch 4/20\n",
      "100/100 [==============================] - 1s 9ms/step - loss: 0.5532 - sparse_categorical_accuracy: 0.8689 - val_loss: 0.9639 - val_sparse_categorical_accuracy: 0.8461\n",
      "Epoch 5/20\n",
      "100/100 [==============================] - 1s 9ms/step - loss: 0.4650 - sparse_categorical_accuracy: 0.8816 - val_loss: 0.5784 - val_sparse_categorical_accuracy: 0.8656\n",
      "Epoch 6/20\n",
      "100/100 [==============================] - 1s 9ms/step - loss: 0.4065 - sparse_categorical_accuracy: 0.8895 - val_loss: 0.4726 - val_sparse_categorical_accuracy: 0.8694\n",
      "Epoch 7/20\n",
      "100/100 [==============================] - 1s 9ms/step - loss: 0.3667 - sparse_categorical_accuracy: 0.8963 - val_loss: 0.4223 - val_sparse_categorical_accuracy: 0.8719\n",
      "Epoch 8/20\n",
      "100/100 [==============================] - 1s 9ms/step - loss: 0.3328 - sparse_categorical_accuracy: 0.9030 - val_loss: 0.3963 - val_sparse_categorical_accuracy: 0.8775\n",
      "Epoch 9/20\n",
      "100/100 [==============================] - 1s 13ms/step - loss: 0.3093 - sparse_categorical_accuracy: 0.9076 - val_loss: 0.3814 - val_sparse_categorical_accuracy: 0.8780\n",
      "Epoch 10/20\n",
      "100/100 [==============================] - 1s 9ms/step - loss: 0.2848 - sparse_categorical_accuracy: 0.9138 - val_loss: 0.3721 - val_sparse_categorical_accuracy: 0.8793\n",
      "Epoch 11/20\n",
      "100/100 [==============================] - 1s 9ms/step - loss: 0.2678 - sparse_categorical_accuracy: 0.9184 - val_loss: 0.3633 - val_sparse_categorical_accuracy: 0.8821\n",
      "Epoch 12/20\n",
      "100/100 [==============================] - 1s 9ms/step - loss: 0.2533 - sparse_categorical_accuracy: 0.9218 - val_loss: 0.3569 - val_sparse_categorical_accuracy: 0.8834\n",
      "Epoch 13/20\n",
      "100/100 [==============================] - 1s 9ms/step - loss: 0.2350 - sparse_categorical_accuracy: 0.9279 - val_loss: 0.3599 - val_sparse_categorical_accuracy: 0.8806\n",
      "Epoch 14/20\n",
      "100/100 [==============================] - 1s 9ms/step - loss: 0.2227 - sparse_categorical_accuracy: 0.9306 - val_loss: 0.3647 - val_sparse_categorical_accuracy: 0.8807\n",
      "Epoch 15/20\n",
      "100/100 [==============================] - 1s 9ms/step - loss: 0.2084 - sparse_categorical_accuracy: 0.9357 - val_loss: 0.3548 - val_sparse_categorical_accuracy: 0.8853\n",
      "Epoch 16/20\n",
      "100/100 [==============================] - 1s 9ms/step - loss: 0.1967 - sparse_categorical_accuracy: 0.9387 - val_loss: 0.3614 - val_sparse_categorical_accuracy: 0.8800\n",
      "Epoch 17/20\n",
      "100/100 [==============================] - 1s 12ms/step - loss: 0.1853 - sparse_categorical_accuracy: 0.9422 - val_loss: 0.3744 - val_sparse_categorical_accuracy: 0.8752\n",
      "Epoch 18/20\n",
      "100/100 [==============================] - 1s 12ms/step - loss: 0.1804 - sparse_categorical_accuracy: 0.9437 - val_loss: 0.3785 - val_sparse_categorical_accuracy: 0.8766\n",
      "Epoch 19/20\n",
      "100/100 [==============================] - 1s 9ms/step - loss: 0.1680 - sparse_categorical_accuracy: 0.9476 - val_loss: 0.3788 - val_sparse_categorical_accuracy: 0.8765\n",
      "Epoch 20/20\n",
      "100/100 [==============================] - 1s 9ms/step - loss: 0.1566 - sparse_categorical_accuracy: 0.9519 - val_loss: 0.3643 - val_sparse_categorical_accuracy: 0.8831\n"
     ]
    }
   ],
   "source": [
    "### ╰( ͡° ͜ʖ ͡° )つ──☆*:・ﾟ  создайте сеть по инструкции выше\n",
    "tf.random.set_seed(42)\n",
    "init = 'uniform'\n",
    "model = Sequential()\n",
    "# из картинки сделали вектор\n",
    "model.add(L.InputLayer(input_shape = (28,28)))\n",
    "model.add(L.Flatten())\n",
    "\n",
    "model.add(L.Dense(100, kernel_initializer=init))\n",
    "model.add(L.BatchNormalization())\n",
    "model.add(L.ReLU())\n",
    "model.add(L.Dense(100, kernel_initializer=init))\n",
    "model.add(L.BatchNormalization())\n",
    "model.add(L.ReLU())\n",
    "model.add(L.Dense(100, kernel_initializer=init))\n",
    "model.add(L.BatchNormalization())\n",
    "model.add(L.ReLU())\n",
    "model.add(L.Dense(100, kernel_initializer=init))\n",
    "model.add(L.BatchNormalization())\n",
    "model.add(L.ReLU())\n",
    "model.add(L.Dense(100, kernel_initializer=init))\n",
    "model.add(L.BatchNormalization())\n",
    "model.add(L.ReLU())\n",
    "model.add(L.Dense(100, kernel_initializer=init))\n",
    "model.add(L.BatchNormalization())\n",
    "model.add(L.ReLU())\n",
    "\n",
    "model.add(L.Dense(10, kernel_initializer = init))\n",
    "model.add(L.Softmax())\n",
    "\n",
    "opt = keras.optimizers.Adam(learning_rate=1e-4)\n",
    "\n",
    "model.compile(loss = 'sparse_categorical_crossentropy', \n",
    "                  metrics=[\"sparse_categorical_accuracy\"], \n",
    "                  optimizer=opt)\n",
    "tf.random.set_seed(42)\n",
    "\n",
    "hist3 = model.fit(X_train, y_train, batch_size=500, epochs=20, validation_data=(X_val, y_val))\n",
    "\n"
   ]
  },
  {
   "cell_type": "markdown",
   "metadata": {},
   "source": [
    "### Задание 4:\n",
    "\n",
    "А теперь сразу и инициализация и батч-нормализация."
   ]
  },
  {
   "cell_type": "code",
   "execution_count": 11,
   "metadata": {},
   "outputs": [
    {
     "name": "stdout",
     "output_type": "stream",
     "text": [
      "Epoch 1/20\n",
      "100/100 [==============================] - 1s 10ms/step - loss: 1.6147 - sparse_categorical_accuracy: 0.4915 - val_loss: 1.6038 - val_sparse_categorical_accuracy: 0.6039\n",
      "Epoch 2/20\n",
      "100/100 [==============================] - 1s 10ms/step - loss: 0.8733 - sparse_categorical_accuracy: 0.7432 - val_loss: 0.9436 - val_sparse_categorical_accuracy: 0.7333\n",
      "Epoch 3/20\n",
      "100/100 [==============================] - 1s 9ms/step - loss: 0.6619 - sparse_categorical_accuracy: 0.7905 - val_loss: 0.6715 - val_sparse_categorical_accuracy: 0.7890\n",
      "Epoch 4/20\n",
      "100/100 [==============================] - 1s 10ms/step - loss: 0.5576 - sparse_categorical_accuracy: 0.8175 - val_loss: 0.5555 - val_sparse_categorical_accuracy: 0.8145\n",
      "Epoch 5/20\n",
      "100/100 [==============================] - 1s 9ms/step - loss: 0.4941 - sparse_categorical_accuracy: 0.8353 - val_loss: 0.5027 - val_sparse_categorical_accuracy: 0.8280\n",
      "Epoch 6/20\n",
      "100/100 [==============================] - 1s 10ms/step - loss: 0.4509 - sparse_categorical_accuracy: 0.8462 - val_loss: 0.4652 - val_sparse_categorical_accuracy: 0.8406\n",
      "Epoch 7/20\n",
      "100/100 [==============================] - 1s 9ms/step - loss: 0.4204 - sparse_categorical_accuracy: 0.8549 - val_loss: 0.4403 - val_sparse_categorical_accuracy: 0.8470\n",
      "Epoch 8/20\n",
      "100/100 [==============================] - 1s 9ms/step - loss: 0.3938 - sparse_categorical_accuracy: 0.8639 - val_loss: 0.4254 - val_sparse_categorical_accuracy: 0.8518\n",
      "Epoch 9/20\n",
      "100/100 [==============================] - 1s 9ms/step - loss: 0.3754 - sparse_categorical_accuracy: 0.8697 - val_loss: 0.4099 - val_sparse_categorical_accuracy: 0.8547\n",
      "Epoch 10/20\n",
      "100/100 [==============================] - 1s 9ms/step - loss: 0.3578 - sparse_categorical_accuracy: 0.8754 - val_loss: 0.3967 - val_sparse_categorical_accuracy: 0.8581\n",
      "Epoch 11/20\n",
      "100/100 [==============================] - 1s 9ms/step - loss: 0.3427 - sparse_categorical_accuracy: 0.8791 - val_loss: 0.3883 - val_sparse_categorical_accuracy: 0.8627\n",
      "Epoch 12/20\n",
      "100/100 [==============================] - 1s 10ms/step - loss: 0.3299 - sparse_categorical_accuracy: 0.8848 - val_loss: 0.3819 - val_sparse_categorical_accuracy: 0.8620\n",
      "Epoch 13/20\n",
      "100/100 [==============================] - 1s 10ms/step - loss: 0.3177 - sparse_categorical_accuracy: 0.8891 - val_loss: 0.3760 - val_sparse_categorical_accuracy: 0.8644\n",
      "Epoch 14/20\n",
      "100/100 [==============================] - 1s 9ms/step - loss: 0.3072 - sparse_categorical_accuracy: 0.8917 - val_loss: 0.3721 - val_sparse_categorical_accuracy: 0.8643\n",
      "Epoch 15/20\n",
      "100/100 [==============================] - 1s 9ms/step - loss: 0.2963 - sparse_categorical_accuracy: 0.8956 - val_loss: 0.3702 - val_sparse_categorical_accuracy: 0.8689\n",
      "Epoch 16/20\n",
      "100/100 [==============================] - 1s 9ms/step - loss: 0.2868 - sparse_categorical_accuracy: 0.8986 - val_loss: 0.3676 - val_sparse_categorical_accuracy: 0.8677\n",
      "Epoch 17/20\n",
      "100/100 [==============================] - 1s 10ms/step - loss: 0.2773 - sparse_categorical_accuracy: 0.9029 - val_loss: 0.3668 - val_sparse_categorical_accuracy: 0.8685\n",
      "Epoch 18/20\n",
      "100/100 [==============================] - 1s 10ms/step - loss: 0.2716 - sparse_categorical_accuracy: 0.9041 - val_loss: 0.3603 - val_sparse_categorical_accuracy: 0.8722\n",
      "Epoch 19/20\n",
      "100/100 [==============================] - 1s 9ms/step - loss: 0.2625 - sparse_categorical_accuracy: 0.9076 - val_loss: 0.3637 - val_sparse_categorical_accuracy: 0.8702\n",
      "Epoch 20/20\n",
      "100/100 [==============================] - 1s 9ms/step - loss: 0.2536 - sparse_categorical_accuracy: 0.9108 - val_loss: 0.3599 - val_sparse_categorical_accuracy: 0.8712\n"
     ]
    }
   ],
   "source": [
    "### ╰( ͡° ͜ʖ ͡° )つ──☆*:・ﾟ  создайте сеть по инструкции выше\n",
    "tf.random.set_seed(42)\n",
    "init = 'he_uniform'\n",
    "model = Sequential()\n",
    "# из картинки сделали вектор\n",
    "model.add(L.InputLayer(input_shape = (28,28)))\n",
    "model.add(L.Flatten())\n",
    "\n",
    "model.add(L.Dense(100, kernel_initializer=init))\n",
    "model.add(L.BatchNormalization())\n",
    "model.add(L.ReLU())\n",
    "model.add(L.Dense(100, kernel_initializer=init))\n",
    "model.add(L.BatchNormalization())\n",
    "model.add(L.ReLU())\n",
    "model.add(L.Dense(100, kernel_initializer=init))\n",
    "model.add(L.BatchNormalization())\n",
    "model.add(L.ReLU())\n",
    "model.add(L.Dense(100, kernel_initializer=init))\n",
    "model.add(L.BatchNormalization())\n",
    "model.add(L.ReLU())\n",
    "model.add(L.Dense(100, kernel_initializer=init))\n",
    "model.add(L.BatchNormalization())\n",
    "model.add(L.ReLU())\n",
    "model.add(L.Dense(100, kernel_initializer=init))\n",
    "model.add(L.BatchNormalization())\n",
    "model.add(L.ReLU())\n",
    "\n",
    "model.add(L.Dense(10, kernel_initializer = init))\n",
    "model.add(L.Softmax())\n",
    "\n",
    "opt = keras.optimizers.Adam(learning_rate=1e-4)\n",
    "\n",
    "model.compile(loss = 'sparse_categorical_crossentropy', \n",
    "                  metrics=[\"sparse_categorical_accuracy\"], \n",
    "                  optimizer=opt)\n",
    "tf.random.set_seed(42)\n",
    "\n",
    "hist4 = model.fit(X_train, y_train, batch_size=500, epochs=20, validation_data=(X_val, y_val))\n",
    "\n",
    "\n"
   ]
  },
  {
   "cell_type": "markdown",
   "metadata": {},
   "source": [
    "### Задание 5:\n",
    "\n",
    "Дело осталось за малым. Нарисовать траектории обучения всех сеток на одной картинке и сравнить их между собой."
   ]
  },
  {
   "cell_type": "code",
   "execution_count": 12,
   "metadata": {},
   "outputs": [
    {
     "data": {
      "image/png": "[encoded data removed]",
      "text/plain": [
       "<Figure size 1152x720 with 1 Axes>"
      ]
     },
     "metadata": {},
     "output_type": "display_data"
    }
   ],
   "source": [
    "plot_history([('uniform',    hist1), \n",
    "              ('he_uniform', hist2),\n",
    "              ('batch_norm', hist3),\n",
    "              ('together',   hist4)\n",
    "             ],\n",
    "             start=0)"
   ]
  },
  {
   "cell_type": "markdown",
   "metadata": {},
   "source": [
    "## 2. Функции активации  \n",
    "\n",
    "### Задание 6:\n",
    "\n",
    "Давайте попробуем поймать эффект, когда у нашей нейронки наступает паралич. Возьмите самый первый вариант нейросетки и замените все функции активации на сигмоиды. \n",
    "\n"
   ]
  },
  {
   "cell_type": "code",
   "execution_count": 13,
   "metadata": {
    "scrolled": false
   },
   "outputs": [
    {
     "name": "stdout",
     "output_type": "stream",
     "text": [
      "Epoch 1/20\n",
      "100/100 [==============================] - 1s 6ms/step - loss: 2.3035 - sparse_categorical_accuracy: 0.1011 - val_loss: 2.3030 - val_sparse_categorical_accuracy: 0.1016\n",
      "Epoch 2/20\n",
      "100/100 [==============================] - 1s 6ms/step - loss: 2.3029 - sparse_categorical_accuracy: 0.0991 - val_loss: 2.3026 - val_sparse_categorical_accuracy: 0.0997\n",
      "Epoch 3/20\n",
      "100/100 [==============================] - 1s 6ms/step - loss: 2.3028 - sparse_categorical_accuracy: 0.0984 - val_loss: 2.3028 - val_sparse_categorical_accuracy: 0.0947\n",
      "Epoch 4/20\n",
      "100/100 [==============================] - 1s 6ms/step - loss: 2.3029 - sparse_categorical_accuracy: 0.0995 - val_loss: 2.3030 - val_sparse_categorical_accuracy: 0.0947\n",
      "Epoch 5/20\n",
      "100/100 [==============================] - 1s 6ms/step - loss: 2.3028 - sparse_categorical_accuracy: 0.0982 - val_loss: 2.3028 - val_sparse_categorical_accuracy: 0.0947\n",
      "Epoch 6/20\n",
      "100/100 [==============================] - 1s 5ms/step - loss: 2.3028 - sparse_categorical_accuracy: 0.0986 - val_loss: 2.3027 - val_sparse_categorical_accuracy: 0.1001\n",
      "Epoch 7/20\n",
      "100/100 [==============================] - 1s 5ms/step - loss: 2.3029 - sparse_categorical_accuracy: 0.0993 - val_loss: 2.3029 - val_sparse_categorical_accuracy: 0.0947\n",
      "Epoch 8/20\n",
      "100/100 [==============================] - 1s 6ms/step - loss: 2.3029 - sparse_categorical_accuracy: 0.0981 - val_loss: 2.3026 - val_sparse_categorical_accuracy: 0.1002\n",
      "Epoch 9/20\n",
      "100/100 [==============================] - 1s 6ms/step - loss: 2.3029 - sparse_categorical_accuracy: 0.1000 - val_loss: 2.3028 - val_sparse_categorical_accuracy: 0.1001\n",
      "Epoch 10/20\n",
      "100/100 [==============================] - 1s 5ms/step - loss: 2.3028 - sparse_categorical_accuracy: 0.0988 - val_loss: 2.3027 - val_sparse_categorical_accuracy: 0.1015\n",
      "Epoch 11/20\n",
      "100/100 [==============================] - 1s 5ms/step - loss: 2.3029 - sparse_categorical_accuracy: 0.0977 - val_loss: 2.3028 - val_sparse_categorical_accuracy: 0.0947\n",
      "Epoch 12/20\n",
      "100/100 [==============================] - 1s 5ms/step - loss: 2.3028 - sparse_categorical_accuracy: 0.0993 - val_loss: 2.3026 - val_sparse_categorical_accuracy: 0.1009\n",
      "Epoch 13/20\n",
      "100/100 [==============================] - 1s 6ms/step - loss: 2.3028 - sparse_categorical_accuracy: 0.0992 - val_loss: 2.3026 - val_sparse_categorical_accuracy: 0.0997\n",
      "Epoch 14/20\n",
      "100/100 [==============================] - 1s 8ms/step - loss: 2.3029 - sparse_categorical_accuracy: 0.0970 - val_loss: 2.3031 - val_sparse_categorical_accuracy: 0.0997\n",
      "Epoch 15/20\n",
      "100/100 [==============================] - 1s 6ms/step - loss: 2.3028 - sparse_categorical_accuracy: 0.0986 - val_loss: 2.3028 - val_sparse_categorical_accuracy: 0.0947\n",
      "Epoch 16/20\n",
      "100/100 [==============================] - 1s 6ms/step - loss: 2.3028 - sparse_categorical_accuracy: 0.0989 - val_loss: 2.3027 - val_sparse_categorical_accuracy: 0.0997\n",
      "Epoch 17/20\n",
      "100/100 [==============================] - 1s 5ms/step - loss: 2.3028 - sparse_categorical_accuracy: 0.1004 - val_loss: 2.3027 - val_sparse_categorical_accuracy: 0.1008\n",
      "Epoch 18/20\n",
      "100/100 [==============================] - 1s 5ms/step - loss: 2.3029 - sparse_categorical_accuracy: 0.0986 - val_loss: 2.3028 - val_sparse_categorical_accuracy: 0.1002\n",
      "Epoch 19/20\n",
      "100/100 [==============================] - 1s 8ms/step - loss: 2.3029 - sparse_categorical_accuracy: 0.0991 - val_loss: 2.3029 - val_sparse_categorical_accuracy: 0.1008\n",
      "Epoch 20/20\n",
      "100/100 [==============================] - 1s 7ms/step - loss: 2.3029 - sparse_categorical_accuracy: 0.1001 - val_loss: 2.3025 - val_sparse_categorical_accuracy: 0.1002\n"
     ]
    }
   ],
   "source": [
    "### ╰( ͡° ͜ʖ ͡° )つ──☆*:・ﾟ  создайте сеть по инструкции выше\n",
    "init = 'uniform'\n",
    "act = 'sigmoid'\n",
    "model = Sequential()\n",
    "# из картинки сделали вектор\n",
    "model.add(L.InputLayer(input_shape = (28,28)))\n",
    "model.add(L.Flatten())\n",
    "\n",
    "model.add(L.Dense(100, kernel_initializer=init, activation=act))\n",
    "model.add(L.Dense(100, kernel_initializer=init,activation=act))\n",
    "model.add(L.Dense(100, kernel_initializer=init,activation=act))\n",
    "model.add(L.Dense(100, kernel_initializer=init, activation=act))\n",
    "model.add(L.Dense(100, kernel_initializer=init, activation=act))\n",
    "model.add(L.Dense(100, kernel_initializer=init,activation=act))\n",
    "\n",
    "model.add(L.Dense(10, kernel_initializer = init))\n",
    "model.add(L.Softmax())\n",
    "\n",
    "opt = keras.optimizers.Adam(learning_rate=1e-4)\n",
    "\n",
    "model.compile(loss = 'sparse_categorical_crossentropy', \n",
    "                  metrics=[\"sparse_categorical_accuracy\"], \n",
    "                  optimizer=opt)\n",
    "hist5 = model.fit(X_train, y_train, batch_size=500, epochs=20, validation_data=(X_val, y_val))\n",
    "\n",
    "\n",
    "tf.random.set_seed(42)"
   ]
  },
  {
   "cell_type": "markdown",
   "metadata": {},
   "source": [
    "### Задание 7:  \n",
    "\n",
    "Теперь попробуем взять вместо сигмоид elu"
   ]
  },
  {
   "cell_type": "code",
   "execution_count": 14,
   "metadata": {},
   "outputs": [
    {
     "name": "stdout",
     "output_type": "stream",
     "text": [
      "Epoch 1/20\n",
      "100/100 [==============================] - 1s 6ms/step - loss: 2.1265 - sparse_categorical_accuracy: 0.2181 - val_loss: 1.7051 - val_sparse_categorical_accuracy: 0.1970\n",
      "Epoch 2/20\n",
      "100/100 [==============================] - 1s 6ms/step - loss: 1.6278 - sparse_categorical_accuracy: 0.2514 - val_loss: 1.4806 - val_sparse_categorical_accuracy: 0.3808\n",
      "Epoch 3/20\n",
      "100/100 [==============================] - 1s 7ms/step - loss: 1.1828 - sparse_categorical_accuracy: 0.4934 - val_loss: 1.0204 - val_sparse_categorical_accuracy: 0.5808\n",
      "Epoch 4/20\n",
      "100/100 [==============================] - 1s 5ms/step - loss: 0.9624 - sparse_categorical_accuracy: 0.6056 - val_loss: 0.9253 - val_sparse_categorical_accuracy: 0.6304\n",
      "Epoch 5/20\n",
      "100/100 [==============================] - 1s 7ms/step - loss: 0.8925 - sparse_categorical_accuracy: 0.6456 - val_loss: 0.8747 - val_sparse_categorical_accuracy: 0.6564\n",
      "Epoch 6/20\n",
      "100/100 [==============================] - 1s 5ms/step - loss: 0.8436 - sparse_categorical_accuracy: 0.6720 - val_loss: 0.8349 - val_sparse_categorical_accuracy: 0.6809\n",
      "Epoch 7/20\n",
      "100/100 [==============================] - 1s 6ms/step - loss: 0.8039 - sparse_categorical_accuracy: 0.6939 - val_loss: 0.8004 - val_sparse_categorical_accuracy: 0.6941\n",
      "Epoch 8/20\n",
      "100/100 [==============================] - 1s 5ms/step - loss: 0.7688 - sparse_categorical_accuracy: 0.7105 - val_loss: 0.7683 - val_sparse_categorical_accuracy: 0.7081\n",
      "Epoch 9/20\n",
      "100/100 [==============================] - 1s 6ms/step - loss: 0.7381 - sparse_categorical_accuracy: 0.7252 - val_loss: 0.7392 - val_sparse_categorical_accuracy: 0.7213\n",
      "Epoch 10/20\n",
      "100/100 [==============================] - 1s 6ms/step - loss: 0.7104 - sparse_categorical_accuracy: 0.7368 - val_loss: 0.7148 - val_sparse_categorical_accuracy: 0.7347\n",
      "Epoch 11/20\n",
      "100/100 [==============================] - 1s 6ms/step - loss: 0.6871 - sparse_categorical_accuracy: 0.7475 - val_loss: 0.6974 - val_sparse_categorical_accuracy: 0.7381\n",
      "Epoch 12/20\n",
      "100/100 [==============================] - 1s 6ms/step - loss: 0.6654 - sparse_categorical_accuracy: 0.7564 - val_loss: 0.6709 - val_sparse_categorical_accuracy: 0.7529\n",
      "Epoch 13/20\n",
      "100/100 [==============================] - 1s 7ms/step - loss: 0.6453 - sparse_categorical_accuracy: 0.7661 - val_loss: 0.6553 - val_sparse_categorical_accuracy: 0.7606\n",
      "Epoch 14/20\n",
      "100/100 [==============================] - 1s 7ms/step - loss: 0.6234 - sparse_categorical_accuracy: 0.7753 - val_loss: 0.6279 - val_sparse_categorical_accuracy: 0.7744\n",
      "Epoch 15/20\n",
      "100/100 [==============================] - 1s 6ms/step - loss: 0.6073 - sparse_categorical_accuracy: 0.7819 - val_loss: 0.6188 - val_sparse_categorical_accuracy: 0.7754\n",
      "Epoch 16/20\n",
      "100/100 [==============================] - 1s 6ms/step - loss: 0.5948 - sparse_categorical_accuracy: 0.7849 - val_loss: 0.6059 - val_sparse_categorical_accuracy: 0.7820\n",
      "Epoch 17/20\n",
      "100/100 [==============================] - 1s 7ms/step - loss: 0.5851 - sparse_categorical_accuracy: 0.7887 - val_loss: 0.5996 - val_sparse_categorical_accuracy: 0.7833\n",
      "Epoch 18/20\n",
      "100/100 [==============================] - 1s 6ms/step - loss: 0.5767 - sparse_categorical_accuracy: 0.7915 - val_loss: 0.5907 - val_sparse_categorical_accuracy: 0.7854\n",
      "Epoch 19/20\n",
      "100/100 [==============================] - 1s 6ms/step - loss: 0.5677 - sparse_categorical_accuracy: 0.7947 - val_loss: 0.5872 - val_sparse_categorical_accuracy: 0.7850\n",
      "Epoch 20/20\n",
      "100/100 [==============================] - 1s 6ms/step - loss: 0.5606 - sparse_categorical_accuracy: 0.7960 - val_loss: 0.5769 - val_sparse_categorical_accuracy: 0.7902\n"
     ]
    }
   ],
   "source": [
    "### ╰( ͡° ͜ʖ ͡° )つ──☆*:・ﾟ  создайте сеть по инструкции выше\n",
    "tf.random.set_seed(42)\n",
    "\n",
    "init = 'uniform'\n",
    "act = 'elu' # в таком варианте alpha = 1 \n",
    "            # если хочется его подергать: L.ELU(alpha=1.0)\n",
    "model = Sequential()\n",
    "# из картинки сделали вектор\n",
    "model.add(L.InputLayer(input_shape = (28,28)))\n",
    "model.add(L.Flatten())\n",
    "\n",
    "model.add(L.Dense(100, kernel_initializer=init, activation=act))\n",
    "model.add(L.Dense(100, kernel_initializer=init,activation=act))\n",
    "model.add(L.Dense(100, kernel_initializer=init,activation=act))\n",
    "model.add(L.Dense(100, kernel_initializer=init, activation=act))\n",
    "model.add(L.Dense(100, kernel_initializer=init, activation=act))\n",
    "model.add(L.Dense(100, kernel_initializer=init,activation=act))\n",
    "\n",
    "model.add(L.Dense(10, kernel_initializer = init))\n",
    "model.add(L.Softmax())\n",
    "\n",
    "opt = keras.optimizers.Adam(learning_rate=1e-4)\n",
    "\n",
    "model.compile(loss = 'sparse_categorical_crossentropy', \n",
    "                  metrics=[\"sparse_categorical_accuracy\"], \n",
    "                  optimizer=opt)\n",
    "hist6 = model.fit(X_train, y_train, batch_size=500, epochs=20, validation_data=(X_val, y_val))\n",
    "\n",
    "\n",
    "tf.random.set_seed(42)"
   ]
  },
  {
   "cell_type": "markdown",
   "metadata": {},
   "source": [
    "### Задание 8:\n",
    "\n",
    "Снова сравниваем модели между собой."
   ]
  },
  {
   "cell_type": "code",
   "execution_count": 15,
   "metadata": {},
   "outputs": [
    {
     "data": {
      "image/png": "[encoded data removed]",
      "text/plain": [
       "<Figure size 1152x720 with 1 Axes>"
      ]
     },
     "metadata": {},
     "output_type": "display_data"
    }
   ],
   "source": [
    "plot_history([('relu',   hist1), \n",
    "              ('sigmoid', hist5),\n",
    "              ('elu',   hist6),\n",
    "             ],\n",
    "             start=0)"
   ]
  },
  {
   "cell_type": "markdown",
   "metadata": {},
   "source": [
    "# 3. Keras бывет разным, про skip-connection\n",
    "\n",
    "На первой паре мы с вами говорили, что в Keras задавать модели можно по-разному. Второй способ делать это: функциональный стиль. Он даёт на порядок больше возможностей. Давайте посмотрим как это выглядит и попробуем собрать пару моделей. "
   ]
  },
  {
   "cell_type": "code",
   "execution_count": 16,
   "metadata": {
    "collapsed": true
   },
   "outputs": [],
   "source": [
    "init = 'uniform'\n",
    "act = 'relu'\n",
    "\n",
    "input_tensor = L.Input(shape=(28, 28))\n",
    "\n",
    "# показываем, что к x нужно применить рпедыдущий выход input_tensor\n",
    "x = L.Flatten()(input_tensor)\n",
    "x = L.Dense(100, kernel_initializer=init, activation=act)(x)\n",
    "x = L.Dense(100, kernel_initializer=init, activation=act)(x)\n",
    "x = L.Dense(100, kernel_initializer=init, activation=act)(x)\n",
    "x = L.Dense(100, kernel_initializer=init, activation=act)(x)\n",
    "x = L.Dense(100, kernel_initializer=init, activation=act)(x)\n",
    "x = L.Dense(100, kernel_initializer=init, activation=act)(x)\n",
    "output_tensor = L.Dense(10, kernel_initializer=init, activation='softmax')(x)\n",
    "\n",
    "# в модеоли указываем инпут и аутпут\n",
    "# tf попробует получить из анпута аутпут\n",
    "# из ограничений: недопустимы циклические графы, т.е. чтобы input зависел от например output\n",
    "model = keras.Model(input_tensor, output_tensor)"
   ]
  },
  {
   "cell_type": "code",
   "execution_count": 17,
   "metadata": {},
   "outputs": [
    {
     "name": "stdout",
     "output_type": "stream",
     "text": [
      "100/100 [==============================] - 1s 6ms/step - loss: 1.4845 - sparse_categorical_accuracy: 0.3808 - val_loss: 1.0343 - val_sparse_categorical_accuracy: 0.5070\n"
     ]
    },
    {
     "data": {
      "text/plain": [
       "<tensorflow.python.keras.callbacks.History at 0x14ba97630>"
      ]
     },
     "execution_count": 17,
     "metadata": {},
     "output_type": "execute_result"
    }
   ],
   "source": [
    "model.compile(\"adam\", loss=\"sparse_categorical_crossentropy\", \n",
    "              metrics=[\"sparse_categorical_accuracy\"])\n",
    "\n",
    "model.fit(X_train, y_train, validation_data=(X_val, y_val), \n",
    "          epochs=1, batch_size=500, verbose=1)"
   ]
  },
  {
   "cell_type": "code",
   "execution_count": null,
   "metadata": {
    "collapsed": true
   },
   "outputs": [],
   "source": [
    "# skip-connection: можем прокинуть сырые данные без применения части слоев в сетке"
   ]
  },
  {
   "cell_type": "markdown",
   "metadata": {},
   "source": [
    "Помните статью про то, как люди рисовали функции потерь? [Теперь появилась галерея!](https://losslandscape.com/gallery/) На паре про градиентный спуск мы говорили, что skip-connection довольно здорово меняет ландшафт функции потерь. \n",
    "\n",
    "![](https://i.stack.imgur.com/UDvbg.png)\n",
    "\n",
    "Такую модель нельзя собрать через `Sequence`-стиль, но можно через функциональный стиль. Давайте попробуем сделать это. Заодно посмотрим насколько сильно в нашей ситуации будет меняться траектория обучения. "
   ]
  },
  {
   "cell_type": "code",
   "execution_count": 18,
   "metadata": {},
   "outputs": [
    {
     "name": "stdout",
     "output_type": "stream",
     "text": [
      "Epoch 1/20\n",
      "100/100 [==============================] - 1s 9ms/step - loss: 0.6325 - sparse_categorical_accuracy: 0.7748 - val_loss: 0.4556 - val_sparse_categorical_accuracy: 0.8362\n",
      "Epoch 2/20\n",
      "100/100 [==============================] - 1s 8ms/step - loss: 0.4212 - sparse_categorical_accuracy: 0.8503 - val_loss: 0.4093 - val_sparse_categorical_accuracy: 0.8501\n",
      "Epoch 3/20\n",
      "100/100 [==============================] - 1s 8ms/step - loss: 0.3772 - sparse_categorical_accuracy: 0.8630 - val_loss: 0.3938 - val_sparse_categorical_accuracy: 0.8534\n",
      "Epoch 4/20\n",
      "100/100 [==============================] - 1s 7ms/step - loss: 0.3478 - sparse_categorical_accuracy: 0.8736 - val_loss: 0.3463 - val_sparse_categorical_accuracy: 0.8718\n",
      "Epoch 5/20\n",
      "100/100 [==============================] - 1s 7ms/step - loss: 0.3255 - sparse_categorical_accuracy: 0.8808 - val_loss: 0.3781 - val_sparse_categorical_accuracy: 0.8614\n",
      "Epoch 6/20\n",
      "100/100 [==============================] - 1s 7ms/step - loss: 0.3133 - sparse_categorical_accuracy: 0.8839 - val_loss: 0.3280 - val_sparse_categorical_accuracy: 0.8795\n",
      "Epoch 7/20\n",
      "100/100 [==============================] - 1s 7ms/step - loss: 0.2943 - sparse_categorical_accuracy: 0.8915 - val_loss: 0.3258 - val_sparse_categorical_accuracy: 0.8840\n",
      "Epoch 8/20\n",
      "100/100 [==============================] - 1s 7ms/step - loss: 0.2831 - sparse_categorical_accuracy: 0.8953 - val_loss: 0.3271 - val_sparse_categorical_accuracy: 0.8798\n",
      "Epoch 9/20\n",
      "100/100 [==============================] - 1s 9ms/step - loss: 0.2731 - sparse_categorical_accuracy: 0.8996 - val_loss: 0.3264 - val_sparse_categorical_accuracy: 0.8838\n",
      "Epoch 10/20\n",
      "100/100 [==============================] - 1s 8ms/step - loss: 0.2639 - sparse_categorical_accuracy: 0.9026 - val_loss: 0.3223 - val_sparse_categorical_accuracy: 0.8807\n",
      "Epoch 11/20\n",
      "100/100 [==============================] - 1s 8ms/step - loss: 0.2521 - sparse_categorical_accuracy: 0.9069 - val_loss: 0.3321 - val_sparse_categorical_accuracy: 0.8789\n",
      "Epoch 12/20\n",
      "100/100 [==============================] - 1s 9ms/step - loss: 0.2407 - sparse_categorical_accuracy: 0.9097 - val_loss: 0.3155 - val_sparse_categorical_accuracy: 0.8877\n",
      "Epoch 13/20\n",
      "100/100 [==============================] - 1s 7ms/step - loss: 0.2393 - sparse_categorical_accuracy: 0.9091 - val_loss: 0.3019 - val_sparse_categorical_accuracy: 0.8919\n",
      "Epoch 14/20\n",
      "100/100 [==============================] - 1s 8ms/step - loss: 0.2275 - sparse_categorical_accuracy: 0.9156 - val_loss: 0.3105 - val_sparse_categorical_accuracy: 0.8872\n",
      "Epoch 15/20\n",
      "100/100 [==============================] - 1s 8ms/step - loss: 0.2206 - sparse_categorical_accuracy: 0.9169 - val_loss: 0.3098 - val_sparse_categorical_accuracy: 0.8882\n",
      "Epoch 16/20\n",
      "100/100 [==============================] - 1s 8ms/step - loss: 0.2123 - sparse_categorical_accuracy: 0.9201 - val_loss: 0.3108 - val_sparse_categorical_accuracy: 0.8885\n",
      "Epoch 17/20\n",
      "100/100 [==============================] - 1s 8ms/step - loss: 0.2087 - sparse_categorical_accuracy: 0.9213 - val_loss: 0.3304 - val_sparse_categorical_accuracy: 0.8839\n",
      "Epoch 18/20\n",
      "100/100 [==============================] - 1s 8ms/step - loss: 0.2041 - sparse_categorical_accuracy: 0.9243 - val_loss: 0.3296 - val_sparse_categorical_accuracy: 0.8836\n",
      "Epoch 19/20\n",
      "100/100 [==============================] - 1s 8ms/step - loss: 0.2014 - sparse_categorical_accuracy: 0.9239 - val_loss: 0.3327 - val_sparse_categorical_accuracy: 0.8838\n",
      "Epoch 20/20\n",
      "100/100 [==============================] - 1s 8ms/step - loss: 0.1897 - sparse_categorical_accuracy: 0.9292 - val_loss: 0.3250 - val_sparse_categorical_accuracy: 0.8860\n"
     ]
    }
   ],
   "source": [
    "### ╰( ͡° ͜ʖ ͡° )つ──☆*:・ﾟ  создайте сеть по инструкции выше\n",
    "tf.random.set_seed(42)\n",
    "\n",
    "init = 'he_uniform'\n",
    "act = 'elu'\n",
    "\n",
    "input_tensor = L.Input(shape=(28, 28))\n",
    "\n",
    "x = L.Flatten()(input_tensor)\n",
    "x1 = L.Dense(100, kernel_initializer=init, activation=act)(x)\n",
    "x = L.Dense(100, kernel_initializer=init, activation=act)(x1)\n",
    "# на данном этапе уже применили два слоя\n",
    "# объединили выходы этих слоев с изначальными данными\n",
    "x = L.concatenate([x, x1])\n",
    "\n",
    "x1 = L.Dense(100, kernel_initializer=init, activation=act)(x)\n",
    "x = L.Dense(100, kernel_initializer=init, activation=act)(x)\n",
    "x = L.concatenate([x, x1])\n",
    "\n",
    "x1 = L.Dense(100, kernel_initializer=init, activation=act)(x)\n",
    "x = L.Dense(100, kernel_initializer=init, activation=act)(x)\n",
    "x = L.concatenate([x, x1])\n",
    "\n",
    "output_tensor = L.Dense(10, kernel_initializer=init, activation='softmax')(x)\n",
    "\n",
    "model = keras.Model(input_tensor, output_tensor)\n",
    "\n",
    "model.compile(\"adam\", loss=\"sparse_categorical_crossentropy\", \n",
    "              metrics=[\"sparse_categorical_accuracy\"])\n",
    "\n",
    "history7 = model.fit(X_train, y_train, validation_data=(X_val, y_val), \n",
    "                     epochs=20, batch_size=500, verbose=1)"
   ]
  },
  {
   "cell_type": "code",
   "execution_count": 24,
   "metadata": {},
   "outputs": [
    {
     "data": {
      "image/png": "[encoded data removed]",
      "text/plain": [
       "<Figure size 1152x720 with 1 Axes>"
      ]
     },
     "metadata": {},
     "output_type": "display_data"
    }
   ],
   "source": [
    "plot_history([('relu', hist1), \n",
    "              ('he_uniform', hist2),\n",
    "              ('he_skip_connection', history7)\n",
    "             ],\n",
    "             start=0)"
   ]
  },
  {
   "cell_type": "markdown",
   "metadata": {},
   "source": [
    "# 4. Ещё немного функционального API \n",
    "\n",
    "\n",
    "## 4.1 Несколько входов\n",
    "\n",
    "В этом примере на вход идёт две картинки."
   ]
  },
  {
   "cell_type": "code",
   "execution_count": 25,
   "metadata": {},
   "outputs": [
    {
     "name": "stdout",
     "output_type": "stream",
     "text": [
      "Model: \"model_2\"\n",
      "__________________________________________________________________________________________________\n",
      "Layer (type)                    Output Shape         Param #     Connected to                     \n",
      "==================================================================================================\n",
      "input_9 (InputLayer)            [(None, 28, 28)]     0                                            \n",
      "__________________________________________________________________________________________________\n",
      "input_10 (InputLayer)           [(None, 28, 28)]     0                                            \n",
      "__________________________________________________________________________________________________\n",
      "flatten_8 (Flatten)             (None, 784)          0           input_9[0][0]                    \n",
      "__________________________________________________________________________________________________\n",
      "flatten_9 (Flatten)             (None, 784)          0           input_10[0][0]                   \n",
      "__________________________________________________________________________________________________\n",
      "dense_56 (Dense)                (None, 100)          78500       flatten_8[0][0]                  \n",
      "__________________________________________________________________________________________________\n",
      "dense_58 (Dense)                (None, 100)          78500       flatten_9[0][0]                  \n",
      "__________________________________________________________________________________________________\n",
      "dense_57 (Dense)                (None, 100)          10100       dense_56[0][0]                   \n",
      "__________________________________________________________________________________________________\n",
      "dense_59 (Dense)                (None, 100)          10100       dense_58[0][0]                   \n",
      "__________________________________________________________________________________________________\n",
      "concatenate_3 (Concatenate)     (None, 200)          0           dense_57[0][0]                   \n",
      "                                                                 dense_59[0][0]                   \n",
      "__________________________________________________________________________________________________\n",
      "dense_60 (Dense)                (None, 10)           2010        concatenate_3[0][0]              \n",
      "==================================================================================================\n",
      "Total params: 179,210\n",
      "Trainable params: 179,210\n",
      "Non-trainable params: 0\n",
      "__________________________________________________________________________________________________\n"
     ]
    }
   ],
   "source": [
    "# у нас два канала, которые затем объединяются в одну\n",
    "input_1 = L.Input(shape=(28, 28))\n",
    "input_2 = L.Input(shape=(28, 28))\n",
    "\n",
    "# первый канал\n",
    "x1 = L.Flatten()(input_1)\n",
    "x1 = L.Dense(100, kernel_initializer=init, activation=act)(x1)\n",
    "x1 = L.Dense(100, kernel_initializer=init, activation=act)(x1)\n",
    "\n",
    "# второй канал\n",
    "x2 = L.Flatten()(input_2)\n",
    "x2 = L.Dense(100, kernel_initializer=init, activation=act)(x2)\n",
    "x2 = L.Dense(100, kernel_initializer=init, activation=act)(x2)\n",
    "\n",
    "# собрали каналы\n",
    "x = L.concatenate([x1, x2])\n",
    "# прописали выход\n",
    "output = L.Dense(10, kernel_initializer=init, activation='softmax')(x)\n",
    "\n",
    "# передаем список входов и выход в модель\n",
    "model = keras.Model([input_1, input_2], output)\n",
    "model.summary()"
   ]
  },
  {
   "cell_type": "markdown",
   "metadata": {},
   "source": [
    "Немного бессмысленный пример обучения, когда на вход идут две одинаковые картиночки."
   ]
  },
  {
   "cell_type": "code",
   "execution_count": 26,
   "metadata": {},
   "outputs": [
    {
     "name": "stdout",
     "output_type": "stream",
     "text": [
      "Epoch 1/2\n",
      "100/100 [==============================] - 1s 7ms/step - loss: 0.6217 - sparse_categorical_accuracy: 0.7820 - val_loss: 0.4685 - val_sparse_categorical_accuracy: 0.8318\n",
      "Epoch 2/2\n",
      "100/100 [==============================] - 1s 6ms/step - loss: 0.4321 - sparse_categorical_accuracy: 0.8462 - val_loss: 0.4253 - val_sparse_categorical_accuracy: 0.8472\n"
     ]
    },
    {
     "data": {
      "text/plain": [
       "<tensorflow.python.keras.callbacks.History at 0x14b33c908>"
      ]
     },
     "execution_count": 26,
     "metadata": {},
     "output_type": "execute_result"
    }
   ],
   "source": [
    "model.compile(\"adam\", loss=\"sparse_categorical_crossentropy\", \n",
    "              metrics=[\"sparse_categorical_accuracy\"])\n",
    "\n",
    "model.fit([X_train, X_train], y_train, validation_data=([X_val, X_val], y_val),\n",
    "          epochs=2, batch_size=500)"
   ]
  },
  {
   "cell_type": "markdown",
   "metadata": {},
   "source": [
    "## 4.2 Несколько выходов и функций потерь"
   ]
  },
  {
   "cell_type": "code",
   "execution_count": null,
   "metadata": {
    "collapsed": true
   },
   "outputs": [],
   "source": [
    "init = 'uniform'\n",
    "act = 'relu'\n",
    "\n",
    "input_tensor = L.Input(shape=(28, 28))\n",
    "\n",
    "x = L.Flatten()(input_tensor)\n",
    "x1 = L.Dense(100, kernel_initializer=init, activation=act)(x)\n",
    "x2 = L.Dense(100, kernel_initializer=init, activation=act)(x)\n",
    "x3 = L.Dense(100, kernel_initializer=init, activation=act)(x)\n",
    "\n",
    "output_1 = L.Dense(10, kernel_initializer=init, activation='softmax')(x1)\n",
    "output_2 = L.Dense(10, kernel_initializer=init, activation='softmax')(x2)\n",
    "output_3 = L.Dense(10, kernel_initializer=init, activation='softmax')(x3)\n",
    "\n",
    "model = keras.Model(input_tensor, [output_1, output_2, output_3])\n",
    "\n",
    "model.summary()"
   ]
  },
  {
   "cell_type": "code",
   "execution_count": null,
   "metadata": {
    "collapsed": true
   },
   "outputs": [],
   "source": [
    "# например, хоти решить сразу несколько задач по тексту: понять семантику и к какому типу принадлежит\n",
    "# прописываем список loss, каждому loss приписываем свой вес, чтобы модель не переобучалась по одной из метрик, если шкалы у метрик разные\n",
    "model.compile(optimizer='adam', loss=['sparse_categorical_crossentropy',\n",
    "                                      'sparse_categorical_crossentropy', \n",
    "                                      'sparse_categorical_crossentropy'],\n",
    "                                    loss_weights=[0.25, 1., 10.])\n",
    "\n",
    "model.fit(X_train, [y_train, y_train, y_train], epochs=2, batch_size=500)"
   ]
  },
  {
   "cell_type": "markdown",
   "metadata": {},
   "source": [
    "Пример с разными функциями потерь:"
   ]
  },
  {
   "cell_type": "raw",
   "metadata": {},
   "source": [
    "model.compile(optimizer='adam', loss=['mse', 'categorical_crossentropy', 'binary_crossentropy'],\n",
    "                                    loss_weights=[0.25, 1., 10.])\n",
    "\n",
    "\n",
    "# если дали выходам имена, можно вот так: \n",
    "\n",
    "model.compile(optimizer='adam',\n",
    "\n",
    "              loss={'age': 'mse',\n",
    "                    'income': 'categorical_crossentropy',\n",
    "                    'gender': 'binary_crossentropy'},\n",
    "                    \n",
    "              loss_weights={'age': 0.25,\n",
    "                            'income': 1.,\n",
    "                            'gender': 10.})"
   ]
  },
  {
   "cell_type": "markdown",
   "metadata": {},
   "source": [
    "### Дополнительное задание  :\n",
    "\n",
    "Мы говорили, что если мы используем BN, то нужно уменьшить силу Dropout. Поэтому попробуйте сравнить Dropout + BN c разным p."
   ]
  },
  {
   "cell_type": "code",
   "execution_count": 28,
   "metadata": {},
   "outputs": [
    {
     "name": "stdout",
     "output_type": "stream",
     "text": [
      "Epoch 1/20\n",
      "100/100 [==============================] - 1s 11ms/step - loss: 2.9393 - sparse_categorical_accuracy: 0.1014 - val_loss: 2.2997 - val_sparse_categorical_accuracy: 0.1101\n",
      "Epoch 2/20\n",
      "100/100 [==============================] - 1s 10ms/step - loss: 2.8077 - sparse_categorical_accuracy: 0.1070 - val_loss: 2.2953 - val_sparse_categorical_accuracy: 0.1403\n",
      "Epoch 3/20\n",
      "100/100 [==============================] - 1s 10ms/step - loss: 2.6843 - sparse_categorical_accuracy: 0.1192 - val_loss: 2.2565 - val_sparse_categorical_accuracy: 0.2106\n",
      "Epoch 4/20\n",
      "100/100 [==============================] - 1s 10ms/step - loss: 2.5496 - sparse_categorical_accuracy: 0.1358 - val_loss: 2.2199 - val_sparse_categorical_accuracy: 0.1764\n",
      "Epoch 5/20\n",
      "100/100 [==============================] - 1s 10ms/step - loss: 2.4117 - sparse_categorical_accuracy: 0.1639 - val_loss: 2.1664 - val_sparse_categorical_accuracy: 0.1776\n",
      "Epoch 6/20\n",
      "100/100 [==============================] - 1s 10ms/step - loss: 2.2750 - sparse_categorical_accuracy: 0.1883 - val_loss: 2.0809 - val_sparse_categorical_accuracy: 0.2264\n",
      "Epoch 7/20\n",
      "100/100 [==============================] - 1s 10ms/step - loss: 2.1520 - sparse_categorical_accuracy: 0.2141 - val_loss: 1.9837 - val_sparse_categorical_accuracy: 0.2666\n",
      "Epoch 8/20\n",
      "100/100 [==============================] - 1s 10ms/step - loss: 2.0558 - sparse_categorical_accuracy: 0.2345 - val_loss: 1.9105 - val_sparse_categorical_accuracy: 0.2904\n",
      "Epoch 9/20\n",
      "100/100 [==============================] - 1s 10ms/step - loss: 1.9709 - sparse_categorical_accuracy: 0.2544 - val_loss: 1.8623 - val_sparse_categorical_accuracy: 0.2958\n",
      "Epoch 10/20\n",
      "100/100 [==============================] - 1s 10ms/step - loss: 1.9084 - sparse_categorical_accuracy: 0.2728 - val_loss: 1.8247 - val_sparse_categorical_accuracy: 0.2947\n",
      "Epoch 11/20\n",
      "100/100 [==============================] - 1s 10ms/step - loss: 1.8503 - sparse_categorical_accuracy: 0.2898 - val_loss: 1.7917 - val_sparse_categorical_accuracy: 0.2993\n",
      "Epoch 12/20\n",
      "100/100 [==============================] - 1s 14ms/step - loss: 1.7961 - sparse_categorical_accuracy: 0.3050 - val_loss: 1.7485 - val_sparse_categorical_accuracy: 0.3063\n",
      "Epoch 13/20\n",
      "100/100 [==============================] - 1s 12ms/step - loss: 1.7498 - sparse_categorical_accuracy: 0.3154 - val_loss: 1.7005 - val_sparse_categorical_accuracy: 0.3111\n",
      "Epoch 14/20\n",
      "100/100 [==============================] - 1s 11ms/step - loss: 1.7049 - sparse_categorical_accuracy: 0.3318 - val_loss: 1.6513 - val_sparse_categorical_accuracy: 0.3254\n",
      "Epoch 15/20\n",
      "100/100 [==============================] - 1s 10ms/step - loss: 1.6538 - sparse_categorical_accuracy: 0.3504 - val_loss: 1.5948 - val_sparse_categorical_accuracy: 0.3477\n",
      "Epoch 16/20\n",
      "100/100 [==============================] - 1s 10ms/step - loss: 1.6094 - sparse_categorical_accuracy: 0.3608 - val_loss: 1.5287 - val_sparse_categorical_accuracy: 0.3648\n",
      "Epoch 17/20\n",
      "100/100 [==============================] - 1s 10ms/step - loss: 1.5677 - sparse_categorical_accuracy: 0.3723 - val_loss: 1.4558 - val_sparse_categorical_accuracy: 0.4012\n",
      "Epoch 18/20\n",
      "100/100 [==============================] - 1s 10ms/step - loss: 1.5265 - sparse_categorical_accuracy: 0.3859 - val_loss: 1.4076 - val_sparse_categorical_accuracy: 0.4257\n",
      "Epoch 19/20\n",
      "100/100 [==============================] - 1s 13ms/step - loss: 1.4860 - sparse_categorical_accuracy: 0.3991 - val_loss: 1.3572 - val_sparse_categorical_accuracy: 0.4550\n",
      "Epoch 20/20\n",
      "100/100 [==============================] - 1s 10ms/step - loss: 1.4503 - sparse_categorical_accuracy: 0.4079 - val_loss: 1.3050 - val_sparse_categorical_accuracy: 0.4793\n"
     ]
    }
   ],
   "source": [
    "tf.random.set_seed(42)\n",
    "init = 'he_uniform'\n",
    "model = Sequential()\n",
    "# из картинки сделали вектор\n",
    "model.add(L.InputLayer(input_shape = (28,28)))\n",
    "model.add(L.Flatten())\n",
    "\n",
    "model.add(L.Dense(100, kernel_initializer=init))\n",
    "model.add(L.BatchNormalization())\n",
    "model.add(L.ReLU())\n",
    "model.add(L.Dropout(0.5))\n",
    "\n",
    "model.add(L.Dense(100, kernel_initializer=init))\n",
    "model.add(L.BatchNormalization())\n",
    "model.add(L.ReLU())\n",
    "model.add(L.Dropout(0.5))\n",
    "\n",
    "model.add(L.Dense(100, kernel_initializer=init))\n",
    "model.add(L.BatchNormalization())\n",
    "model.add(L.ReLU())\n",
    "model.add(L.Dropout(0.5))\n",
    "\n",
    "model.add(L.Dense(100, kernel_initializer=init))\n",
    "model.add(L.BatchNormalization())\n",
    "model.add(L.ReLU())\n",
    "model.add(L.Dropout(0.5))\n",
    "\n",
    "model.add(L.Dense(100, kernel_initializer=init))\n",
    "model.add(L.BatchNormalization())\n",
    "model.add(L.ReLU())\n",
    "model.add(L.Dropout(0.5))\n",
    "\n",
    "model.add(L.Dense(100, kernel_initializer=init))\n",
    "model.add(L.BatchNormalization())\n",
    "model.add(L.ReLU())\n",
    "model.add(L.Dropout(0.5))\n",
    "\n",
    "model.add(L.Dense(10, kernel_initializer = init))\n",
    "model.add(L.Softmax())\n",
    "\n",
    "opt = keras.optimizers.Adam(learning_rate=1e-4)\n",
    "\n",
    "model.compile(loss = 'sparse_categorical_crossentropy', \n",
    "                  metrics=[\"sparse_categorical_accuracy\"], \n",
    "                  optimizer=opt)\n",
    "tf.random.set_seed(42)\n",
    "\n",
    "hist9 = model.fit(X_train, y_train, batch_size=500, epochs=20, validation_data=(X_val, y_val))"
   ]
  },
  {
   "cell_type": "code",
   "execution_count": 29,
   "metadata": {},
   "outputs": [
    {
     "name": "stdout",
     "output_type": "stream",
     "text": [
      "Epoch 1/20\n",
      "100/100 [==============================] - 2s 17ms/step - loss: 2.0360 - sparse_categorical_accuracy: 0.3152 - val_loss: 1.6918 - val_sparse_categorical_accuracy: 0.5687\n",
      "Epoch 2/20\n",
      "100/100 [==============================] - 1s 12ms/step - loss: 1.2752 - sparse_categorical_accuracy: 0.6020 - val_loss: 1.0353 - val_sparse_categorical_accuracy: 0.6820\n",
      "Epoch 3/20\n",
      "100/100 [==============================] - 1s 10ms/step - loss: 0.9671 - sparse_categorical_accuracy: 0.6923 - val_loss: 0.7607 - val_sparse_categorical_accuracy: 0.7495\n",
      "Epoch 4/20\n",
      "100/100 [==============================] - 1s 14ms/step - loss: 0.8247 - sparse_categorical_accuracy: 0.7301 - val_loss: 0.6334 - val_sparse_categorical_accuracy: 0.7821\n",
      "Epoch 5/20\n",
      "100/100 [==============================] - 1s 13ms/step - loss: 0.7311 - sparse_categorical_accuracy: 0.7584 - val_loss: 0.5763 - val_sparse_categorical_accuracy: 0.8030\n",
      "Epoch 6/20\n",
      "100/100 [==============================] - 1s 10ms/step - loss: 0.6663 - sparse_categorical_accuracy: 0.7792 - val_loss: 0.5293 - val_sparse_categorical_accuracy: 0.8190\n",
      "Epoch 7/20\n",
      "100/100 [==============================] - 1s 10ms/step - loss: 0.6183 - sparse_categorical_accuracy: 0.7937 - val_loss: 0.4943 - val_sparse_categorical_accuracy: 0.8262\n",
      "Epoch 8/20\n",
      "100/100 [==============================] - 1s 11ms/step - loss: 0.5806 - sparse_categorical_accuracy: 0.8057 - val_loss: 0.4686 - val_sparse_categorical_accuracy: 0.8346\n",
      "Epoch 9/20\n",
      "100/100 [==============================] - 1s 11ms/step - loss: 0.5559 - sparse_categorical_accuracy: 0.8114 - val_loss: 0.4531 - val_sparse_categorical_accuracy: 0.8387\n",
      "Epoch 10/20\n",
      "100/100 [==============================] - 1s 10ms/step - loss: 0.5302 - sparse_categorical_accuracy: 0.8185 - val_loss: 0.4360 - val_sparse_categorical_accuracy: 0.8443\n",
      "Epoch 11/20\n",
      "100/100 [==============================] - 1s 10ms/step - loss: 0.5126 - sparse_categorical_accuracy: 0.8246 - val_loss: 0.4256 - val_sparse_categorical_accuracy: 0.8480\n",
      "Epoch 12/20\n",
      "100/100 [==============================] - 1s 11ms/step - loss: 0.4978 - sparse_categorical_accuracy: 0.8295 - val_loss: 0.4167 - val_sparse_categorical_accuracy: 0.8511\n",
      "Epoch 13/20\n",
      "100/100 [==============================] - 1s 12ms/step - loss: 0.4831 - sparse_categorical_accuracy: 0.8342 - val_loss: 0.4062 - val_sparse_categorical_accuracy: 0.8533\n",
      "Epoch 14/20\n",
      "100/100 [==============================] - 1s 10ms/step - loss: 0.4727 - sparse_categorical_accuracy: 0.8378 - val_loss: 0.3989 - val_sparse_categorical_accuracy: 0.8559\n",
      "Epoch 15/20\n",
      "100/100 [==============================] - 1s 10ms/step - loss: 0.4651 - sparse_categorical_accuracy: 0.8413 - val_loss: 0.3922 - val_sparse_categorical_accuracy: 0.8575\n",
      "Epoch 16/20\n",
      "100/100 [==============================] - 1s 10ms/step - loss: 0.4514 - sparse_categorical_accuracy: 0.8433 - val_loss: 0.3894 - val_sparse_categorical_accuracy: 0.8586\n",
      "Epoch 17/20\n",
      "100/100 [==============================] - 1s 11ms/step - loss: 0.4427 - sparse_categorical_accuracy: 0.8470 - val_loss: 0.3859 - val_sparse_categorical_accuracy: 0.8588\n",
      "Epoch 18/20\n",
      "100/100 [==============================] - 1s 10ms/step - loss: 0.4354 - sparse_categorical_accuracy: 0.8500 - val_loss: 0.3802 - val_sparse_categorical_accuracy: 0.8610\n",
      "Epoch 19/20\n",
      "100/100 [==============================] - 1s 10ms/step - loss: 0.4263 - sparse_categorical_accuracy: 0.8514 - val_loss: 0.3765 - val_sparse_categorical_accuracy: 0.8632\n",
      "Epoch 20/20\n",
      "100/100 [==============================] - 1s 10ms/step - loss: 0.4199 - sparse_categorical_accuracy: 0.8542 - val_loss: 0.3687 - val_sparse_categorical_accuracy: 0.8659\n"
     ]
    }
   ],
   "source": [
    "tf.random.set_seed(42)\n",
    "init = 'he_uniform'\n",
    "model = Sequential()\n",
    "# из картинки сделали вектор\n",
    "model.add(L.InputLayer(input_shape = (28,28)))\n",
    "model.add(L.Flatten())\n",
    "\n",
    "model.add(L.Dense(100, kernel_initializer=init))\n",
    "model.add(L.BatchNormalization())\n",
    "model.add(L.ReLU())\n",
    "model.add(L.Dropout(0.1))\n",
    "\n",
    "model.add(L.Dense(100, kernel_initializer=init))\n",
    "model.add(L.BatchNormalization())\n",
    "model.add(L.ReLU())\n",
    "model.add(L.Dropout(0.1))\n",
    "\n",
    "model.add(L.Dense(100, kernel_initializer=init))\n",
    "model.add(L.BatchNormalization())\n",
    "model.add(L.ReLU())\n",
    "model.add(L.Dropout(0.1))\n",
    "\n",
    "model.add(L.Dense(100, kernel_initializer=init))\n",
    "model.add(L.BatchNormalization())\n",
    "model.add(L.ReLU())\n",
    "model.add(L.Dropout(0.1))\n",
    "\n",
    "model.add(L.Dense(100, kernel_initializer=init))\n",
    "model.add(L.BatchNormalization())\n",
    "model.add(L.ReLU())\n",
    "model.add(L.Dropout(0.1))\n",
    "\n",
    "model.add(L.Dense(100, kernel_initializer=init))\n",
    "model.add(L.BatchNormalization())\n",
    "model.add(L.ReLU())\n",
    "model.add(L.Dropout(0.1))\n",
    "\n",
    "model.add(L.Dense(10, kernel_initializer = init))\n",
    "model.add(L.Softmax())\n",
    "\n",
    "opt = keras.optimizers.Adam(learning_rate=1e-4)\n",
    "\n",
    "model.compile(loss = 'sparse_categorical_crossentropy', \n",
    "                  metrics=[\"sparse_categorical_accuracy\"], \n",
    "                  optimizer=opt)\n",
    "tf.random.set_seed(42)\n",
    "\n",
    "hist10 = model.fit(X_train, y_train, batch_size=500, epochs=20, validation_data=(X_val, y_val))"
   ]
  },
  {
   "cell_type": "code",
   "execution_count": 31,
   "metadata": {},
   "outputs": [
    {
     "name": "stdout",
     "output_type": "stream",
     "text": [
      "Epoch 1/20\n",
      "100/100 [==============================] - 1s 8ms/step - loss: 1.9289 - sparse_categorical_accuracy: 0.3082 - val_loss: 1.1197 - val_sparse_categorical_accuracy: 0.6247\n",
      "Epoch 2/20\n",
      "100/100 [==============================] - 1s 7ms/step - loss: 1.1535 - sparse_categorical_accuracy: 0.5831 - val_loss: 0.7637 - val_sparse_categorical_accuracy: 0.7222\n",
      "Epoch 3/20\n",
      "100/100 [==============================] - 1s 7ms/step - loss: 0.8917 - sparse_categorical_accuracy: 0.6771 - val_loss: 0.6520 - val_sparse_categorical_accuracy: 0.7631\n",
      "Epoch 4/20\n",
      "100/100 [==============================] - 1s 7ms/step - loss: 0.7671 - sparse_categorical_accuracy: 0.7233 - val_loss: 0.5808 - val_sparse_categorical_accuracy: 0.7903\n",
      "Epoch 5/20\n",
      "100/100 [==============================] - 1s 8ms/step - loss: 0.6892 - sparse_categorical_accuracy: 0.7526 - val_loss: 0.5330 - val_sparse_categorical_accuracy: 0.8152\n",
      "Epoch 6/20\n",
      "100/100 [==============================] - 1s 7ms/step - loss: 0.6329 - sparse_categorical_accuracy: 0.7763 - val_loss: 0.4909 - val_sparse_categorical_accuracy: 0.8269\n",
      "Epoch 7/20\n",
      "100/100 [==============================] - 1s 7ms/step - loss: 0.5907 - sparse_categorical_accuracy: 0.7943 - val_loss: 0.4666 - val_sparse_categorical_accuracy: 0.8348\n",
      "Epoch 8/20\n",
      "100/100 [==============================] - 1s 7ms/step - loss: 0.5595 - sparse_categorical_accuracy: 0.8046 - val_loss: 0.4539 - val_sparse_categorical_accuracy: 0.8372\n",
      "Epoch 9/20\n",
      "100/100 [==============================] - 1s 7ms/step - loss: 0.5366 - sparse_categorical_accuracy: 0.8131 - val_loss: 0.4365 - val_sparse_categorical_accuracy: 0.8444\n",
      "Epoch 10/20\n",
      "100/100 [==============================] - 1s 9ms/step - loss: 0.5143 - sparse_categorical_accuracy: 0.8221 - val_loss: 0.4281 - val_sparse_categorical_accuracy: 0.8471\n",
      "Epoch 11/20\n",
      "100/100 [==============================] - 1s 9ms/step - loss: 0.4975 - sparse_categorical_accuracy: 0.8260 - val_loss: 0.4168 - val_sparse_categorical_accuracy: 0.8512\n",
      "Epoch 12/20\n",
      "100/100 [==============================] - 1s 8ms/step - loss: 0.4804 - sparse_categorical_accuracy: 0.8326 - val_loss: 0.4089 - val_sparse_categorical_accuracy: 0.8546\n",
      "Epoch 13/20\n",
      "100/100 [==============================] - 1s 7ms/step - loss: 0.4704 - sparse_categorical_accuracy: 0.8370 - val_loss: 0.4020 - val_sparse_categorical_accuracy: 0.8551\n",
      "Epoch 14/20\n",
      "100/100 [==============================] - 1s 7ms/step - loss: 0.4563 - sparse_categorical_accuracy: 0.8417 - val_loss: 0.3985 - val_sparse_categorical_accuracy: 0.8594\n",
      "Epoch 15/20\n",
      "100/100 [==============================] - 1s 10ms/step - loss: 0.4507 - sparse_categorical_accuracy: 0.8437 - val_loss: 0.3924 - val_sparse_categorical_accuracy: 0.8612\n",
      "Epoch 16/20\n",
      "100/100 [==============================] - 1s 7ms/step - loss: 0.4399 - sparse_categorical_accuracy: 0.8483 - val_loss: 0.3868 - val_sparse_categorical_accuracy: 0.8627\n",
      "Epoch 17/20\n",
      "100/100 [==============================] - 1s 7ms/step - loss: 0.4311 - sparse_categorical_accuracy: 0.8495 - val_loss: 0.3826 - val_sparse_categorical_accuracy: 0.8651\n",
      "Epoch 18/20\n",
      "100/100 [==============================] - 1s 7ms/step - loss: 0.4245 - sparse_categorical_accuracy: 0.8520 - val_loss: 0.3807 - val_sparse_categorical_accuracy: 0.8655\n",
      "Epoch 19/20\n",
      "100/100 [==============================] - 1s 8ms/step - loss: 0.4135 - sparse_categorical_accuracy: 0.8562 - val_loss: 0.3750 - val_sparse_categorical_accuracy: 0.8671\n",
      "Epoch 20/20\n",
      "100/100 [==============================] - 1s 10ms/step - loss: 0.4121 - sparse_categorical_accuracy: 0.8564 - val_loss: 0.3736 - val_sparse_categorical_accuracy: 0.8673\n"
     ]
    }
   ],
   "source": [
    "tf.random.set_seed(42)\n",
    "init = 'he_uniform'\n",
    "model = Sequential()\n",
    "# из картинки сделали вектор\n",
    "model.add(L.InputLayer(input_shape = (28,28)))\n",
    "model.add(L.Flatten())\n",
    "\n",
    "model.add(L.Dense(100, kernel_initializer=init))\n",
    "model.add(L.ReLU())\n",
    "model.add(L.Dropout(0.1))\n",
    "\n",
    "model.add(L.Dense(100, kernel_initializer=init))\n",
    "model.add(L.ReLU())\n",
    "model.add(L.Dropout(0.1))\n",
    "\n",
    "model.add(L.Dense(100, kernel_initializer=init))\n",
    "model.add(L.ReLU())\n",
    "model.add(L.Dropout(0.1))\n",
    "\n",
    "model.add(L.Dense(100, kernel_initializer=init))\n",
    "model.add(L.ReLU())\n",
    "model.add(L.Dropout(0.1))\n",
    "\n",
    "model.add(L.Dense(100, kernel_initializer=init))\n",
    "model.add(L.ReLU())\n",
    "model.add(L.Dropout(0.1))\n",
    "\n",
    "model.add(L.Dense(100, kernel_initializer=init))\n",
    "model.add(L.ReLU())\n",
    "model.add(L.Dropout(0.1))\n",
    "\n",
    "model.add(L.Dense(10, kernel_initializer = init))\n",
    "model.add(L.Softmax())\n",
    "\n",
    "opt = keras.optimizers.Adam(learning_rate=1e-4)\n",
    "\n",
    "model.compile(loss = 'sparse_categorical_crossentropy', \n",
    "                  metrics=[\"sparse_categorical_accuracy\"], \n",
    "                  optimizer=opt)\n",
    "tf.random.set_seed(42)\n",
    "\n",
    "hist11 = model.fit(X_train, y_train, batch_size=500, epochs=20, validation_data=(X_val, y_val))"
   ]
  },
  {
   "cell_type": "markdown",
   "metadata": {},
   "source": [
    "---"
   ]
  }
 ],
 "metadata": {
  "kernelspec": {
   "display_name": "Python 3",
   "language": "python",
   "name": "python3"
  },
  "language_info": {
   "codemirror_mode": {
    "name": "ipython",
    "version": 3
   },
   "file_extension": ".py",
   "mimetype": "text/x-python",
   "name": "python",
   "nbconvert_exporter": "python",
   "pygments_lexer": "ipython3",
   "version": "3.6.1"
  }
 },
 "nbformat": 4,
 "nbformat_minor": 2
}
