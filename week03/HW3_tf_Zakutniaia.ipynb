{
 "cells": [
  {
   "cell_type": "code",
   "execution_count": null,
   "metadata": {
    "collapsed": true
   },
   "outputs": [],
   "source": [
    "import numpy as np\n",
    "\n",
    "import tensorflow as tf\n",
    "\n",
    "import matplotlib.pyplot as plt\n",
    "%matplotlib inline"
   ]
  },
  {
   "cell_type": "markdown",
   "metadata": {},
   "source": [
    "### #1"
   ]
  },
  {
   "cell_type": "code",
   "execution_count": 107,
   "metadata": {
    "collapsed": true
   },
   "outputs": [],
   "source": [
    "x = np.array([[1.,1., 2.], [1.,-1.,1.]], dtype=np.float32)\n",
    "y = np.array([0.5,0.], dtype=np.float32).reshape(2,1)"
   ]
  },
  {
   "cell_type": "code",
   "execution_count": 114,
   "metadata": {
    "collapsed": true
   },
   "outputs": [],
   "source": [
    "class perceptron:\n",
    "    def __init__(self):\n",
    "        self.w = tf.Variable(tf.random.normal([3, 1]))\n",
    "        self.optimizer = tf.optimizers.SGD(learning_rate=0.1)\n",
    "    \n",
    "    def prediction(self, X):\n",
    "        pred = tf.matmul(X, self.w)\n",
    "        return tf.nn.relu(pred)\n",
    "    \n",
    "    def mse(self, pred, y):\n",
    "        return tf.reduce_mean((pred - y)**2)\n",
    "    \n",
    "    def train(self, X, y):\n",
    "        \n",
    "        with tf.GradientTape() as t:\n",
    "            pred = self.prediction(X)\n",
    "            loss = self.mse(pred, y)\n",
    "            \n",
    "        g = t.gradient(loss, [self.w])\n",
    "        self.optimizer.apply_gradients(zip(g, [self.w]))"
   ]
  },
  {
   "cell_type": "code",
   "execution_count": 144,
   "metadata": {},
   "outputs": [],
   "source": [
    "p = perceptron()\n",
    "\n",
    "for i in range(100):\n",
    "    p.train(x, y)"
   ]
  },
  {
   "cell_type": "code",
   "execution_count": 145,
   "metadata": {},
   "outputs": [
    {
     "data": {
      "text/plain": [
       "<tf.Tensor: shape=(2, 1), dtype=float32, numpy=\n",
       "array([[5.0000000e-01],\n",
       "       [2.3841858e-07]], dtype=float32)>"
      ]
     },
     "execution_count": 145,
     "metadata": {},
     "output_type": "execute_result"
    }
   ],
   "source": [
    "# Проверка\n",
    "tf.nn.relu(tf.matmul(x, p.w))"
   ]
  },
  {
   "cell_type": "markdown",
   "metadata": {},
   "source": [
    "### #2"
   ]
  },
  {
   "cell_type": "code",
   "execution_count": 146,
   "metadata": {
    "collapsed": true
   },
   "outputs": [],
   "source": [
    "fashion_mnist = tf.keras.datasets.fashion_mnist\n",
    "(X_train, y_train), (X_test, y_test) = fashion_mnist.load_data()"
   ]
  },
  {
   "cell_type": "code",
   "execution_count": 147,
   "metadata": {
    "collapsed": true
   },
   "outputs": [],
   "source": [
    "X_train = X_train/255\n",
    "X_test = X_test/255"
   ]
  },
  {
   "cell_type": "code",
   "execution_count": 148,
   "metadata": {
    "collapsed": true
   },
   "outputs": [],
   "source": [
    "X_train = X_train.reshape(X_train.shape[0], 28**2)\n",
    "X_test = X_test.reshape(X_test.shape[0], 28**2)"
   ]
  },
  {
   "cell_type": "code",
   "execution_count": 149,
   "metadata": {
    "collapsed": true
   },
   "outputs": [],
   "source": [
    "X_train = X_train.astype(np.float32)\n",
    "X_test = X_test.astype(np.float32)"
   ]
  },
  {
   "cell_type": "code",
   "execution_count": 150,
   "metadata": {
    "collapsed": true
   },
   "outputs": [],
   "source": [
    "y_train = tf.keras.utils.to_categorical(y_train)\n",
    "y_test = tf.keras.utils.to_categorical(y_test)"
   ]
  },
  {
   "cell_type": "code",
   "execution_count": 151,
   "metadata": {
    "collapsed": true
   },
   "outputs": [],
   "source": [
    "train_data = tf.data.Dataset.from_tensor_slices((X_train, y_train))\n",
    "train_data = train_data.shuffle(5000).batch(512)"
   ]
  },
  {
   "cell_type": "code",
   "execution_count": 152,
   "metadata": {
    "collapsed": true
   },
   "outputs": [],
   "source": [
    "from IPython import display\n",
    "\n",
    "def visualize(l1,l2, h1, h2):\n",
    "    plt.figure(figsize=(20,5)) \n",
    "    epo_range = range(1,len(h1)+1)\n",
    "    tick_range = range(1,len(h1)+1,2)\n",
    "    plt.subplot(1,2,1)\n",
    "    plt.title('Learning loss')\n",
    "    plt.plot(epo_range,l1, label='train set')\n",
    "    plt.plot(epo_range,l2, label='valid set')\n",
    "    plt.grid()\n",
    "    plt.xticks(tick_range)\n",
    "    plt.legend(title = 'Loss at:')\n",
    "    \n",
    "    plt.subplot(1,2,2)\n",
    "    plt.title('Learning accuracy')\n",
    "    plt.plot(epo_range,h1, label='train set')\n",
    "    plt.plot(epo_range,h2, label='valid set')\n",
    "    plt.grid()\n",
    "    plt.xticks(tick_range)\n",
    "    plt.ylim(0, 1.)\n",
    "    plt.legend(title = 'Accuracy at:')\n",
    "    \n",
    "    display.clear_output(wait=True)\n",
    "    plt.show()"
   ]
  },
  {
   "cell_type": "code",
   "execution_count": 157,
   "metadata": {
    "collapsed": true
   },
   "outputs": [],
   "source": [
    "class nn:\n",
    "    def __init__(self, num_features, num_classes, n_hidden_neurons):\n",
    "        self.num_features = num_features\n",
    "        self.num_classes = num_classes\n",
    "        self.n_hidden_neurons = n_hidden_neurons\n",
    "        #self.w1 = tf.Variable(tf.random.normal([self.num_features, self.num_classes]), name='w1')\n",
    "        self.w1 = tf.Variable(tf.random.normal([self.num_features, self.n_hidden_neurons]), name='w1')\n",
    "        #self.b1 = tf.Variable(tf.random.normal([self.num_classes]), name='b1')\n",
    "        self.b1 = tf.Variable(tf.random.normal([self.n_hidden_neurons]), name='b1')\n",
    "        #self.w2 = tf.Variable(tf.random.normal([self.num_classes, self.num_classes]), name='w2')\n",
    "        self.w2 = tf.Variable(tf.random.normal([self.n_hidden_neurons, self.num_classes]), name='w2')\n",
    "        self.b2 = tf.Variable(tf.random.normal([self.num_classes]), name='b2')\n",
    "        self.optimizer = tf.optimizers.Adam(0.01)\n",
    "        \n",
    "    def nn(self, X):\n",
    "        hidden_neurons = tf.nn.relu(tf.matmul(X,self.w1)+self.b1)\n",
    "        return tf.nn.softmax(tf.matmul(hidden_neurons,self.w2)+self.b2)\n",
    "    \n",
    "    def logloss(self, p_pred, y_true):\n",
    "        p_pred = tf.clip_by_value(p_pred, 1e-9, 1.)\n",
    "        return -tf.reduce_mean(tf.reduce_sum(y_true * tf.math.log(p_pred), axis=1))\n",
    "    \n",
    "    def accuracy(self, y_pred, y_true):\n",
    "        correct_prediction = tf.equal(tf.argmax(y_pred,axis=1), tf.argmax(y_true,axis=1))\n",
    "        correct_prediction = tf.cast(correct_prediction, tf.float32)\n",
    "        return tf.reduce_mean(correct_prediction)\n",
    "    \n",
    "    def model_train(self, X, Y):\n",
    "        \n",
    "        with tf.GradientTape() as g:\n",
    "            p_pred = self.nn(X)\n",
    "            logloss_value = self.logloss(p_pred, Y)\n",
    "        gradients = g.gradient(logloss_value,[self.w1,self.b1, self.w2,self.b2])\n",
    "        self.optimizer.apply_gradients(zip(gradients, [self.w1,self.b1, self.w2,self.b2]))"
   ]
  },
  {
   "cell_type": "code",
   "execution_count": 164,
   "metadata": {},
   "outputs": [],
   "source": [
    "num_classes = 10\n",
    "num_features = 784\n",
    "n_hidden_neurons = 8\n",
    "\n",
    "our_nn = nn(num_features, num_classes, n_hidden_neurons)"
   ]
  },
  {
   "cell_type": "code",
   "execution_count": 165,
   "metadata": {},
   "outputs": [
    {
     "data": {
      "image/png": "[encoded data removed]",
      "text/plain": [
       "<Figure size 1440x360 with 2 Axes>"
      ]
     },
     "metadata": {},
     "output_type": "display_data"
    }
   ],
   "source": [
    "epochs = 100           # число эпох \n",
    "training_steps = 1000  # сколько раз на эпохе теребить генератор батчей\n",
    "\n",
    "# Вектора для метрик\n",
    "loss_test, loss_train  = [ ], [ ] \n",
    "acc_test, acc_train = [ ], [ ]\n",
    "\n",
    "for i in range(epochs):\n",
    "    \n",
    "    # Проходимся по всем батчам\n",
    "    for batch_x, batch_y in train_data.take(training_steps):\n",
    "        \n",
    "        # Делаем шаг градиентного спуска \n",
    "        our_nn.model_train(batch_x, batch_y)\n",
    "    \n",
    "    # в конце эпохи считаем метрики\n",
    "    p_train = our_nn.nn(X_train)\n",
    "    p_test = our_nn.nn(X_test)\n",
    "\n",
    "    loss_train.append(our_nn.logloss(p_train, y_train))\n",
    "    loss_test.append(our_nn.logloss(p_test, y_test))\n",
    "\n",
    "    acc_train.append(our_nn.accuracy(p_train, y_train))\n",
    "    acc_test.append(our_nn.accuracy(p_test, y_test))\n",
    "\n",
    "    # визуализируем\n",
    "    visualize(loss_train, loss_test, acc_train, acc_test) "
   ]
  },
  {
   "cell_type": "code",
   "execution_count": null,
   "metadata": {
    "collapsed": true
   },
   "outputs": [],
   "source": []
  }
 ],
 "metadata": {
  "kernelspec": {
   "display_name": "Python 3",
   "language": "python",
   "name": "python3"
  },
  "language_info": {
   "codemirror_mode": {
    "name": "ipython",
    "version": 3
   },
   "file_extension": ".py",
   "mimetype": "text/x-python",
   "name": "python",
   "nbconvert_exporter": "python",
   "pygments_lexer": "ipython3",
   "version": "3.6.1"
  }
 },
 "nbformat": 4,
 "nbformat_minor": 2
}
