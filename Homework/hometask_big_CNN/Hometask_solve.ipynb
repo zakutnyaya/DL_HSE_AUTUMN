{
 "cells": [
  {
   "cell_type": "markdown",
   "metadata": {},
   "source": [
    "# Большая домашка 1: сегментация \n",
    "\n",
    "Товарищи, мы все уже великие специалисты в нейронных сетях, поэтому пришло время показать это миру. Мы будем решать конкурс от роснефти по сегментации изображений. У нас будут изображения с трехмерного куба, где надо найти различные области на этих снимках. А дальше уже смотрите сами :)\n",
    "\n",
    "Более подробно о данном конкурсе можно посмотреть [вот тута](https://boosters.pro/championship/seismic_challenge/overview)\n",
    "\n",
    "В рамках данной домашки попробуем вспомнить все, что нам мы делали. Дальше будет о подгрузке данных и небольшие направления деятельности, но в основном ваше фантазия решает этот конкурс :)"
   ]
  },
  {
   "cell_type": "code",
   "execution_count": 2,
   "metadata": {},
   "outputs": [],
   "source": [
    "import tensorflow as tf\n",
    "# import tensorflow_hub as hub\n",
    "\n",
    "import numpy as np\n",
    "import matplotlib.pyplot as plt\n",
    "%matplotlib inline\n",
    "\n",
    "import pandas as pd\n",
    "import numpy as np\n",
    "import cv2 # подгрузка и работа с данными\n",
    "import os\n",
    "import tqdm # счетчик и красивый прогресс бар"
   ]
  },
  {
   "cell_type": "code",
   "execution_count": 3,
   "metadata": {},
   "outputs": [],
   "source": [
    "IMAGE_PATH = 'data/train/images/'\n",
    "MASK_PATH = 'data/train/train.csv'\n",
    "# TEST_PATH = 'data/test/images/'\n",
    "# SAMPLE_PATH = 'make_rofneft_predict/data/sample_submission.csv'\n",
    "\n",
    "def rle2mask(mask_rle, shape):\n",
    "    # эта функция взята с конкурса и я её оставил как есть\n",
    "    \"\"\"\n",
    "    mask_rle: run-length as string formated (start length)ы\n",
    "    shape: (width,height) of array to return\n",
    "    Returns numpy array, 1 - mask, 0 - background\n",
    "    \"\"\"\n",
    "    if mask_rle != mask_rle:\n",
    "        return np.zeros_like(shape)\n",
    "\n",
    "    s = mask_rle.split()\n",
    "    starts, lengths = [np.asarray(x, dtype=int) for x in (s[0:][::2], s[1:][::2])]\n",
    "    starts -= 1\n",
    "    ends = starts + lengths\n",
    "    img = np.zeros(shape[0]*shape[1], dtype=np.uint8)\n",
    "    for lo, hi in zip(starts, ends):\n",
    "        img[lo:hi] = 1\n",
    "    return img.reshape(shape).T"
   ]
  },
  {
   "cell_type": "code",
   "execution_count": 4,
   "metadata": {},
   "outputs": [],
   "source": [
    "class TrainDataset():\n",
    "    # немного переписанный загрузчик данных опять же с конкурса\n",
    "    def __init__(self, image_dir, train):\n",
    "        self.image_dir = image_dir\n",
    "        self.train = train\n",
    "\n",
    "    def __getitem__(self, index):\n",
    "        img_name = self.train.iloc[index]['ImageId']\n",
    "        path = os.path.join(self.image_dir, img_name)\n",
    "        img = cv2.imread(path)\n",
    "        img = cv2.resize(img,(384,384))\n",
    "\n",
    "        ce_mask = [\n",
    "            (i + 1) * rle2mask(rle, shape=(img.shape[0], img.shape[1])) \\\n",
    "                for i, rle in enumerate(self.train[self.train['ImageId']==img_name]['EncodedPixels'])\n",
    "        ]\n",
    "        ce_mask = np.sum(ce_mask, axis=0, dtype=np.float32)\n",
    "\n",
    "\n",
    "        result = {\n",
    "            'image':img, \n",
    "            'mask': ce_mask,\n",
    "            'pick_name':img_name\n",
    "        }\n",
    "        return result\n",
    "    \n",
    "    def __len__(self, ):\n",
    "        return len(self.train)"
   ]
  },
  {
   "cell_type": "code",
   "execution_count": 5,
   "metadata": {},
   "outputs": [],
   "source": [
    "train = pd.read_csv(MASK_PATH)\n",
    "\n",
    "train_dataset = TrainDataset(\n",
    "    image_dir=IMAGE_PATH, \n",
    "    train=train)"
   ]
  },
  {
   "cell_type": "markdown",
   "metadata": {},
   "source": [
    "Кстати, посмотрев на данные, какие особенности данных мы видим?"
   ]
  },
  {
   "cell_type": "code",
   "execution_count": 6,
   "metadata": {},
   "outputs": [],
   "source": [
    "from tqdm import tqdm"
   ]
  },
  {
   "cell_type": "code",
   "execution_count": 7,
   "metadata": {},
   "outputs": [
    {
     "name": "stderr",
     "output_type": "stream",
     "text": [
      "100%|██████████████████████████████████████████████████████████████████████████████| 6272/6272 [01:18<00:00, 80.37it/s]\n"
     ]
    }
   ],
   "source": [
    "x_images = []\n",
    "y_images = []\n",
    "name_images = []\n",
    "for i in tqdm(range(len(train_dataset))):\n",
    "    slice_step = train_dataset[i]\n",
    "    if 'inline' in slice_step['pick_name']:\n",
    "        pickk_name = 'inline'\n",
    "    else:\n",
    "        pickk_name = 'xline'\n",
    "    name_images.append(pickk_name)\n",
    "    x_images.append(slice_step['image'][:,:,0])\n",
    "    y_images.append(slice_step['mask']) "
   ]
  },
  {
   "cell_type": "code",
   "execution_count": 8,
   "metadata": {},
   "outputs": [],
   "source": [
    "x_images = np.array(x_images)\n",
    "x_images_norm = x_images/255\n",
    "y_images = np.array(y_images,dtype=np.int)"
   ]
  },
  {
   "cell_type": "code",
   "execution_count": 75,
   "metadata": {},
   "outputs": [],
   "source": [
    "# ## проверка на нужность каналов\n",
    "# list_sample_true = []\n",
    "# for sample_pic in tqdm.tqdm(x_images):\n",
    "#     list_sample_true.append(np.sum(sample_pic[:,:,0]==sample_pic[:,:,2]))\n",
    "    \n",
    "    \n"
   ]
  },
  {
   "cell_type": "code",
   "execution_count": 93,
   "metadata": {},
   "outputs": [
    {
     "data": {
      "text/plain": [
       "<matplotlib.image.AxesImage at 0x15b6e36b908>"
      ]
     },
     "execution_count": 93,
     "metadata": {},
     "output_type": "execute_result"
    },
    {
     "data": {
      "image/png": "[encoded data removed]",
      "text/plain": [
       "<Figure size 432x288 with 1 Axes>"
      ]
     },
     "metadata": {
      "needs_background": "light"
     },
     "output_type": "display_data"
    }
   ],
   "source": [
    "plt.imshow(x_images[0],cmap='gray')"
   ]
  },
  {
   "cell_type": "code",
   "execution_count": 68,
   "metadata": {},
   "outputs": [
    {
     "data": {
      "text/plain": [
       "<matplotlib.image.AxesImage at 0x15975e31d88>"
      ]
     },
     "execution_count": 68,
     "metadata": {},
     "output_type": "execute_result"
    },
    {
     "data": {
      "image/png": "[encoded data removed]",
      "text/plain": [
       "<Figure size 432x288 with 1 Axes>"
      ]
     },
     "metadata": {
      "needs_background": "light"
     },
     "output_type": "display_data"
    }
   ],
   "source": [
    "plt.imshow(y_images[0])\n",
    "\n"
   ]
  },
  {
   "cell_type": "code",
   "execution_count": 83,
   "metadata": {},
   "outputs": [
    {
     "data": {
      "text/plain": [
       "<matplotlib.image.AxesImage at 0x1597d5b4148>"
      ]
     },
     "execution_count": 83,
     "metadata": {},
     "output_type": "execute_result"
    },
    {
     "data": {
      "image/png": "[encoded data removed]",
      "text/plain": [
       "<Figure size 432x288 with 1 Axes>"
      ]
     },
     "metadata": {
      "needs_background": "light"
     },
     "output_type": "display_data"
    }
   ],
   "source": [
    "plt.imshow(y_images[3507])"
   ]
  },
  {
   "cell_type": "code",
   "execution_count": 82,
   "metadata": {},
   "outputs": [
    {
     "data": {
      "text/plain": [
       "3507"
      ]
     },
     "execution_count": 82,
     "metadata": {},
     "output_type": "execute_result"
    }
   ],
   "source": [
    "name_images.index('xline')"
   ]
  },
  {
   "cell_type": "markdown",
   "metadata": {},
   "source": [
    "Такс, что мы хотим делать с данными дальше ? Можем ли мы что-то предположить заранее?"
   ]
  },
  {
   "cell_type": "code",
   "execution_count": null,
   "metadata": {},
   "outputs": [],
   "source": [
    "#### Ваш код игры с данными"
   ]
  },
  {
   "cell_type": "markdown",
   "metadata": {},
   "source": [
    "В самой задачке на бустере используется метрика dice по границе и всей области.\n",
    "Мы упростим задачу, просто берем dice по области.\n",
    "\n",
    "Собственно нам надо реализовать следующую формулу\n",
    "\n",
    "\\begin{equation}\n",
    "dice = \\sum_{k=0}^7(\\cfrac{2*|prediction \\cap truch|}{|prediction| + |truch|})\n",
    "\\end{equation}\n",
    "\n",
    "Ну и чтобы в случае чего не делить на ноль, надо добавить небольшой эпсилон к верхней и нижней части."
   ]
  },
  {
   "cell_type": "code",
   "execution_count": 45,
   "metadata": {},
   "outputs": [],
   "source": [
    "def dice_metric(y_true, y_pred):\n",
    "    smooth = 0.00001\n",
    "    dice_list_value = tf.constant(0.) \n",
    "    for val in range(0,8):\n",
    "        y_true_step = tf.cast((y_true==val),'float32')\n",
    "        y_pred_step = tf.cast((y_pred==val),'float32')\n",
    "        intersection = tf.reduce_sum(y_true_step*y_pred_step,axis=(1,2))\n",
    "        union = tf.reduce_sum(y_true_step,axis=(1,2))+tf.reduce_sum(y_pred_step,axis=(1,2))\n",
    "        dice = (2*intersection+smooth)/union\n",
    "        dice_list_value += dice\n",
    "    return tf.reduce_mean(dice_list_value/8)\n"
   ]
  },
  {
   "cell_type": "markdown",
   "metadata": {},
   "source": [
    "Придумываем бейзлайн для всего нашего кусочка - должны же мы его превзойти!"
   ]
  },
  {
   "cell_type": "code",
   "execution_count": null,
   "metadata": {},
   "outputs": [],
   "source": [
    "# Код бейзлайна\n",
    "# Усреднить маски и сравнивать с полученной маской"
   ]
  },
  {
   "cell_type": "markdown",
   "metadata": {},
   "source": [
    "Ну что же, теперь пришло время к моделям!\n",
    "Начнем с простой модельки - fully-convolution-net.\n",
    "\n",
    "И да - архитектура на ваш вкус и цвет :)\n",
    "\n",
    "Но прежде чем начинать, какие callback нам точно потребуются? (вне зависимости от архитектуры)"
   ]
  },
  {
   "cell_type": "code",
   "execution_count": null,
   "metadata": {},
   "outputs": [],
   "source": [
    "# Собираем fully-convolution-net"
   ]
  },
  {
   "cell_type": "markdown",
   "metadata": {},
   "source": [
    "Собираем u-net. Смотрим как оно :)"
   ]
  },
  {
   "cell_type": "code",
   "execution_count": null,
   "metadata": {},
   "outputs": [],
   "source": [
    "# Собираем u-net"
   ]
  },
  {
   "cell_type": "markdown",
   "metadata": {},
   "source": [
    "Ну чтож, время вашего творчества - меняем архитектуры, смотрим и вспоминаем, что же ещё мы не учли и что может нам помочь. Да и вообще -какие подходы ещё не использованы! Ещё имеет смысл попробовать transfer learning!"
   ]
  },
  {
   "cell_type": "code",
   "execution_count": null,
   "metadata": {},
   "outputs": [],
   "source": [
    "### играемся на все деньги"
   ]
  },
  {
   "cell_type": "markdown",
   "metadata": {},
   "source": [
    "И доп задачка для всех - а что если обучить часть (или весь) unet как автоэнкодер...\n"
   ]
  },
  {
   "cell_type": "code",
   "execution_count": null,
   "metadata": {},
   "outputs": [],
   "source": [
    "##############################"
   ]
  }
 ],
 "metadata": {
  "kernelspec": {
   "display_name": "Python 3",
   "language": "python",
   "name": "python3"
  },
  "language_info": {
   "codemirror_mode": {
    "name": "ipython",
    "version": 3
   },
   "file_extension": ".py",
   "mimetype": "text/x-python",
   "name": "python",
   "nbconvert_exporter": "python",
   "pygments_lexer": "ipython3",
   "version": "3.7.4"
  }
 },
 "nbformat": 4,
 "nbformat_minor": 2
}
